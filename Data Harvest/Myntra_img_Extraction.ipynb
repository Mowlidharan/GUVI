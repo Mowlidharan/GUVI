{
 "cells": [
  {
   "cell_type": "markdown",
   "metadata": {},
   "source": [
    "\"\"\" Image Extraction \"\"\""
   ]
  },
  {
   "cell_type": "code",
   "execution_count": 1,
   "metadata": {},
   "outputs": [],
   "source": [
    "# pip install selenium"
   ]
  },
  {
   "cell_type": "code",
   "execution_count": 1,
   "metadata": {},
   "outputs": [],
   "source": [
    "import pandas as pd"
   ]
  },
  {
   "cell_type": "code",
   "execution_count": 2,
   "metadata": {},
   "outputs": [],
   "source": [
    "import pandas as pd\n",
    "from selenium import webdriver\n",
    "from selenium.webdriver.common.by import By\n",
    "import time\n"
   ]
  },
  {
   "cell_type": "code",
   "execution_count": 3,
   "metadata": {},
   "outputs": [
    {
     "name": "stdout",
     "output_type": "stream",
     "text": [
      "Final DataFrame:\n"
     ]
    },
    {
     "data": {
      "text/html": [
       "<div>\n",
       "<style scoped>\n",
       "    .dataframe tbody tr th:only-of-type {\n",
       "        vertical-align: middle;\n",
       "    }\n",
       "\n",
       "    .dataframe tbody tr th {\n",
       "        vertical-align: top;\n",
       "    }\n",
       "\n",
       "    .dataframe thead th {\n",
       "        text-align: right;\n",
       "    }\n",
       "</style>\n",
       "<table border=\"1\" class=\"dataframe\">\n",
       "  <thead>\n",
       "    <tr style=\"text-align: right;\">\n",
       "      <th></th>\n",
       "      <th>Brand_Name</th>\n",
       "      <th>Product_Description</th>\n",
       "      <th>Product_Detail_Description</th>\n",
       "      <th>Discounted_Price</th>\n",
       "      <th>Original_Price</th>\n",
       "      <th>Discount_Percent</th>\n",
       "      <th>Links_of_the_Product_Images</th>\n",
       "      <th>Links_of_the_Product_Zoomed_Images</th>\n",
       "    </tr>\n",
       "  </thead>\n",
       "  <tbody>\n",
       "    <tr>\n",
       "      <th>0</th>\n",
       "      <td>Stormborn</td>\n",
       "      <td>Oversized Pure Cotton T-shirt</td>\n",
       "      <td>Stormborn Graphic Printed Oversized Drop Shoul...</td>\n",
       "      <td>Rs. 549</td>\n",
       "      <td>Rs. 999</td>\n",
       "      <td>(45% OFF)</td>\n",
       "      <td>https://assets.myntassets.com/dpr_2,q_60,w_210...</td>\n",
       "      <td>\\n    https://assets.myntassets.com/f_webp,dpr...</td>\n",
       "    </tr>\n",
       "    <tr>\n",
       "      <th>1</th>\n",
       "      <td>BULLMER</td>\n",
       "      <td>Printed Cotton T-shirt</td>\n",
       "      <td>BULLMER Graphic Printed Oversized Cotton T-shirt</td>\n",
       "      <td>Rs. 389</td>\n",
       "      <td>Rs. 1499</td>\n",
       "      <td>(74% OFF)</td>\n",
       "      <td>https://assets.myntassets.com/dpr_2,q_60,w_210...</td>\n",
       "      <td>\\n    https://assets.myntassets.com/f_webp,dpr...</td>\n",
       "    </tr>\n",
       "    <tr>\n",
       "      <th>2</th>\n",
       "      <td>Elibolz</td>\n",
       "      <td>Oversized Cotton T-shirt</td>\n",
       "      <td>Elibolz Typography Printed Oversized Cotton T-...</td>\n",
       "      <td>Rs. 499</td>\n",
       "      <td>Rs. 799</td>\n",
       "      <td>(Rs. 300 OFF)</td>\n",
       "      <td>https://assets.myntassets.com/dpr_2,q_60,w_210...</td>\n",
       "      <td>\\n    https://assets.myntassets.com/f_webp,dpr...</td>\n",
       "    </tr>\n",
       "    <tr>\n",
       "      <th>3</th>\n",
       "      <td>BULLMER</td>\n",
       "      <td>Oversized Cotton T-shirt</td>\n",
       "      <td>BULLMER Graphic Printed Round Neck Oversized C...</td>\n",
       "      <td>Rs. 389</td>\n",
       "      <td>Rs. 1499</td>\n",
       "      <td>(74% OFF)</td>\n",
       "      <td>https://assets.myntassets.com/dpr_2,q_60,w_210...</td>\n",
       "      <td>\\n    https://assets.myntassets.com/f_webp,dpr...</td>\n",
       "    </tr>\n",
       "    <tr>\n",
       "      <th>4</th>\n",
       "      <td>Stormborn</td>\n",
       "      <td>Pure Cotton Oversized T-shirt</td>\n",
       "      <td>Stormborn Graphic Printed Drop Shoulder Sleeve...</td>\n",
       "      <td>Rs. 539</td>\n",
       "      <td>Rs. 999</td>\n",
       "      <td>(46% OFF)</td>\n",
       "      <td>https://assets.myntassets.com/dpr_2,q_60,w_210...</td>\n",
       "      <td>\\n    https://assets.myntassets.com/f_webp,dpr...</td>\n",
       "    </tr>\n",
       "  </tbody>\n",
       "</table>\n",
       "</div>"
      ],
      "text/plain": [
       "  Brand_Name            Product_Description  \\\n",
       "0  Stormborn  Oversized Pure Cotton T-shirt   \n",
       "1    BULLMER         Printed Cotton T-shirt   \n",
       "2    Elibolz       Oversized Cotton T-shirt   \n",
       "3    BULLMER       Oversized Cotton T-shirt   \n",
       "4  Stormborn  Pure Cotton Oversized T-shirt   \n",
       "\n",
       "                          Product_Detail_Description Discounted_Price  \\\n",
       "0  Stormborn Graphic Printed Oversized Drop Shoul...          Rs. 549   \n",
       "1   BULLMER Graphic Printed Oversized Cotton T-shirt          Rs. 389   \n",
       "2  Elibolz Typography Printed Oversized Cotton T-...          Rs. 499   \n",
       "3  BULLMER Graphic Printed Round Neck Oversized C...          Rs. 389   \n",
       "4  Stormborn Graphic Printed Drop Shoulder Sleeve...          Rs. 539   \n",
       "\n",
       "  Original_Price Discount_Percent  \\\n",
       "0        Rs. 999        (45% OFF)   \n",
       "1       Rs. 1499        (74% OFF)   \n",
       "2        Rs. 799    (Rs. 300 OFF)   \n",
       "3       Rs. 1499        (74% OFF)   \n",
       "4        Rs. 999        (46% OFF)   \n",
       "\n",
       "                         Links_of_the_Product_Images  \\\n",
       "0  https://assets.myntassets.com/dpr_2,q_60,w_210...   \n",
       "1  https://assets.myntassets.com/dpr_2,q_60,w_210...   \n",
       "2  https://assets.myntassets.com/dpr_2,q_60,w_210...   \n",
       "3  https://assets.myntassets.com/dpr_2,q_60,w_210...   \n",
       "4  https://assets.myntassets.com/dpr_2,q_60,w_210...   \n",
       "\n",
       "                  Links_of_the_Product_Zoomed_Images  \n",
       "0  \\n    https://assets.myntassets.com/f_webp,dpr...  \n",
       "1  \\n    https://assets.myntassets.com/f_webp,dpr...  \n",
       "2  \\n    https://assets.myntassets.com/f_webp,dpr...  \n",
       "3  \\n    https://assets.myntassets.com/f_webp,dpr...  \n",
       "4  \\n    https://assets.myntassets.com/f_webp,dpr...  "
      ]
     },
     "execution_count": 3,
     "metadata": {},
     "output_type": "execute_result"
    }
   ],
   "source": [
    "def scroll_down_slowly():\n",
    "    driver.execute_script(\"window.scrollBy(0, 500)\")\n",
    "    time.sleep(1)\n",
    "\n",
    "def extract_data_from_page():\n",
    "    brand_names = driver.find_elements(By.CSS_SELECTOR, 'div.product-productMetaInfo > h3')\n",
    "    product_descriptions = driver.find_elements(By.XPATH, \"//*[@class='product-product']\")\n",
    "    discount_prices = driver.find_elements(By.XPATH, '//*[@class=\"product-discountedPrice\"]')\n",
    "    original_prices = driver.find_elements(By.XPATH, '//span[@class=\"product-strike\"]')\n",
    "    discounts = driver.find_elements(By.XPATH, '//span[@class=\"product-discountPercentage\"]')\n",
    "    img_data = driver.find_elements(By.CSS_SELECTOR, 'img.img-responsive')\n",
    "    image_elements = driver.find_elements(By.XPATH, '//source')\n",
    "\n",
    "    data_list = []\n",
    "\n",
    "    for i in range(len(brand_names)):\n",
    "        data = {\n",
    "            'Brand_Name': brand_names[i].text.strip() if i < len(brand_names) else '',\n",
    "            'Product_Description' :product_descriptions[i].text.strip() if i < len(product_descriptions) else '',\n",
    "            'Product_Detail_Description':  img_data[i].get_attribute('title') if i < len(img_data) else '' ,\n",
    "            'Discounted_Price': discount_prices[i].text.strip() if i < len(discount_prices) else '',\n",
    "            'Original_Price': original_prices[i].text.strip() if i < len(original_prices) else '',\n",
    "            'Discount_Percent': discounts[i].text.strip() if i < len(discounts) else '',\n",
    "            'Links_of_the_Product_Images': img_data[i].get_attribute('src') if i < len(img_data) else '',\n",
    "            'Links_of_the_Product_Zoomed_Images': image_elements[i].get_attribute('srcset') if i < len(image_elements) else ''\n",
    "            \n",
    "        }\n",
    "        data_list.append(data)\n",
    "\n",
    "    return data_list\n",
    "\n",
    "columns = ['Brand_Name', 'Product_Description','Product_Detail_Description', 'Discounted_Price', 'Original_Price', 'Discount_Percent', 'Links_of_the_Product_Images', 'Links_of_the_Product_Zoomed_Images']\n",
    "data_list = []\n",
    "\n",
    "driver = webdriver.Chrome()\n",
    "\n",
    "for page_number in range(1, 4):\n",
    "    page_url = f\"https://www.myntra.com/men-tshirts?p={page_number}\"\n",
    "    driver.get(page_url)\n",
    "    driver.maximize_window()\n",
    "\n",
    "\n",
    "    for _ in range(10):\n",
    "        scroll_down_slowly()\n",
    "\n",
    "    page_data = extract_data_from_page()\n",
    "\n",
    "    data_list.extend(page_data)\n",
    "\n",
    "\n",
    "df = pd.DataFrame(data_list)\n",
    "\n",
    "\n",
    "print(\"Final DataFrame:\")\n",
    "df.head()\n"
   ]
  },
  {
   "cell_type": "code",
   "execution_count": 4,
   "metadata": {},
   "outputs": [
    {
     "name": "stdout",
     "output_type": "stream",
     "text": [
      "<class 'pandas.core.frame.DataFrame'>\n",
      "RangeIndex: 150 entries, 0 to 149\n",
      "Data columns (total 8 columns):\n",
      " #   Column                              Non-Null Count  Dtype \n",
      "---  ------                              --------------  ----- \n",
      " 0   Brand_Name                          150 non-null    object\n",
      " 1   Product_Description                 150 non-null    object\n",
      " 2   Product_Detail_Description          150 non-null    object\n",
      " 3   Discounted_Price                    150 non-null    object\n",
      " 4   Original_Price                      150 non-null    object\n",
      " 5   Discount_Percent                    150 non-null    object\n",
      " 6   Links_of_the_Product_Images         150 non-null    object\n",
      " 7   Links_of_the_Product_Zoomed_Images  150 non-null    object\n",
      "dtypes: object(8)\n",
      "memory usage: 9.5+ KB\n"
     ]
    }
   ],
   "source": [
    "df.info()"
   ]
  },
  {
   "cell_type": "markdown",
   "metadata": {},
   "source": [
    "\"\"\" Visualization \"\"\""
   ]
  },
  {
   "cell_type": "code",
   "execution_count": 5,
   "metadata": {},
   "outputs": [
    {
     "data": {
      "text/html": [
       "<div>\n",
       "<style scoped>\n",
       "    .dataframe tbody tr th:only-of-type {\n",
       "        vertical-align: middle;\n",
       "    }\n",
       "\n",
       "    .dataframe tbody tr th {\n",
       "        vertical-align: top;\n",
       "    }\n",
       "\n",
       "    .dataframe thead th {\n",
       "        text-align: right;\n",
       "    }\n",
       "</style>\n",
       "<table border=\"1\" class=\"dataframe\">\n",
       "  <thead>\n",
       "    <tr style=\"text-align: right;\">\n",
       "      <th></th>\n",
       "      <th>Brand_Name</th>\n",
       "      <th>Product_Description</th>\n",
       "      <th>Product_Detail_Description</th>\n",
       "      <th>Discounted_Price</th>\n",
       "      <th>Original_Price</th>\n",
       "      <th>Discount_Percent</th>\n",
       "      <th>Links_of_the_Product_Images</th>\n",
       "      <th>Links_of_the_Product_Zoomed_Images</th>\n",
       "    </tr>\n",
       "  </thead>\n",
       "  <tbody>\n",
       "    <tr>\n",
       "      <th>0</th>\n",
       "      <td>Stormborn</td>\n",
       "      <td>Oversized Pure Cotton T-shirt</td>\n",
       "      <td>Stormborn Graphic Printed Oversized Drop Shoul...</td>\n",
       "      <td>Rs. 549</td>\n",
       "      <td>Rs. 999</td>\n",
       "      <td>(45% OFF)</td>\n",
       "      <td>https://assets.myntassets.com/dpr_2,q_60,w_210...</td>\n",
       "      <td>\\n    https://assets.myntassets.com/f_webp,dpr...</td>\n",
       "    </tr>\n",
       "    <tr>\n",
       "      <th>1</th>\n",
       "      <td>BULLMER</td>\n",
       "      <td>Printed Cotton T-shirt</td>\n",
       "      <td>BULLMER Graphic Printed Oversized Cotton T-shirt</td>\n",
       "      <td>Rs. 389</td>\n",
       "      <td>Rs. 1499</td>\n",
       "      <td>(74% OFF)</td>\n",
       "      <td>https://assets.myntassets.com/dpr_2,q_60,w_210...</td>\n",
       "      <td>\\n    https://assets.myntassets.com/f_webp,dpr...</td>\n",
       "    </tr>\n",
       "  </tbody>\n",
       "</table>\n",
       "</div>"
      ],
      "text/plain": [
       "  Brand_Name            Product_Description  \\\n",
       "0  Stormborn  Oversized Pure Cotton T-shirt   \n",
       "1    BULLMER         Printed Cotton T-shirt   \n",
       "\n",
       "                          Product_Detail_Description Discounted_Price  \\\n",
       "0  Stormborn Graphic Printed Oversized Drop Shoul...          Rs. 549   \n",
       "1   BULLMER Graphic Printed Oversized Cotton T-shirt          Rs. 389   \n",
       "\n",
       "  Original_Price Discount_Percent  \\\n",
       "0        Rs. 999        (45% OFF)   \n",
       "1       Rs. 1499        (74% OFF)   \n",
       "\n",
       "                         Links_of_the_Product_Images  \\\n",
       "0  https://assets.myntassets.com/dpr_2,q_60,w_210...   \n",
       "1  https://assets.myntassets.com/dpr_2,q_60,w_210...   \n",
       "\n",
       "                  Links_of_the_Product_Zoomed_Images  \n",
       "0  \\n    https://assets.myntassets.com/f_webp,dpr...  \n",
       "1  \\n    https://assets.myntassets.com/f_webp,dpr...  "
      ]
     },
     "execution_count": 5,
     "metadata": {},
     "output_type": "execute_result"
    }
   ],
   "source": [
    "df.head(2)"
   ]
  },
  {
   "cell_type": "code",
   "execution_count": 7,
   "metadata": {},
   "outputs": [
    {
     "data": {
      "application/vnd.plotly.v1+json": {
       "config": {
        "plotlyServerURL": "https://plot.ly"
       },
       "data": [
        {
         "alignmentgroup": "True",
         "hovertemplate": "Discount_Percent=%{x}<br>count=%{y}<extra></extra>",
         "legendgroup": "",
         "marker": {
          "color": "#636efa",
          "pattern": {
           "shape": ""
          }
         },
         "name": "",
         "offsetgroup": "",
         "orientation": "v",
         "showlegend": false,
         "textposition": "auto",
         "type": "bar",
         "x": [
          "(45% OFF)",
          "(74% OFF)",
          "(Rs. 300 OFF)",
          "(74% OFF)",
          "(46% OFF)",
          "(60% OFF)",
          "(75% OFF)",
          "(70% OFF)",
          "(10% OFF)",
          "(Rs. 953 OFF)",
          "(75% OFF)",
          "(27% OFF)",
          "(64% OFF)",
          "(50% OFF)",
          "(27% OFF)",
          "(38% OFF)",
          "(67% OFF)",
          "(75% OFF)",
          "(61% OFF)",
          "(68% OFF)",
          "(55% OFF)",
          "(66% OFF)",
          "(70% OFF)",
          "(62% OFF)",
          "(69% OFF)",
          "(Rs. 953 OFF)",
          "(45% OFF)",
          "(42% OFF)",
          "(90% OFF)",
          "(67% OFF)",
          "(61% OFF)",
          "(68% OFF)",
          "(Rs. 953 OFF)",
          "(Rs. 290 OFF)",
          "(41% OFF)",
          "(75% OFF)",
          "(70% OFF)",
          "(68% OFF)",
          "(45% OFF)",
          "(60% OFF)",
          "(45% OFF)",
          "(45% OFF)",
          "(62% OFF)",
          "(75% OFF)",
          "(74% OFF)",
          "(64% OFF)",
          "(53% OFF)",
          "(77% OFF)",
          "",
          "",
          "(77% OFF)",
          "(65% OFF)",
          "(69% OFF)",
          "(35% OFF)",
          "(55% OFF)",
          "(50% OFF)",
          "(45% OFF)",
          "(65% OFF)",
          "(72% OFF)",
          "(75% OFF)",
          "(37% OFF)",
          "(65% OFF)",
          "(60% OFF)",
          "(27% OFF)",
          "(18% OFF)",
          "(69% OFF)",
          "(60% OFF)",
          "(35% OFF)",
          "(55% OFF)",
          "(55% OFF)",
          "(67% OFF)",
          "(65% OFF)",
          "(72% OFF)",
          "(77% OFF)",
          "(65% OFF)",
          "(54% OFF)",
          "(Rs. 550 OFF)",
          "(72% OFF)",
          "(Rs. 680 OFF)",
          "(74% OFF)",
          "(75% OFF)",
          "(Rs. 530 OFF)",
          "(65% OFF)",
          "(70% OFF)",
          "(75% OFF)",
          "(70% OFF)",
          "(77% OFF)",
          "(51% OFF)",
          "(Rs. 1191 OFF)",
          "(Rs. 480 OFF)",
          "(25% OFF)",
          "(65% OFF)",
          "(60% OFF)",
          "(56% OFF)",
          "(75% OFF)",
          "(66% OFF)",
          "(65% OFF)",
          "(Rs. 900 OFF)",
          "(60% OFF)",
          "",
          "(56% OFF)",
          "(25% OFF)",
          "(30% OFF)",
          "(57% OFF)",
          "(Rs. 300 OFF)",
          "(74% OFF)",
          "(48% OFF)",
          "(55% OFF)",
          "(35% OFF)",
          "(49% OFF)",
          "(46% OFF)",
          "(59% OFF)",
          "(Rs. 800 OFF)",
          "(67% OFF)",
          "(70% OFF)",
          "(70% OFF)",
          "(Rs. 600 OFF)",
          "(20% OFF)",
          "(30% OFF)",
          "(66% OFF)",
          "(69% OFF)",
          "(51% OFF)",
          "(45% OFF)",
          "(15% OFF)",
          "(50% OFF)",
          "(Rs. 1191 OFF)",
          "(68% OFF)",
          "(45% OFF)",
          "(65% OFF)",
          "(72% OFF)",
          "(73% OFF)",
          "(45% OFF)",
          "(67% OFF)",
          "(38% OFF)",
          "(67% OFF)",
          "(69% OFF)",
          "(30% OFF)",
          "(55% OFF)",
          "(45% OFF)",
          "(69% OFF)",
          "(55% OFF)",
          "(20% OFF)",
          "(58% OFF)",
          "(30% OFF)",
          "(67% OFF)",
          "(60% OFF)",
          "(62% OFF)",
          "(47% OFF)",
          "",
          ""
         ],
         "xaxis": "x",
         "y": [
          1,
          1,
          1,
          1,
          1,
          1,
          1,
          1,
          1,
          1,
          1,
          1,
          1,
          1,
          1,
          1,
          1,
          1,
          1,
          1,
          1,
          1,
          1,
          1,
          1,
          1,
          1,
          1,
          1,
          1,
          1,
          1,
          1,
          1,
          1,
          1,
          1,
          1,
          1,
          1,
          1,
          1,
          1,
          1,
          1,
          1,
          1,
          1,
          1,
          1,
          1,
          1,
          1,
          1,
          1,
          1,
          1,
          1,
          1,
          1,
          1,
          1,
          1,
          1,
          1,
          1,
          1,
          1,
          1,
          1,
          1,
          1,
          1,
          1,
          1,
          1,
          1,
          1,
          1,
          1,
          1,
          1,
          1,
          1,
          1,
          1,
          1,
          1,
          1,
          1,
          1,
          1,
          1,
          1,
          1,
          1,
          1,
          1,
          1,
          1,
          1,
          1,
          1,
          1,
          1,
          1,
          1,
          1,
          1,
          1,
          1,
          1,
          1,
          1,
          1,
          1,
          1,
          1,
          1,
          1,
          1,
          1,
          1,
          1,
          1,
          1,
          1,
          1,
          1,
          1,
          1,
          1,
          1,
          1,
          1,
          1,
          1,
          1,
          1,
          1,
          1,
          1,
          1,
          1,
          1,
          1,
          1,
          1,
          1,
          1
         ],
         "yaxis": "y"
        }
       ],
       "layout": {
        "barmode": "relative",
        "legend": {
         "tracegroupgap": 0
        },
        "template": {
         "data": {
          "bar": [
           {
            "error_x": {
             "color": "#2a3f5f"
            },
            "error_y": {
             "color": "#2a3f5f"
            },
            "marker": {
             "line": {
              "color": "#E5ECF6",
              "width": 0.5
             },
             "pattern": {
              "fillmode": "overlay",
              "size": 10,
              "solidity": 0.2
             }
            },
            "type": "bar"
           }
          ],
          "barpolar": [
           {
            "marker": {
             "line": {
              "color": "#E5ECF6",
              "width": 0.5
             },
             "pattern": {
              "fillmode": "overlay",
              "size": 10,
              "solidity": 0.2
             }
            },
            "type": "barpolar"
           }
          ],
          "carpet": [
           {
            "aaxis": {
             "endlinecolor": "#2a3f5f",
             "gridcolor": "white",
             "linecolor": "white",
             "minorgridcolor": "white",
             "startlinecolor": "#2a3f5f"
            },
            "baxis": {
             "endlinecolor": "#2a3f5f",
             "gridcolor": "white",
             "linecolor": "white",
             "minorgridcolor": "white",
             "startlinecolor": "#2a3f5f"
            },
            "type": "carpet"
           }
          ],
          "choropleth": [
           {
            "colorbar": {
             "outlinewidth": 0,
             "ticks": ""
            },
            "type": "choropleth"
           }
          ],
          "contour": [
           {
            "colorbar": {
             "outlinewidth": 0,
             "ticks": ""
            },
            "colorscale": [
             [
              0,
              "#0d0887"
             ],
             [
              0.1111111111111111,
              "#46039f"
             ],
             [
              0.2222222222222222,
              "#7201a8"
             ],
             [
              0.3333333333333333,
              "#9c179e"
             ],
             [
              0.4444444444444444,
              "#bd3786"
             ],
             [
              0.5555555555555556,
              "#d8576b"
             ],
             [
              0.6666666666666666,
              "#ed7953"
             ],
             [
              0.7777777777777778,
              "#fb9f3a"
             ],
             [
              0.8888888888888888,
              "#fdca26"
             ],
             [
              1,
              "#f0f921"
             ]
            ],
            "type": "contour"
           }
          ],
          "contourcarpet": [
           {
            "colorbar": {
             "outlinewidth": 0,
             "ticks": ""
            },
            "type": "contourcarpet"
           }
          ],
          "heatmap": [
           {
            "colorbar": {
             "outlinewidth": 0,
             "ticks": ""
            },
            "colorscale": [
             [
              0,
              "#0d0887"
             ],
             [
              0.1111111111111111,
              "#46039f"
             ],
             [
              0.2222222222222222,
              "#7201a8"
             ],
             [
              0.3333333333333333,
              "#9c179e"
             ],
             [
              0.4444444444444444,
              "#bd3786"
             ],
             [
              0.5555555555555556,
              "#d8576b"
             ],
             [
              0.6666666666666666,
              "#ed7953"
             ],
             [
              0.7777777777777778,
              "#fb9f3a"
             ],
             [
              0.8888888888888888,
              "#fdca26"
             ],
             [
              1,
              "#f0f921"
             ]
            ],
            "type": "heatmap"
           }
          ],
          "heatmapgl": [
           {
            "colorbar": {
             "outlinewidth": 0,
             "ticks": ""
            },
            "colorscale": [
             [
              0,
              "#0d0887"
             ],
             [
              0.1111111111111111,
              "#46039f"
             ],
             [
              0.2222222222222222,
              "#7201a8"
             ],
             [
              0.3333333333333333,
              "#9c179e"
             ],
             [
              0.4444444444444444,
              "#bd3786"
             ],
             [
              0.5555555555555556,
              "#d8576b"
             ],
             [
              0.6666666666666666,
              "#ed7953"
             ],
             [
              0.7777777777777778,
              "#fb9f3a"
             ],
             [
              0.8888888888888888,
              "#fdca26"
             ],
             [
              1,
              "#f0f921"
             ]
            ],
            "type": "heatmapgl"
           }
          ],
          "histogram": [
           {
            "marker": {
             "pattern": {
              "fillmode": "overlay",
              "size": 10,
              "solidity": 0.2
             }
            },
            "type": "histogram"
           }
          ],
          "histogram2d": [
           {
            "colorbar": {
             "outlinewidth": 0,
             "ticks": ""
            },
            "colorscale": [
             [
              0,
              "#0d0887"
             ],
             [
              0.1111111111111111,
              "#46039f"
             ],
             [
              0.2222222222222222,
              "#7201a8"
             ],
             [
              0.3333333333333333,
              "#9c179e"
             ],
             [
              0.4444444444444444,
              "#bd3786"
             ],
             [
              0.5555555555555556,
              "#d8576b"
             ],
             [
              0.6666666666666666,
              "#ed7953"
             ],
             [
              0.7777777777777778,
              "#fb9f3a"
             ],
             [
              0.8888888888888888,
              "#fdca26"
             ],
             [
              1,
              "#f0f921"
             ]
            ],
            "type": "histogram2d"
           }
          ],
          "histogram2dcontour": [
           {
            "colorbar": {
             "outlinewidth": 0,
             "ticks": ""
            },
            "colorscale": [
             [
              0,
              "#0d0887"
             ],
             [
              0.1111111111111111,
              "#46039f"
             ],
             [
              0.2222222222222222,
              "#7201a8"
             ],
             [
              0.3333333333333333,
              "#9c179e"
             ],
             [
              0.4444444444444444,
              "#bd3786"
             ],
             [
              0.5555555555555556,
              "#d8576b"
             ],
             [
              0.6666666666666666,
              "#ed7953"
             ],
             [
              0.7777777777777778,
              "#fb9f3a"
             ],
             [
              0.8888888888888888,
              "#fdca26"
             ],
             [
              1,
              "#f0f921"
             ]
            ],
            "type": "histogram2dcontour"
           }
          ],
          "mesh3d": [
           {
            "colorbar": {
             "outlinewidth": 0,
             "ticks": ""
            },
            "type": "mesh3d"
           }
          ],
          "parcoords": [
           {
            "line": {
             "colorbar": {
              "outlinewidth": 0,
              "ticks": ""
             }
            },
            "type": "parcoords"
           }
          ],
          "pie": [
           {
            "automargin": true,
            "type": "pie"
           }
          ],
          "scatter": [
           {
            "fillpattern": {
             "fillmode": "overlay",
             "size": 10,
             "solidity": 0.2
            },
            "type": "scatter"
           }
          ],
          "scatter3d": [
           {
            "line": {
             "colorbar": {
              "outlinewidth": 0,
              "ticks": ""
             }
            },
            "marker": {
             "colorbar": {
              "outlinewidth": 0,
              "ticks": ""
             }
            },
            "type": "scatter3d"
           }
          ],
          "scattercarpet": [
           {
            "marker": {
             "colorbar": {
              "outlinewidth": 0,
              "ticks": ""
             }
            },
            "type": "scattercarpet"
           }
          ],
          "scattergeo": [
           {
            "marker": {
             "colorbar": {
              "outlinewidth": 0,
              "ticks": ""
             }
            },
            "type": "scattergeo"
           }
          ],
          "scattergl": [
           {
            "marker": {
             "colorbar": {
              "outlinewidth": 0,
              "ticks": ""
             }
            },
            "type": "scattergl"
           }
          ],
          "scattermapbox": [
           {
            "marker": {
             "colorbar": {
              "outlinewidth": 0,
              "ticks": ""
             }
            },
            "type": "scattermapbox"
           }
          ],
          "scatterpolar": [
           {
            "marker": {
             "colorbar": {
              "outlinewidth": 0,
              "ticks": ""
             }
            },
            "type": "scatterpolar"
           }
          ],
          "scatterpolargl": [
           {
            "marker": {
             "colorbar": {
              "outlinewidth": 0,
              "ticks": ""
             }
            },
            "type": "scatterpolargl"
           }
          ],
          "scatterternary": [
           {
            "marker": {
             "colorbar": {
              "outlinewidth": 0,
              "ticks": ""
             }
            },
            "type": "scatterternary"
           }
          ],
          "surface": [
           {
            "colorbar": {
             "outlinewidth": 0,
             "ticks": ""
            },
            "colorscale": [
             [
              0,
              "#0d0887"
             ],
             [
              0.1111111111111111,
              "#46039f"
             ],
             [
              0.2222222222222222,
              "#7201a8"
             ],
             [
              0.3333333333333333,
              "#9c179e"
             ],
             [
              0.4444444444444444,
              "#bd3786"
             ],
             [
              0.5555555555555556,
              "#d8576b"
             ],
             [
              0.6666666666666666,
              "#ed7953"
             ],
             [
              0.7777777777777778,
              "#fb9f3a"
             ],
             [
              0.8888888888888888,
              "#fdca26"
             ],
             [
              1,
              "#f0f921"
             ]
            ],
            "type": "surface"
           }
          ],
          "table": [
           {
            "cells": {
             "fill": {
              "color": "#EBF0F8"
             },
             "line": {
              "color": "white"
             }
            },
            "header": {
             "fill": {
              "color": "#C8D4E3"
             },
             "line": {
              "color": "white"
             }
            },
            "type": "table"
           }
          ]
         },
         "layout": {
          "annotationdefaults": {
           "arrowcolor": "#2a3f5f",
           "arrowhead": 0,
           "arrowwidth": 1
          },
          "autotypenumbers": "strict",
          "coloraxis": {
           "colorbar": {
            "outlinewidth": 0,
            "ticks": ""
           }
          },
          "colorscale": {
           "diverging": [
            [
             0,
             "#8e0152"
            ],
            [
             0.1,
             "#c51b7d"
            ],
            [
             0.2,
             "#de77ae"
            ],
            [
             0.3,
             "#f1b6da"
            ],
            [
             0.4,
             "#fde0ef"
            ],
            [
             0.5,
             "#f7f7f7"
            ],
            [
             0.6,
             "#e6f5d0"
            ],
            [
             0.7,
             "#b8e186"
            ],
            [
             0.8,
             "#7fbc41"
            ],
            [
             0.9,
             "#4d9221"
            ],
            [
             1,
             "#276419"
            ]
           ],
           "sequential": [
            [
             0,
             "#0d0887"
            ],
            [
             0.1111111111111111,
             "#46039f"
            ],
            [
             0.2222222222222222,
             "#7201a8"
            ],
            [
             0.3333333333333333,
             "#9c179e"
            ],
            [
             0.4444444444444444,
             "#bd3786"
            ],
            [
             0.5555555555555556,
             "#d8576b"
            ],
            [
             0.6666666666666666,
             "#ed7953"
            ],
            [
             0.7777777777777778,
             "#fb9f3a"
            ],
            [
             0.8888888888888888,
             "#fdca26"
            ],
            [
             1,
             "#f0f921"
            ]
           ],
           "sequentialminus": [
            [
             0,
             "#0d0887"
            ],
            [
             0.1111111111111111,
             "#46039f"
            ],
            [
             0.2222222222222222,
             "#7201a8"
            ],
            [
             0.3333333333333333,
             "#9c179e"
            ],
            [
             0.4444444444444444,
             "#bd3786"
            ],
            [
             0.5555555555555556,
             "#d8576b"
            ],
            [
             0.6666666666666666,
             "#ed7953"
            ],
            [
             0.7777777777777778,
             "#fb9f3a"
            ],
            [
             0.8888888888888888,
             "#fdca26"
            ],
            [
             1,
             "#f0f921"
            ]
           ]
          },
          "colorway": [
           "#636efa",
           "#EF553B",
           "#00cc96",
           "#ab63fa",
           "#FFA15A",
           "#19d3f3",
           "#FF6692",
           "#B6E880",
           "#FF97FF",
           "#FECB52"
          ],
          "font": {
           "color": "#2a3f5f"
          },
          "geo": {
           "bgcolor": "white",
           "lakecolor": "white",
           "landcolor": "#E5ECF6",
           "showlakes": true,
           "showland": true,
           "subunitcolor": "white"
          },
          "hoverlabel": {
           "align": "left"
          },
          "hovermode": "closest",
          "mapbox": {
           "style": "light"
          },
          "paper_bgcolor": "white",
          "plot_bgcolor": "#E5ECF6",
          "polar": {
           "angularaxis": {
            "gridcolor": "white",
            "linecolor": "white",
            "ticks": ""
           },
           "bgcolor": "#E5ECF6",
           "radialaxis": {
            "gridcolor": "white",
            "linecolor": "white",
            "ticks": ""
           }
          },
          "scene": {
           "xaxis": {
            "backgroundcolor": "#E5ECF6",
            "gridcolor": "white",
            "gridwidth": 2,
            "linecolor": "white",
            "showbackground": true,
            "ticks": "",
            "zerolinecolor": "white"
           },
           "yaxis": {
            "backgroundcolor": "#E5ECF6",
            "gridcolor": "white",
            "gridwidth": 2,
            "linecolor": "white",
            "showbackground": true,
            "ticks": "",
            "zerolinecolor": "white"
           },
           "zaxis": {
            "backgroundcolor": "#E5ECF6",
            "gridcolor": "white",
            "gridwidth": 2,
            "linecolor": "white",
            "showbackground": true,
            "ticks": "",
            "zerolinecolor": "white"
           }
          },
          "shapedefaults": {
           "line": {
            "color": "#2a3f5f"
           }
          },
          "ternary": {
           "aaxis": {
            "gridcolor": "white",
            "linecolor": "white",
            "ticks": ""
           },
           "baxis": {
            "gridcolor": "white",
            "linecolor": "white",
            "ticks": ""
           },
           "bgcolor": "#E5ECF6",
           "caxis": {
            "gridcolor": "white",
            "linecolor": "white",
            "ticks": ""
           }
          },
          "title": {
           "x": 0.05
          },
          "xaxis": {
           "automargin": true,
           "gridcolor": "white",
           "linecolor": "white",
           "ticks": "",
           "title": {
            "standoff": 15
           },
           "zerolinecolor": "white",
           "zerolinewidth": 2
          },
          "yaxis": {
           "automargin": true,
           "gridcolor": "white",
           "linecolor": "white",
           "ticks": "",
           "title": {
            "standoff": 15
           },
           "zerolinecolor": "white",
           "zerolinewidth": 2
          }
         }
        },
        "title": {
         "text": "Discounted Percent Counts"
        },
        "xaxis": {
         "anchor": "y",
         "domain": [
          0,
          1
         ],
         "title": {
          "text": "Discount_Percent"
         }
        },
        "yaxis": {
         "anchor": "x",
         "domain": [
          0,
          1
         ],
         "title": {
          "text": "count"
         }
        }
       }
      }
     },
     "metadata": {},
     "output_type": "display_data"
    }
   ],
   "source": [
    "import plotly.express as px\n",
    "discount_counts = df[\"Discount_Percent\"].value_counts()\n",
    "filtered_df = df[df[\"Discount_Percent\"].isin(discount_counts.index)]\n",
    "fig = px.bar(filtered_df, x='Discount_Percent',title='Discounted Percent Counts')\n",
    "fig.show()"
   ]
  },
  {
   "cell_type": "code",
   "execution_count": 8,
   "metadata": {},
   "outputs": [
    {
     "data": {
      "application/vnd.plotly.v1+json": {
       "config": {
        "plotlyServerURL": "https://plot.ly"
       },
       "data": [
        {
         "alignmentgroup": "True",
         "hovertemplate": "Brand_Name=%{x}<br>count=%{y}<extra></extra>",
         "legendgroup": "",
         "marker": {
          "color": "#636efa",
          "pattern": {
           "shape": ""
          }
         },
         "name": "",
         "offsetgroup": "",
         "orientation": "v",
         "showlegend": false,
         "textposition": "auto",
         "type": "bar",
         "x": [
          "Stormborn",
          "BULLMER",
          "Elibolz",
          "BULLMER",
          "Stormborn",
          "Roadster",
          "HERE&NOW",
          "H&M",
          "Roadster",
          "ADIDAS",
          "HERE&NOW",
          "HERE&NOW",
          "Bloopers Store",
          "Maniac",
          "HRX by Hrithik Roshan",
          "Bloopers Store",
          "Roadster",
          "H&M",
          "Kook N Keech",
          "Roadster",
          "Roadster",
          "Roadster",
          "Urbano Fashion",
          "Kryptic",
          "French Connection",
          "Roadster",
          "Huetrap",
          "HERE&NOW",
          "Roadster",
          "Hypernation",
          "MISCHIEF MONKEY",
          "Maniac",
          "Roadster",
          "FCUK",
          "HERE&NOW",
          "Roadster",
          "XYXX",
          "Roadster",
          "Kook N Keech",
          "Roadster",
          "Indian Terrain",
          "Puma",
          "Free Authority",
          "Indian Terrain",
          "Roadster",
          "Kook N Keech",
          "Nautica",
          "Maniac",
          "Kook N Keech",
          "HERE&NOW",
          "HERE&NOW",
          "HRX by Hrithik Roshan",
          "Kook N Keech",
          "U.S. Polo Assn.",
          "HRX by Hrithik Roshan",
          "HRX by Hrithik Roshan",
          "Jockey",
          "Indian Terrain",
          "HRX by Hrithik Roshan",
          "CHKOKKO",
          "Roadster",
          "The Souled Store",
          "HRX by Hrithik Roshan",
          "Kook N Keech",
          "Bloopers Store",
          "Roadster",
          "Roadster",
          "Puma",
          "Levis",
          "Minions by Kook N Keech",
          "Jack & Jones",
          "Roadster",
          "HRX by Hrithik Roshan",
          "Roadster",
          "FCUK",
          "Harvard",
          "Roadster",
          "THE HOLLANDER",
          "Kook N Keech",
          "Bewakoof",
          "Kook N Keech",
          "Roadster",
          "NOBERO",
          "Roadster",
          "Minions by Kook N Keech",
          "Roadster",
          "French Connection",
          "HERE&NOW",
          "The Souled Store",
          "OG For Real",
          "Bewakoof",
          "Blackberrys",
          "HRX by Hrithik Roshan",
          "encore by INVICTUS",
          "DILLINGER",
          "Roadster",
          "Mast & Harbour",
          "Nautica",
          "Bewakoof",
          "Harvard",
          "DILLINGER",
          "Van Heusen",
          "Blackberrys",
          "Blackberrys",
          "Roadster",
          "Elibolz",
          "Roadster",
          "WROGN",
          "HRX by Hrithik Roshan",
          "Levis",
          "WROGN",
          "HRX by Hrithik Roshan",
          "H&M",
          "Mast & Harbour",
          "Bewakoof",
          "FREE SOCIETY",
          "HRX by Hrithik Roshan",
          "Roadster",
          "Bewakoof",
          "Levis",
          "U.S. Polo Assn.",
          "Kryptic",
          "Roadster",
          "The Souled Store",
          "Campus Sutra",
          "U.S. Polo Assn.",
          "INVICTUS",
          "OG For Real",
          "Roadster",
          "HRX by Hrithik Roshan",
          "Moda Rapido",
          "Roadster",
          "Roadster",
          "HRX by Hrithik Roshan",
          "VEIRDO",
          "NEVER LOSE",
          "HERE&NOW",
          "Mast & Harbour",
          "Blackberrys",
          "Rigo",
          "HRX by Hrithik Roshan",
          "Roadster",
          "Rigo",
          "Levis",
          "HRX by Hrithik Roshan",
          "Blackberrys",
          "Roadster",
          "HRX by Hrithik Roshan",
          "STELLERS",
          "Stormborn"
         ],
         "xaxis": "x",
         "y": [
          1,
          1,
          1,
          1,
          1,
          1,
          1,
          1,
          1,
          1,
          1,
          1,
          1,
          1,
          1,
          1,
          1,
          1,
          1,
          1,
          1,
          1,
          1,
          1,
          1,
          1,
          1,
          1,
          1,
          1,
          1,
          1,
          1,
          1,
          1,
          1,
          1,
          1,
          1,
          1,
          1,
          1,
          1,
          1,
          1,
          1,
          1,
          1,
          1,
          1,
          1,
          1,
          1,
          1,
          1,
          1,
          1,
          1,
          1,
          1,
          1,
          1,
          1,
          1,
          1,
          1,
          1,
          1,
          1,
          1,
          1,
          1,
          1,
          1,
          1,
          1,
          1,
          1,
          1,
          1,
          1,
          1,
          1,
          1,
          1,
          1,
          1,
          1,
          1,
          1,
          1,
          1,
          1,
          1,
          1,
          1,
          1,
          1,
          1,
          1,
          1,
          1,
          1,
          1,
          1,
          1,
          1,
          1,
          1,
          1,
          1,
          1,
          1,
          1,
          1,
          1,
          1,
          1,
          1,
          1,
          1,
          1,
          1,
          1,
          1,
          1,
          1,
          1,
          1,
          1,
          1,
          1,
          1,
          1,
          1,
          1,
          1,
          1,
          1,
          1,
          1,
          1,
          1,
          1,
          1,
          1,
          1,
          1,
          1,
          1
         ],
         "yaxis": "y"
        }
       ],
       "layout": {
        "barmode": "relative",
        "legend": {
         "tracegroupgap": 0
        },
        "template": {
         "data": {
          "bar": [
           {
            "error_x": {
             "color": "#2a3f5f"
            },
            "error_y": {
             "color": "#2a3f5f"
            },
            "marker": {
             "line": {
              "color": "#E5ECF6",
              "width": 0.5
             },
             "pattern": {
              "fillmode": "overlay",
              "size": 10,
              "solidity": 0.2
             }
            },
            "type": "bar"
           }
          ],
          "barpolar": [
           {
            "marker": {
             "line": {
              "color": "#E5ECF6",
              "width": 0.5
             },
             "pattern": {
              "fillmode": "overlay",
              "size": 10,
              "solidity": 0.2
             }
            },
            "type": "barpolar"
           }
          ],
          "carpet": [
           {
            "aaxis": {
             "endlinecolor": "#2a3f5f",
             "gridcolor": "white",
             "linecolor": "white",
             "minorgridcolor": "white",
             "startlinecolor": "#2a3f5f"
            },
            "baxis": {
             "endlinecolor": "#2a3f5f",
             "gridcolor": "white",
             "linecolor": "white",
             "minorgridcolor": "white",
             "startlinecolor": "#2a3f5f"
            },
            "type": "carpet"
           }
          ],
          "choropleth": [
           {
            "colorbar": {
             "outlinewidth": 0,
             "ticks": ""
            },
            "type": "choropleth"
           }
          ],
          "contour": [
           {
            "colorbar": {
             "outlinewidth": 0,
             "ticks": ""
            },
            "colorscale": [
             [
              0,
              "#0d0887"
             ],
             [
              0.1111111111111111,
              "#46039f"
             ],
             [
              0.2222222222222222,
              "#7201a8"
             ],
             [
              0.3333333333333333,
              "#9c179e"
             ],
             [
              0.4444444444444444,
              "#bd3786"
             ],
             [
              0.5555555555555556,
              "#d8576b"
             ],
             [
              0.6666666666666666,
              "#ed7953"
             ],
             [
              0.7777777777777778,
              "#fb9f3a"
             ],
             [
              0.8888888888888888,
              "#fdca26"
             ],
             [
              1,
              "#f0f921"
             ]
            ],
            "type": "contour"
           }
          ],
          "contourcarpet": [
           {
            "colorbar": {
             "outlinewidth": 0,
             "ticks": ""
            },
            "type": "contourcarpet"
           }
          ],
          "heatmap": [
           {
            "colorbar": {
             "outlinewidth": 0,
             "ticks": ""
            },
            "colorscale": [
             [
              0,
              "#0d0887"
             ],
             [
              0.1111111111111111,
              "#46039f"
             ],
             [
              0.2222222222222222,
              "#7201a8"
             ],
             [
              0.3333333333333333,
              "#9c179e"
             ],
             [
              0.4444444444444444,
              "#bd3786"
             ],
             [
              0.5555555555555556,
              "#d8576b"
             ],
             [
              0.6666666666666666,
              "#ed7953"
             ],
             [
              0.7777777777777778,
              "#fb9f3a"
             ],
             [
              0.8888888888888888,
              "#fdca26"
             ],
             [
              1,
              "#f0f921"
             ]
            ],
            "type": "heatmap"
           }
          ],
          "heatmapgl": [
           {
            "colorbar": {
             "outlinewidth": 0,
             "ticks": ""
            },
            "colorscale": [
             [
              0,
              "#0d0887"
             ],
             [
              0.1111111111111111,
              "#46039f"
             ],
             [
              0.2222222222222222,
              "#7201a8"
             ],
             [
              0.3333333333333333,
              "#9c179e"
             ],
             [
              0.4444444444444444,
              "#bd3786"
             ],
             [
              0.5555555555555556,
              "#d8576b"
             ],
             [
              0.6666666666666666,
              "#ed7953"
             ],
             [
              0.7777777777777778,
              "#fb9f3a"
             ],
             [
              0.8888888888888888,
              "#fdca26"
             ],
             [
              1,
              "#f0f921"
             ]
            ],
            "type": "heatmapgl"
           }
          ],
          "histogram": [
           {
            "marker": {
             "pattern": {
              "fillmode": "overlay",
              "size": 10,
              "solidity": 0.2
             }
            },
            "type": "histogram"
           }
          ],
          "histogram2d": [
           {
            "colorbar": {
             "outlinewidth": 0,
             "ticks": ""
            },
            "colorscale": [
             [
              0,
              "#0d0887"
             ],
             [
              0.1111111111111111,
              "#46039f"
             ],
             [
              0.2222222222222222,
              "#7201a8"
             ],
             [
              0.3333333333333333,
              "#9c179e"
             ],
             [
              0.4444444444444444,
              "#bd3786"
             ],
             [
              0.5555555555555556,
              "#d8576b"
             ],
             [
              0.6666666666666666,
              "#ed7953"
             ],
             [
              0.7777777777777778,
              "#fb9f3a"
             ],
             [
              0.8888888888888888,
              "#fdca26"
             ],
             [
              1,
              "#f0f921"
             ]
            ],
            "type": "histogram2d"
           }
          ],
          "histogram2dcontour": [
           {
            "colorbar": {
             "outlinewidth": 0,
             "ticks": ""
            },
            "colorscale": [
             [
              0,
              "#0d0887"
             ],
             [
              0.1111111111111111,
              "#46039f"
             ],
             [
              0.2222222222222222,
              "#7201a8"
             ],
             [
              0.3333333333333333,
              "#9c179e"
             ],
             [
              0.4444444444444444,
              "#bd3786"
             ],
             [
              0.5555555555555556,
              "#d8576b"
             ],
             [
              0.6666666666666666,
              "#ed7953"
             ],
             [
              0.7777777777777778,
              "#fb9f3a"
             ],
             [
              0.8888888888888888,
              "#fdca26"
             ],
             [
              1,
              "#f0f921"
             ]
            ],
            "type": "histogram2dcontour"
           }
          ],
          "mesh3d": [
           {
            "colorbar": {
             "outlinewidth": 0,
             "ticks": ""
            },
            "type": "mesh3d"
           }
          ],
          "parcoords": [
           {
            "line": {
             "colorbar": {
              "outlinewidth": 0,
              "ticks": ""
             }
            },
            "type": "parcoords"
           }
          ],
          "pie": [
           {
            "automargin": true,
            "type": "pie"
           }
          ],
          "scatter": [
           {
            "fillpattern": {
             "fillmode": "overlay",
             "size": 10,
             "solidity": 0.2
            },
            "type": "scatter"
           }
          ],
          "scatter3d": [
           {
            "line": {
             "colorbar": {
              "outlinewidth": 0,
              "ticks": ""
             }
            },
            "marker": {
             "colorbar": {
              "outlinewidth": 0,
              "ticks": ""
             }
            },
            "type": "scatter3d"
           }
          ],
          "scattercarpet": [
           {
            "marker": {
             "colorbar": {
              "outlinewidth": 0,
              "ticks": ""
             }
            },
            "type": "scattercarpet"
           }
          ],
          "scattergeo": [
           {
            "marker": {
             "colorbar": {
              "outlinewidth": 0,
              "ticks": ""
             }
            },
            "type": "scattergeo"
           }
          ],
          "scattergl": [
           {
            "marker": {
             "colorbar": {
              "outlinewidth": 0,
              "ticks": ""
             }
            },
            "type": "scattergl"
           }
          ],
          "scattermapbox": [
           {
            "marker": {
             "colorbar": {
              "outlinewidth": 0,
              "ticks": ""
             }
            },
            "type": "scattermapbox"
           }
          ],
          "scatterpolar": [
           {
            "marker": {
             "colorbar": {
              "outlinewidth": 0,
              "ticks": ""
             }
            },
            "type": "scatterpolar"
           }
          ],
          "scatterpolargl": [
           {
            "marker": {
             "colorbar": {
              "outlinewidth": 0,
              "ticks": ""
             }
            },
            "type": "scatterpolargl"
           }
          ],
          "scatterternary": [
           {
            "marker": {
             "colorbar": {
              "outlinewidth": 0,
              "ticks": ""
             }
            },
            "type": "scatterternary"
           }
          ],
          "surface": [
           {
            "colorbar": {
             "outlinewidth": 0,
             "ticks": ""
            },
            "colorscale": [
             [
              0,
              "#0d0887"
             ],
             [
              0.1111111111111111,
              "#46039f"
             ],
             [
              0.2222222222222222,
              "#7201a8"
             ],
             [
              0.3333333333333333,
              "#9c179e"
             ],
             [
              0.4444444444444444,
              "#bd3786"
             ],
             [
              0.5555555555555556,
              "#d8576b"
             ],
             [
              0.6666666666666666,
              "#ed7953"
             ],
             [
              0.7777777777777778,
              "#fb9f3a"
             ],
             [
              0.8888888888888888,
              "#fdca26"
             ],
             [
              1,
              "#f0f921"
             ]
            ],
            "type": "surface"
           }
          ],
          "table": [
           {
            "cells": {
             "fill": {
              "color": "#EBF0F8"
             },
             "line": {
              "color": "white"
             }
            },
            "header": {
             "fill": {
              "color": "#C8D4E3"
             },
             "line": {
              "color": "white"
             }
            },
            "type": "table"
           }
          ]
         },
         "layout": {
          "annotationdefaults": {
           "arrowcolor": "#2a3f5f",
           "arrowhead": 0,
           "arrowwidth": 1
          },
          "autotypenumbers": "strict",
          "coloraxis": {
           "colorbar": {
            "outlinewidth": 0,
            "ticks": ""
           }
          },
          "colorscale": {
           "diverging": [
            [
             0,
             "#8e0152"
            ],
            [
             0.1,
             "#c51b7d"
            ],
            [
             0.2,
             "#de77ae"
            ],
            [
             0.3,
             "#f1b6da"
            ],
            [
             0.4,
             "#fde0ef"
            ],
            [
             0.5,
             "#f7f7f7"
            ],
            [
             0.6,
             "#e6f5d0"
            ],
            [
             0.7,
             "#b8e186"
            ],
            [
             0.8,
             "#7fbc41"
            ],
            [
             0.9,
             "#4d9221"
            ],
            [
             1,
             "#276419"
            ]
           ],
           "sequential": [
            [
             0,
             "#0d0887"
            ],
            [
             0.1111111111111111,
             "#46039f"
            ],
            [
             0.2222222222222222,
             "#7201a8"
            ],
            [
             0.3333333333333333,
             "#9c179e"
            ],
            [
             0.4444444444444444,
             "#bd3786"
            ],
            [
             0.5555555555555556,
             "#d8576b"
            ],
            [
             0.6666666666666666,
             "#ed7953"
            ],
            [
             0.7777777777777778,
             "#fb9f3a"
            ],
            [
             0.8888888888888888,
             "#fdca26"
            ],
            [
             1,
             "#f0f921"
            ]
           ],
           "sequentialminus": [
            [
             0,
             "#0d0887"
            ],
            [
             0.1111111111111111,
             "#46039f"
            ],
            [
             0.2222222222222222,
             "#7201a8"
            ],
            [
             0.3333333333333333,
             "#9c179e"
            ],
            [
             0.4444444444444444,
             "#bd3786"
            ],
            [
             0.5555555555555556,
             "#d8576b"
            ],
            [
             0.6666666666666666,
             "#ed7953"
            ],
            [
             0.7777777777777778,
             "#fb9f3a"
            ],
            [
             0.8888888888888888,
             "#fdca26"
            ],
            [
             1,
             "#f0f921"
            ]
           ]
          },
          "colorway": [
           "#636efa",
           "#EF553B",
           "#00cc96",
           "#ab63fa",
           "#FFA15A",
           "#19d3f3",
           "#FF6692",
           "#B6E880",
           "#FF97FF",
           "#FECB52"
          ],
          "font": {
           "color": "#2a3f5f"
          },
          "geo": {
           "bgcolor": "white",
           "lakecolor": "white",
           "landcolor": "#E5ECF6",
           "showlakes": true,
           "showland": true,
           "subunitcolor": "white"
          },
          "hoverlabel": {
           "align": "left"
          },
          "hovermode": "closest",
          "mapbox": {
           "style": "light"
          },
          "paper_bgcolor": "white",
          "plot_bgcolor": "#E5ECF6",
          "polar": {
           "angularaxis": {
            "gridcolor": "white",
            "linecolor": "white",
            "ticks": ""
           },
           "bgcolor": "#E5ECF6",
           "radialaxis": {
            "gridcolor": "white",
            "linecolor": "white",
            "ticks": ""
           }
          },
          "scene": {
           "xaxis": {
            "backgroundcolor": "#E5ECF6",
            "gridcolor": "white",
            "gridwidth": 2,
            "linecolor": "white",
            "showbackground": true,
            "ticks": "",
            "zerolinecolor": "white"
           },
           "yaxis": {
            "backgroundcolor": "#E5ECF6",
            "gridcolor": "white",
            "gridwidth": 2,
            "linecolor": "white",
            "showbackground": true,
            "ticks": "",
            "zerolinecolor": "white"
           },
           "zaxis": {
            "backgroundcolor": "#E5ECF6",
            "gridcolor": "white",
            "gridwidth": 2,
            "linecolor": "white",
            "showbackground": true,
            "ticks": "",
            "zerolinecolor": "white"
           }
          },
          "shapedefaults": {
           "line": {
            "color": "#2a3f5f"
           }
          },
          "ternary": {
           "aaxis": {
            "gridcolor": "white",
            "linecolor": "white",
            "ticks": ""
           },
           "baxis": {
            "gridcolor": "white",
            "linecolor": "white",
            "ticks": ""
           },
           "bgcolor": "#E5ECF6",
           "caxis": {
            "gridcolor": "white",
            "linecolor": "white",
            "ticks": ""
           }
          },
          "title": {
           "x": 0.05
          },
          "xaxis": {
           "automargin": true,
           "gridcolor": "white",
           "linecolor": "white",
           "ticks": "",
           "title": {
            "standoff": 15
           },
           "zerolinecolor": "white",
           "zerolinewidth": 2
          },
          "yaxis": {
           "automargin": true,
           "gridcolor": "white",
           "linecolor": "white",
           "ticks": "",
           "title": {
            "standoff": 15
           },
           "zerolinecolor": "white",
           "zerolinewidth": 2
          }
         }
        },
        "title": {
         "text": "Brand Name Counts"
        },
        "xaxis": {
         "anchor": "y",
         "domain": [
          0,
          1
         ],
         "title": {
          "text": "Brand_Name"
         }
        },
        "yaxis": {
         "anchor": "x",
         "domain": [
          0,
          1
         ],
         "title": {
          "text": "count"
         }
        }
       }
      }
     },
     "metadata": {},
     "output_type": "display_data"
    }
   ],
   "source": [
    "discount_counts = df[\"Brand_Name\"].value_counts()\n",
    "filtered_df = df[df[\"Brand_Name\"].isin(discount_counts.index)]\n",
    "fig = px.bar(filtered_df, x='Brand_Name', title='Brand Name Counts')\n",
    "fig.show()"
   ]
  },
  {
   "cell_type": "markdown",
   "metadata": {},
   "source": [
    "\"\"\" Data Organization \"and Store\"\""
   ]
  },
  {
   "cell_type": "code",
   "execution_count": 9,
   "metadata": {},
   "outputs": [
    {
     "data": {
      "text/html": [
       "<div>\n",
       "<style scoped>\n",
       "    .dataframe tbody tr th:only-of-type {\n",
       "        vertical-align: middle;\n",
       "    }\n",
       "\n",
       "    .dataframe tbody tr th {\n",
       "        vertical-align: top;\n",
       "    }\n",
       "\n",
       "    .dataframe thead th {\n",
       "        text-align: right;\n",
       "    }\n",
       "</style>\n",
       "<table border=\"1\" class=\"dataframe\">\n",
       "  <thead>\n",
       "    <tr style=\"text-align: right;\">\n",
       "      <th></th>\n",
       "      <th>Brand_Name</th>\n",
       "      <th>Product_Description</th>\n",
       "      <th>Product_Detail_Description</th>\n",
       "      <th>Discounted_Price</th>\n",
       "      <th>Original_Price</th>\n",
       "      <th>Discount_Percent</th>\n",
       "      <th>Links_of_the_Product_Images</th>\n",
       "      <th>Links_of_the_Product_Zoomed_Images</th>\n",
       "    </tr>\n",
       "  </thead>\n",
       "  <tbody>\n",
       "    <tr>\n",
       "      <th>0</th>\n",
       "      <td>Stormborn</td>\n",
       "      <td>Oversized Pure Cotton T-shirt</td>\n",
       "      <td>Stormborn Graphic Printed Oversized Drop Shoul...</td>\n",
       "      <td>Rs. 549</td>\n",
       "      <td>Rs. 999</td>\n",
       "      <td>(45% OFF)</td>\n",
       "      <td>https://assets.myntassets.com/dpr_2,q_60,w_210...</td>\n",
       "      <td>\\n    https://assets.myntassets.com/f_webp,dpr...</td>\n",
       "    </tr>\n",
       "    <tr>\n",
       "      <th>1</th>\n",
       "      <td>BULLMER</td>\n",
       "      <td>Printed Cotton T-shirt</td>\n",
       "      <td>BULLMER Graphic Printed Oversized Cotton T-shirt</td>\n",
       "      <td>Rs. 389</td>\n",
       "      <td>Rs. 1499</td>\n",
       "      <td>(74% OFF)</td>\n",
       "      <td>https://assets.myntassets.com/dpr_2,q_60,w_210...</td>\n",
       "      <td>\\n    https://assets.myntassets.com/f_webp,dpr...</td>\n",
       "    </tr>\n",
       "    <tr>\n",
       "      <th>2</th>\n",
       "      <td>Elibolz</td>\n",
       "      <td>Oversized Cotton T-shirt</td>\n",
       "      <td>Elibolz Typography Printed Oversized Cotton T-...</td>\n",
       "      <td>Rs. 499</td>\n",
       "      <td>Rs. 799</td>\n",
       "      <td>(Rs. 300 OFF)</td>\n",
       "      <td>https://assets.myntassets.com/dpr_2,q_60,w_210...</td>\n",
       "      <td>\\n    https://assets.myntassets.com/f_webp,dpr...</td>\n",
       "    </tr>\n",
       "    <tr>\n",
       "      <th>3</th>\n",
       "      <td>BULLMER</td>\n",
       "      <td>Oversized Cotton T-shirt</td>\n",
       "      <td>BULLMER Graphic Printed Round Neck Oversized C...</td>\n",
       "      <td>Rs. 389</td>\n",
       "      <td>Rs. 1499</td>\n",
       "      <td>(74% OFF)</td>\n",
       "      <td>https://assets.myntassets.com/dpr_2,q_60,w_210...</td>\n",
       "      <td>\\n    https://assets.myntassets.com/f_webp,dpr...</td>\n",
       "    </tr>\n",
       "    <tr>\n",
       "      <th>4</th>\n",
       "      <td>Stormborn</td>\n",
       "      <td>Pure Cotton Oversized T-shirt</td>\n",
       "      <td>Stormborn Graphic Printed Drop Shoulder Sleeve...</td>\n",
       "      <td>Rs. 539</td>\n",
       "      <td>Rs. 999</td>\n",
       "      <td>(46% OFF)</td>\n",
       "      <td>https://assets.myntassets.com/dpr_2,q_60,w_210...</td>\n",
       "      <td>\\n    https://assets.myntassets.com/f_webp,dpr...</td>\n",
       "    </tr>\n",
       "    <tr>\n",
       "      <th>5</th>\n",
       "      <td>Roadster</td>\n",
       "      <td>Colourblocked T-shirt</td>\n",
       "      <td>Roadster Men Grey Melange &amp; Black Colourblocke...</td>\n",
       "      <td>Rs. 279</td>\n",
       "      <td>Rs. 699</td>\n",
       "      <td>(60% OFF)</td>\n",
       "      <td>https://assets.myntassets.com/dpr_2,q_60,w_210...</td>\n",
       "      <td>\\n    https://assets.myntassets.com/f_webp,dpr...</td>\n",
       "    </tr>\n",
       "    <tr>\n",
       "      <th>6</th>\n",
       "      <td>HERE&amp;NOW</td>\n",
       "      <td>Pure Cotton T-shirt</td>\n",
       "      <td>HERE&amp;NOW Round Neck Pure Cotton T-shirt</td>\n",
       "      <td>Rs. 174</td>\n",
       "      <td>Rs. 699</td>\n",
       "      <td>(75% OFF)</td>\n",
       "      <td>https://assets.myntassets.com/dpr_2,q_60,w_210...</td>\n",
       "      <td>\\n    https://assets.myntassets.com/f_webp,dpr...</td>\n",
       "    </tr>\n",
       "    <tr>\n",
       "      <th>7</th>\n",
       "      <td>H&amp;M</td>\n",
       "      <td>Cotton Pure Cotton T-shirt Regular Fit</td>\n",
       "      <td>HM Men White Solid Cotton Pure Cotton T-shirt ...</td>\n",
       "      <td>Rs. 299</td>\n",
       "      <td>Rs. 999</td>\n",
       "      <td>(70% OFF)</td>\n",
       "      <td>https://assets.myntassets.com/dpr_2,q_60,w_210...</td>\n",
       "      <td>\\n    https://assets.myntassets.com/f_webp,dpr...</td>\n",
       "    </tr>\n",
       "    <tr>\n",
       "      <th>8</th>\n",
       "      <td>Roadster</td>\n",
       "      <td>Colourblocked Round Neck Pure Cotton T-shirt</td>\n",
       "      <td>Roadster Men White  Mustard Yellow Colourblock...</td>\n",
       "      <td>Rs. 899</td>\n",
       "      <td>Rs. 999</td>\n",
       "      <td>(10% OFF)</td>\n",
       "      <td>https://assets.myntassets.com/dpr_2,q_60,w_210...</td>\n",
       "      <td>\\n    https://assets.myntassets.com/f_webp,dpr...</td>\n",
       "    </tr>\n",
       "    <tr>\n",
       "      <th>9</th>\n",
       "      <td>ADIDAS</td>\n",
       "      <td>Indian Cricket ODI Fan Jersey</td>\n",
       "      <td>ADIDAS Men Indian Cricket ODI Fan Polo Collar ...</td>\n",
       "      <td>Rs. 446</td>\n",
       "      <td>Rs. 1399</td>\n",
       "      <td>(Rs. 953 OFF)</td>\n",
       "      <td>https://assets.myntassets.com/dpr_2,q_60,w_210...</td>\n",
       "      <td>\\n    https://assets.myntassets.com/f_webp,dpr...</td>\n",
       "    </tr>\n",
       "    <tr>\n",
       "      <th>10</th>\n",
       "      <td>HERE&amp;NOW</td>\n",
       "      <td>Men Printed T-shirt</td>\n",
       "      <td>HERE&amp;NOW Men Printed T-shirt</td>\n",
       "      <td>Rs. 199</td>\n",
       "      <td>Rs. 799</td>\n",
       "      <td>(75% OFF)</td>\n",
       "      <td>https://assets.myntassets.com/dpr_2,q_60,w_210...</td>\n",
       "      <td>\\n    https://assets.myntassets.com/f_webp,dpr...</td>\n",
       "    </tr>\n",
       "    <tr>\n",
       "      <th>11</th>\n",
       "      <td>HERE&amp;NOW</td>\n",
       "      <td>Graphic Printed T-shirt</td>\n",
       "      <td>HERE&amp;NOW Graphic Printed T-shirt</td>\n",
       "      <td>Rs. 729</td>\n",
       "      <td>Rs. 999</td>\n",
       "      <td>(27% OFF)</td>\n",
       "      <td>https://assets.myntassets.com/dpr_2,q_60,w_210...</td>\n",
       "      <td>\\n    https://assets.myntassets.com/f_webp,dpr...</td>\n",
       "    </tr>\n",
       "    <tr>\n",
       "      <th>12</th>\n",
       "      <td>Bloopers Store</td>\n",
       "      <td>Printed Oversized T-shirt</td>\n",
       "      <td>Bloopers Store Rabbit Printed Pure Cotton Long...</td>\n",
       "      <td>Rs. 597</td>\n",
       "      <td>Rs. 1659</td>\n",
       "      <td>(64% OFF)</td>\n",
       "      <td>https://assets.myntassets.com/dpr_2,q_60,w_210...</td>\n",
       "      <td>\\n    https://assets.myntassets.com/f_webp,dpr...</td>\n",
       "    </tr>\n",
       "    <tr>\n",
       "      <th>13</th>\n",
       "      <td>Maniac</td>\n",
       "      <td>Colourblocked Cotton T-Shirt</td>\n",
       "      <td>Maniac Colourblocked Raglan Sleeves Pure Cotto...</td>\n",
       "      <td>Rs. 349</td>\n",
       "      <td>Rs. 699</td>\n",
       "      <td>(50% OFF)</td>\n",
       "      <td>https://assets.myntassets.com/dpr_2,q_60,w_210...</td>\n",
       "      <td>\\n    https://assets.myntassets.com/f_webp,dpr...</td>\n",
       "    </tr>\n",
       "    <tr>\n",
       "      <th>14</th>\n",
       "      <td>HRX by Hrithik Roshan</td>\n",
       "      <td>Printed Pure Cotton T-shirt</td>\n",
       "      <td>HRX by Hrithik Roshan Men Teal Blue Printed Pu...</td>\n",
       "      <td>Rs. 729</td>\n",
       "      <td>Rs. 999</td>\n",
       "      <td>(27% OFF)</td>\n",
       "      <td>https://assets.myntassets.com/dpr_2,q_60,w_210...</td>\n",
       "      <td>\\n    https://assets.myntassets.com/f_webp,dpr...</td>\n",
       "    </tr>\n",
       "    <tr>\n",
       "      <th>15</th>\n",
       "      <td>Bloopers Store</td>\n",
       "      <td>Printed Oversized T-shirt</td>\n",
       "      <td>Bloopers Store Typography Printed Pure Cotton ...</td>\n",
       "      <td>Rs. 247</td>\n",
       "      <td>Rs. 399</td>\n",
       "      <td>(38% OFF)</td>\n",
       "      <td>https://assets.myntassets.com/dpr_2,q_60,w_210...</td>\n",
       "      <td>\\n    https://assets.myntassets.com/f_webp,dpr...</td>\n",
       "    </tr>\n",
       "    <tr>\n",
       "      <th>16</th>\n",
       "      <td>Roadster</td>\n",
       "      <td>Men Cotton Pure Cotton T-shirt</td>\n",
       "      <td>Roadster Men Black Cotton Pure Cotton T-shirt</td>\n",
       "      <td>Rs. 296</td>\n",
       "      <td>Rs. 899</td>\n",
       "      <td>(67% OFF)</td>\n",
       "      <td>https://assets.myntassets.com/dpr_2,q_60,w_210...</td>\n",
       "      <td>\\n    https://assets.myntassets.com/f_webp,dpr...</td>\n",
       "    </tr>\n",
       "    <tr>\n",
       "      <th>17</th>\n",
       "      <td>H&amp;M</td>\n",
       "      <td>Men Cotton Pure Cotton T-shirt Regular Fit</td>\n",
       "      <td>HM Men Black Solid Cotton Pure Cotton T-shirt ...</td>\n",
       "      <td>Rs. 274</td>\n",
       "      <td>Rs. 1099</td>\n",
       "      <td>(75% OFF)</td>\n",
       "      <td>https://assets.myntassets.com/dpr_2,q_60,w_210...</td>\n",
       "      <td>\\n    https://assets.myntassets.com/f_webp,dpr...</td>\n",
       "    </tr>\n",
       "    <tr>\n",
       "      <th>18</th>\n",
       "      <td>Kook N Keech</td>\n",
       "      <td>Cotton Oversized T-shirt</td>\n",
       "      <td>Kook N Keech Striped Pure Cotton Oversized T-s...</td>\n",
       "      <td>Rs. 389</td>\n",
       "      <td>Rs. 999</td>\n",
       "      <td>(61% OFF)</td>\n",
       "      <td>https://assets.myntassets.com/dpr_2,q_60,w_210...</td>\n",
       "      <td>\\n    https://assets.myntassets.com/f_webp,dpr...</td>\n",
       "    </tr>\n",
       "    <tr>\n",
       "      <th>19</th>\n",
       "      <td>Roadster</td>\n",
       "      <td>Polo Collar T-shirt</td>\n",
       "      <td>The Roadster Lifestyle Co. Short Sleeves Polo ...</td>\n",
       "      <td>Rs. 287</td>\n",
       "      <td>Rs. 899</td>\n",
       "      <td>(68% OFF)</td>\n",
       "      <td>https://assets.myntassets.com/dpr_2,q_60,w_210...</td>\n",
       "      <td>\\n    https://assets.myntassets.com/f_webp,dpr...</td>\n",
       "    </tr>\n",
       "    <tr>\n",
       "      <th>20</th>\n",
       "      <td>Roadster</td>\n",
       "      <td>Solid Polo Collar T-shirt</td>\n",
       "      <td>Roadster Men Maroon Solid Polo Collar T-shirt</td>\n",
       "      <td>Rs. 494</td>\n",
       "      <td>Rs. 1099</td>\n",
       "      <td>(55% OFF)</td>\n",
       "      <td>https://assets.myntassets.com/dpr_2,q_60,w_210...</td>\n",
       "      <td>\\n    https://assets.myntassets.com/f_webp,dpr...</td>\n",
       "    </tr>\n",
       "    <tr>\n",
       "      <th>21</th>\n",
       "      <td>Roadster</td>\n",
       "      <td>Printed Round Neck Pure Cotton T-shirt</td>\n",
       "      <td>Roadster Men Green  White Printed Round Neck P...</td>\n",
       "      <td>Rs. 509</td>\n",
       "      <td>Rs. 1499</td>\n",
       "      <td>(66% OFF)</td>\n",
       "      <td>https://assets.myntassets.com/dpr_2,q_60,w_210...</td>\n",
       "      <td>\\n    https://assets.myntassets.com/f_webp,dpr...</td>\n",
       "    </tr>\n",
       "    <tr>\n",
       "      <th>22</th>\n",
       "      <td>Urbano Fashion</td>\n",
       "      <td>Slim Tropical Printed Pure Cotton T-shirt</td>\n",
       "      <td>Urbano Fashion Men Teal Green Slim Fit Tropica...</td>\n",
       "      <td>Rs. 509</td>\n",
       "      <td>Rs. 1699</td>\n",
       "      <td>(70% OFF)</td>\n",
       "      <td>https://assets.myntassets.com/dpr_2,q_60,w_210...</td>\n",
       "      <td>\\n    https://assets.myntassets.com/f_webp,dpr...</td>\n",
       "    </tr>\n",
       "    <tr>\n",
       "      <th>23</th>\n",
       "      <td>Kryptic</td>\n",
       "      <td>Men Pure Cotton T-shirt</td>\n",
       "      <td>Kryptic Men White &amp; Blue Printed Polo Collar P...</td>\n",
       "      <td>Rs. 379</td>\n",
       "      <td>Rs. 999</td>\n",
       "      <td>(62% OFF)</td>\n",
       "      <td>https://assets.myntassets.com/dpr_2,q_60,w_210...</td>\n",
       "      <td>\\n    https://assets.myntassets.com/f_webp,dpr...</td>\n",
       "    </tr>\n",
       "    <tr>\n",
       "      <th>24</th>\n",
       "      <td>French Connection</td>\n",
       "      <td>Pure Cotton Polo T-shirt</td>\n",
       "      <td>French Connection Polo Collar Pure Cotton T-shirt</td>\n",
       "      <td>Rs. 340</td>\n",
       "      <td>Rs. 1099</td>\n",
       "      <td>(69% OFF)</td>\n",
       "      <td>https://assets.myntassets.com/dpr_2,q_60,w_210...</td>\n",
       "      <td>\\n    https://assets.myntassets.com/f_webp,dpr...</td>\n",
       "    </tr>\n",
       "  </tbody>\n",
       "</table>\n",
       "</div>"
      ],
      "text/plain": [
       "               Brand_Name                           Product_Description  \\\n",
       "0               Stormborn                 Oversized Pure Cotton T-shirt   \n",
       "1                 BULLMER                        Printed Cotton T-shirt   \n",
       "2                 Elibolz                      Oversized Cotton T-shirt   \n",
       "3                 BULLMER                      Oversized Cotton T-shirt   \n",
       "4               Stormborn                 Pure Cotton Oversized T-shirt   \n",
       "5                Roadster                         Colourblocked T-shirt   \n",
       "6                HERE&NOW                           Pure Cotton T-shirt   \n",
       "7                     H&M        Cotton Pure Cotton T-shirt Regular Fit   \n",
       "8                Roadster  Colourblocked Round Neck Pure Cotton T-shirt   \n",
       "9                  ADIDAS                 Indian Cricket ODI Fan Jersey   \n",
       "10               HERE&NOW                           Men Printed T-shirt   \n",
       "11               HERE&NOW                       Graphic Printed T-shirt   \n",
       "12         Bloopers Store                     Printed Oversized T-shirt   \n",
       "13                 Maniac                  Colourblocked Cotton T-Shirt   \n",
       "14  HRX by Hrithik Roshan                   Printed Pure Cotton T-shirt   \n",
       "15         Bloopers Store                     Printed Oversized T-shirt   \n",
       "16               Roadster                Men Cotton Pure Cotton T-shirt   \n",
       "17                    H&M    Men Cotton Pure Cotton T-shirt Regular Fit   \n",
       "18           Kook N Keech                      Cotton Oversized T-shirt   \n",
       "19               Roadster                           Polo Collar T-shirt   \n",
       "20               Roadster                     Solid Polo Collar T-shirt   \n",
       "21               Roadster        Printed Round Neck Pure Cotton T-shirt   \n",
       "22         Urbano Fashion     Slim Tropical Printed Pure Cotton T-shirt   \n",
       "23                Kryptic                       Men Pure Cotton T-shirt   \n",
       "24      French Connection                      Pure Cotton Polo T-shirt   \n",
       "\n",
       "                           Product_Detail_Description Discounted_Price  \\\n",
       "0   Stormborn Graphic Printed Oversized Drop Shoul...          Rs. 549   \n",
       "1    BULLMER Graphic Printed Oversized Cotton T-shirt          Rs. 389   \n",
       "2   Elibolz Typography Printed Oversized Cotton T-...          Rs. 499   \n",
       "3   BULLMER Graphic Printed Round Neck Oversized C...          Rs. 389   \n",
       "4   Stormborn Graphic Printed Drop Shoulder Sleeve...          Rs. 539   \n",
       "5   Roadster Men Grey Melange & Black Colourblocke...          Rs. 279   \n",
       "6             HERE&NOW Round Neck Pure Cotton T-shirt          Rs. 174   \n",
       "7   HM Men White Solid Cotton Pure Cotton T-shirt ...          Rs. 299   \n",
       "8   Roadster Men White  Mustard Yellow Colourblock...          Rs. 899   \n",
       "9   ADIDAS Men Indian Cricket ODI Fan Polo Collar ...          Rs. 446   \n",
       "10                       HERE&NOW Men Printed T-shirt          Rs. 199   \n",
       "11                   HERE&NOW Graphic Printed T-shirt          Rs. 729   \n",
       "12  Bloopers Store Rabbit Printed Pure Cotton Long...          Rs. 597   \n",
       "13  Maniac Colourblocked Raglan Sleeves Pure Cotto...          Rs. 349   \n",
       "14  HRX by Hrithik Roshan Men Teal Blue Printed Pu...          Rs. 729   \n",
       "15  Bloopers Store Typography Printed Pure Cotton ...          Rs. 247   \n",
       "16      Roadster Men Black Cotton Pure Cotton T-shirt          Rs. 296   \n",
       "17  HM Men Black Solid Cotton Pure Cotton T-shirt ...          Rs. 274   \n",
       "18  Kook N Keech Striped Pure Cotton Oversized T-s...          Rs. 389   \n",
       "19  The Roadster Lifestyle Co. Short Sleeves Polo ...          Rs. 287   \n",
       "20      Roadster Men Maroon Solid Polo Collar T-shirt          Rs. 494   \n",
       "21  Roadster Men Green  White Printed Round Neck P...          Rs. 509   \n",
       "22  Urbano Fashion Men Teal Green Slim Fit Tropica...          Rs. 509   \n",
       "23  Kryptic Men White & Blue Printed Polo Collar P...          Rs. 379   \n",
       "24  French Connection Polo Collar Pure Cotton T-shirt          Rs. 340   \n",
       "\n",
       "   Original_Price Discount_Percent  \\\n",
       "0         Rs. 999        (45% OFF)   \n",
       "1        Rs. 1499        (74% OFF)   \n",
       "2         Rs. 799    (Rs. 300 OFF)   \n",
       "3        Rs. 1499        (74% OFF)   \n",
       "4         Rs. 999        (46% OFF)   \n",
       "5         Rs. 699        (60% OFF)   \n",
       "6         Rs. 699        (75% OFF)   \n",
       "7         Rs. 999        (70% OFF)   \n",
       "8         Rs. 999        (10% OFF)   \n",
       "9        Rs. 1399    (Rs. 953 OFF)   \n",
       "10        Rs. 799        (75% OFF)   \n",
       "11        Rs. 999        (27% OFF)   \n",
       "12       Rs. 1659        (64% OFF)   \n",
       "13        Rs. 699        (50% OFF)   \n",
       "14        Rs. 999        (27% OFF)   \n",
       "15        Rs. 399        (38% OFF)   \n",
       "16        Rs. 899        (67% OFF)   \n",
       "17       Rs. 1099        (75% OFF)   \n",
       "18        Rs. 999        (61% OFF)   \n",
       "19        Rs. 899        (68% OFF)   \n",
       "20       Rs. 1099        (55% OFF)   \n",
       "21       Rs. 1499        (66% OFF)   \n",
       "22       Rs. 1699        (70% OFF)   \n",
       "23        Rs. 999        (62% OFF)   \n",
       "24       Rs. 1099        (69% OFF)   \n",
       "\n",
       "                          Links_of_the_Product_Images  \\\n",
       "0   https://assets.myntassets.com/dpr_2,q_60,w_210...   \n",
       "1   https://assets.myntassets.com/dpr_2,q_60,w_210...   \n",
       "2   https://assets.myntassets.com/dpr_2,q_60,w_210...   \n",
       "3   https://assets.myntassets.com/dpr_2,q_60,w_210...   \n",
       "4   https://assets.myntassets.com/dpr_2,q_60,w_210...   \n",
       "5   https://assets.myntassets.com/dpr_2,q_60,w_210...   \n",
       "6   https://assets.myntassets.com/dpr_2,q_60,w_210...   \n",
       "7   https://assets.myntassets.com/dpr_2,q_60,w_210...   \n",
       "8   https://assets.myntassets.com/dpr_2,q_60,w_210...   \n",
       "9   https://assets.myntassets.com/dpr_2,q_60,w_210...   \n",
       "10  https://assets.myntassets.com/dpr_2,q_60,w_210...   \n",
       "11  https://assets.myntassets.com/dpr_2,q_60,w_210...   \n",
       "12  https://assets.myntassets.com/dpr_2,q_60,w_210...   \n",
       "13  https://assets.myntassets.com/dpr_2,q_60,w_210...   \n",
       "14  https://assets.myntassets.com/dpr_2,q_60,w_210...   \n",
       "15  https://assets.myntassets.com/dpr_2,q_60,w_210...   \n",
       "16  https://assets.myntassets.com/dpr_2,q_60,w_210...   \n",
       "17  https://assets.myntassets.com/dpr_2,q_60,w_210...   \n",
       "18  https://assets.myntassets.com/dpr_2,q_60,w_210...   \n",
       "19  https://assets.myntassets.com/dpr_2,q_60,w_210...   \n",
       "20  https://assets.myntassets.com/dpr_2,q_60,w_210...   \n",
       "21  https://assets.myntassets.com/dpr_2,q_60,w_210...   \n",
       "22  https://assets.myntassets.com/dpr_2,q_60,w_210...   \n",
       "23  https://assets.myntassets.com/dpr_2,q_60,w_210...   \n",
       "24  https://assets.myntassets.com/dpr_2,q_60,w_210...   \n",
       "\n",
       "                   Links_of_the_Product_Zoomed_Images  \n",
       "0   \\n    https://assets.myntassets.com/f_webp,dpr...  \n",
       "1   \\n    https://assets.myntassets.com/f_webp,dpr...  \n",
       "2   \\n    https://assets.myntassets.com/f_webp,dpr...  \n",
       "3   \\n    https://assets.myntassets.com/f_webp,dpr...  \n",
       "4   \\n    https://assets.myntassets.com/f_webp,dpr...  \n",
       "5   \\n    https://assets.myntassets.com/f_webp,dpr...  \n",
       "6   \\n    https://assets.myntassets.com/f_webp,dpr...  \n",
       "7   \\n    https://assets.myntassets.com/f_webp,dpr...  \n",
       "8   \\n    https://assets.myntassets.com/f_webp,dpr...  \n",
       "9   \\n    https://assets.myntassets.com/f_webp,dpr...  \n",
       "10  \\n    https://assets.myntassets.com/f_webp,dpr...  \n",
       "11  \\n    https://assets.myntassets.com/f_webp,dpr...  \n",
       "12  \\n    https://assets.myntassets.com/f_webp,dpr...  \n",
       "13  \\n    https://assets.myntassets.com/f_webp,dpr...  \n",
       "14  \\n    https://assets.myntassets.com/f_webp,dpr...  \n",
       "15  \\n    https://assets.myntassets.com/f_webp,dpr...  \n",
       "16  \\n    https://assets.myntassets.com/f_webp,dpr...  \n",
       "17  \\n    https://assets.myntassets.com/f_webp,dpr...  \n",
       "18  \\n    https://assets.myntassets.com/f_webp,dpr...  \n",
       "19  \\n    https://assets.myntassets.com/f_webp,dpr...  \n",
       "20  \\n    https://assets.myntassets.com/f_webp,dpr...  \n",
       "21  \\n    https://assets.myntassets.com/f_webp,dpr...  \n",
       "22  \\n    https://assets.myntassets.com/f_webp,dpr...  \n",
       "23  \\n    https://assets.myntassets.com/f_webp,dpr...  \n",
       "24  \\n    https://assets.myntassets.com/f_webp,dpr...  "
      ]
     },
     "execution_count": 9,
     "metadata": {},
     "output_type": "execute_result"
    }
   ],
   "source": [
    "df.head(25)"
   ]
  },
  {
   "cell_type": "code",
   "execution_count": 10,
   "metadata": {},
   "outputs": [],
   "source": [
    "df.to_csv(\"myntra.csv\")"
   ]
  },
  {
   "cell_type": "code",
   "execution_count": 11,
   "metadata": {},
   "outputs": [],
   "source": [
    "import lancedb\n",
    "from lancedb.embeddings import EmbeddingFunctionRegistry\n",
    "import pandas as pd\n",
    "from lancedb.pydantic import LanceModel, Vector\n",
    "from lancedb.embeddings import get_registry"
   ]
  },
  {
   "cell_type": "code",
   "execution_count": 12,
   "metadata": {},
   "outputs": [],
   "source": [
    "registry = EmbeddingFunctionRegistry.get_instance()\n",
    "clip = registry.get(\"open-clip\").create()"
   ]
  },
  {
   "cell_type": "code",
   "execution_count": 13,
   "metadata": {},
   "outputs": [
    {
     "data": {
      "text/plain": [
       "OpenClipEmbeddings(max_retries=7, name='ViT-B-32', pretrained='laion2b_s34b_b79k', device='cpu', batch_size=64, normalize=True)"
      ]
     },
     "execution_count": 13,
     "metadata": {},
     "output_type": "execute_result"
    }
   ],
   "source": [
    "clip"
   ]
  },
  {
   "cell_type": "code",
   "execution_count": 14,
   "metadata": {},
   "outputs": [],
   "source": [
    "registry = EmbeddingFunctionRegistry.get_instance()\n",
    "clip = registry.get(\"open-clip\").create(query_task_type=\"retrieval_query\")\n",
    "class MyntraImgModel(LanceModel):\n",
    "    Brand_Name: str \n",
    "    Product_Description: str \n",
    "    Product_Detail_Description : str = clip.SourceField() \n",
    "    Discounted_Price: str\n",
    "    Original_Price:str\n",
    "    Discount_Percent : str\n",
    "    Links_of_the_Product_Images: str = clip.SourceField()\n",
    "    Links_of_the_Product_Zoomed_Images : str\n",
    "    vector: Vector(clip.ndims()) = clip.VectorField()\n",
    "db = lancedb.connect(\"~/.lancedb\")\n",
    "tbl = db.create_table(\"KurImages\", schema=MyntraImgModel, mode=\"overwrite\")"
   ]
  },
  {
   "cell_type": "code",
   "execution_count": 15,
   "metadata": {},
   "outputs": [],
   "source": [
    "from PIL import Image\n"
   ]
  },
  {
   "cell_type": "code",
   "execution_count": 16,
   "metadata": {},
   "outputs": [
    {
     "name": "stderr",
     "output_type": "stream",
     "text": [
      "100%|██████████| 64/64 [00:08<00:00,  7.31it/s]\n",
      "100%|██████████| 64/64 [00:08<00:00,  7.34it/s]\n",
      "100%|██████████| 22/22 [00:02<00:00,  7.83it/s]\n"
     ]
    }
   ],
   "source": [
    "tbl.add(df)"
   ]
  },
  {
   "cell_type": "code",
   "execution_count": 20,
   "metadata": {},
   "outputs": [
    {
     "data": {
      "text/html": [
       "<div>\n",
       "<style scoped>\n",
       "    .dataframe tbody tr th:only-of-type {\n",
       "        vertical-align: middle;\n",
       "    }\n",
       "\n",
       "    .dataframe tbody tr th {\n",
       "        vertical-align: top;\n",
       "    }\n",
       "\n",
       "    .dataframe thead th {\n",
       "        text-align: right;\n",
       "    }\n",
       "</style>\n",
       "<table border=\"1\" class=\"dataframe\">\n",
       "  <thead>\n",
       "    <tr style=\"text-align: right;\">\n",
       "      <th></th>\n",
       "      <th>Brand_Name</th>\n",
       "      <th>Product_Description</th>\n",
       "      <th>Product_Detail_Description</th>\n",
       "      <th>Discounted_Price</th>\n",
       "      <th>Original_Price</th>\n",
       "      <th>Discount_Percent</th>\n",
       "      <th>Links_of_the_Product_Images</th>\n",
       "      <th>Links_of_the_Product_Zoomed_Images</th>\n",
       "      <th>vector</th>\n",
       "    </tr>\n",
       "  </thead>\n",
       "  <tbody>\n",
       "    <tr>\n",
       "      <th>0</th>\n",
       "      <td>Stormborn</td>\n",
       "      <td>Oversized Pure Cotton T-shirt</td>\n",
       "      <td>Stormborn Graphic Printed Oversized Drop Shoul...</td>\n",
       "      <td>Rs. 549</td>\n",
       "      <td>Rs. 999</td>\n",
       "      <td>(45% OFF)</td>\n",
       "      <td>https://assets.myntassets.com/dpr_2,q_60,w_210...</td>\n",
       "      <td>\\n    https://assets.myntassets.com/f_webp,dpr...</td>\n",
       "      <td>[-0.03619275, 0.10491923, -0.0071644518, -0.00...</td>\n",
       "    </tr>\n",
       "    <tr>\n",
       "      <th>1</th>\n",
       "      <td>BULLMER</td>\n",
       "      <td>Printed Cotton T-shirt</td>\n",
       "      <td>BULLMER Graphic Printed Oversized Cotton T-shirt</td>\n",
       "      <td>Rs. 389</td>\n",
       "      <td>Rs. 1499</td>\n",
       "      <td>(74% OFF)</td>\n",
       "      <td>https://assets.myntassets.com/dpr_2,q_60,w_210...</td>\n",
       "      <td>\\n    https://assets.myntassets.com/f_webp,dpr...</td>\n",
       "      <td>[-0.024272757, 0.07638424, -0.07703896, -0.022...</td>\n",
       "    </tr>\n",
       "    <tr>\n",
       "      <th>2</th>\n",
       "      <td>Elibolz</td>\n",
       "      <td>Oversized Cotton T-shirt</td>\n",
       "      <td>Elibolz Typography Printed Oversized Cotton T-...</td>\n",
       "      <td>Rs. 499</td>\n",
       "      <td>Rs. 799</td>\n",
       "      <td>(Rs. 300 OFF)</td>\n",
       "      <td>https://assets.myntassets.com/dpr_2,q_60,w_210...</td>\n",
       "      <td>\\n    https://assets.myntassets.com/f_webp,dpr...</td>\n",
       "      <td>[0.0042303726, 0.0066442364, -0.012772154, -0....</td>\n",
       "    </tr>\n",
       "    <tr>\n",
       "      <th>3</th>\n",
       "      <td>BULLMER</td>\n",
       "      <td>Oversized Cotton T-shirt</td>\n",
       "      <td>BULLMER Graphic Printed Round Neck Oversized C...</td>\n",
       "      <td>Rs. 389</td>\n",
       "      <td>Rs. 1499</td>\n",
       "      <td>(74% OFF)</td>\n",
       "      <td>https://assets.myntassets.com/dpr_2,q_60,w_210...</td>\n",
       "      <td>\\n    https://assets.myntassets.com/f_webp,dpr...</td>\n",
       "      <td>[0.0047468636, -0.047513563, -0.035395317, -0....</td>\n",
       "    </tr>\n",
       "    <tr>\n",
       "      <th>4</th>\n",
       "      <td>Stormborn</td>\n",
       "      <td>Pure Cotton Oversized T-shirt</td>\n",
       "      <td>Stormborn Graphic Printed Drop Shoulder Sleeve...</td>\n",
       "      <td>Rs. 539</td>\n",
       "      <td>Rs. 999</td>\n",
       "      <td>(46% OFF)</td>\n",
       "      <td>https://assets.myntassets.com/dpr_2,q_60,w_210...</td>\n",
       "      <td>\\n    https://assets.myntassets.com/f_webp,dpr...</td>\n",
       "      <td>[-0.03878292, 0.11953718, -0.0632379, -0.00313...</td>\n",
       "    </tr>\n",
       "    <tr>\n",
       "      <th>...</th>\n",
       "      <td>...</td>\n",
       "      <td>...</td>\n",
       "      <td>...</td>\n",
       "      <td>...</td>\n",
       "      <td>...</td>\n",
       "      <td>...</td>\n",
       "      <td>...</td>\n",
       "      <td>...</td>\n",
       "      <td>...</td>\n",
       "    </tr>\n",
       "    <tr>\n",
       "      <th>145</th>\n",
       "      <td>Blackberrys</td>\n",
       "      <td>Solid Polo Collar T-shirt</td>\n",
       "      <td>Blackberrys Solid Polo Collar T-shirt</td>\n",
       "      <td>Rs. 599</td>\n",
       "      <td>Rs. 1499</td>\n",
       "      <td>(60% OFF)</td>\n",
       "      <td>https://assets.myntassets.com/dpr_2,q_60,w_210...</td>\n",
       "      <td>\\n    https://assets.myntassets.com/f_webp,dpr...</td>\n",
       "      <td>[0.018476851, 0.0048511187, 0.012291758, -0.05...</td>\n",
       "    </tr>\n",
       "    <tr>\n",
       "      <th>146</th>\n",
       "      <td>Roadster</td>\n",
       "      <td>Printed Round Neck Pure Cotton T-shirt</td>\n",
       "      <td>Roadster Men Maroon  White Printed Cotton Roun...</td>\n",
       "      <td>Rs. 759</td>\n",
       "      <td>Rs. 1999</td>\n",
       "      <td>(62% OFF)</td>\n",
       "      <td>https://assets.myntassets.com/dpr_2,q_60,w_210...</td>\n",
       "      <td>\\n    https://assets.myntassets.com/f_webp,dpr...</td>\n",
       "      <td>[0.006931192, -0.087363765, -0.035250187, -0.0...</td>\n",
       "    </tr>\n",
       "    <tr>\n",
       "      <th>147</th>\n",
       "      <td>HRX by Hrithik Roshan</td>\n",
       "      <td>Men High Neck T-shirt</td>\n",
       "      <td>HRX by Hrithik Roshan Men Solid High Neck T-shirt</td>\n",
       "      <td>Rs. 529</td>\n",
       "      <td>Rs. 999</td>\n",
       "      <td>(47% OFF)</td>\n",
       "      <td>https://assets.myntassets.com/dpr_2,q_60,w_210...</td>\n",
       "      <td>\\n    https://assets.myntassets.com/f_webp,dpr...</td>\n",
       "      <td>[0.038396847, -0.116382435, -0.09668133, -0.00...</td>\n",
       "    </tr>\n",
       "    <tr>\n",
       "      <th>148</th>\n",
       "      <td>STELLERS</td>\n",
       "      <td>Polo Collar Dry Fit T-shirt</td>\n",
       "      <td>STELLERS Polo Collar Dry Fit T-shirt</td>\n",
       "      <td></td>\n",
       "      <td></td>\n",
       "      <td></td>\n",
       "      <td>https://assets.myntassets.com/dpr_2,q_60,w_210...</td>\n",
       "      <td>\\n    https://assets.myntassets.com/f_webp,dpr...</td>\n",
       "      <td>[-0.029387137, -0.012615847, -0.055797283, -0....</td>\n",
       "    </tr>\n",
       "    <tr>\n",
       "      <th>149</th>\n",
       "      <td>Stormborn</td>\n",
       "      <td>Printed Pure Cotton T-shirt</td>\n",
       "      <td>Stormborn Graphic Printed Oversized Pure Cotto...</td>\n",
       "      <td></td>\n",
       "      <td></td>\n",
       "      <td></td>\n",
       "      <td>https://assets.myntassets.com/dpr_2,q_60,w_210...</td>\n",
       "      <td>\\n    https://assets.myntassets.com/f_webp,dpr...</td>\n",
       "      <td>[0.021261375, 0.058806464, -0.042109, -0.00945...</td>\n",
       "    </tr>\n",
       "  </tbody>\n",
       "</table>\n",
       "<p>150 rows × 9 columns</p>\n",
       "</div>"
      ],
      "text/plain": [
       "                Brand_Name                     Product_Description  \\\n",
       "0                Stormborn           Oversized Pure Cotton T-shirt   \n",
       "1                  BULLMER                  Printed Cotton T-shirt   \n",
       "2                  Elibolz                Oversized Cotton T-shirt   \n",
       "3                  BULLMER                Oversized Cotton T-shirt   \n",
       "4                Stormborn           Pure Cotton Oversized T-shirt   \n",
       "..                     ...                                     ...   \n",
       "145            Blackberrys               Solid Polo Collar T-shirt   \n",
       "146               Roadster  Printed Round Neck Pure Cotton T-shirt   \n",
       "147  HRX by Hrithik Roshan                   Men High Neck T-shirt   \n",
       "148               STELLERS             Polo Collar Dry Fit T-shirt   \n",
       "149              Stormborn             Printed Pure Cotton T-shirt   \n",
       "\n",
       "                            Product_Detail_Description Discounted_Price  \\\n",
       "0    Stormborn Graphic Printed Oversized Drop Shoul...          Rs. 549   \n",
       "1     BULLMER Graphic Printed Oversized Cotton T-shirt          Rs. 389   \n",
       "2    Elibolz Typography Printed Oversized Cotton T-...          Rs. 499   \n",
       "3    BULLMER Graphic Printed Round Neck Oversized C...          Rs. 389   \n",
       "4    Stormborn Graphic Printed Drop Shoulder Sleeve...          Rs. 539   \n",
       "..                                                 ...              ...   \n",
       "145              Blackberrys Solid Polo Collar T-shirt          Rs. 599   \n",
       "146  Roadster Men Maroon  White Printed Cotton Roun...          Rs. 759   \n",
       "147  HRX by Hrithik Roshan Men Solid High Neck T-shirt          Rs. 529   \n",
       "148               STELLERS Polo Collar Dry Fit T-shirt                    \n",
       "149  Stormborn Graphic Printed Oversized Pure Cotto...                    \n",
       "\n",
       "    Original_Price Discount_Percent  \\\n",
       "0          Rs. 999        (45% OFF)   \n",
       "1         Rs. 1499        (74% OFF)   \n",
       "2          Rs. 799    (Rs. 300 OFF)   \n",
       "3         Rs. 1499        (74% OFF)   \n",
       "4          Rs. 999        (46% OFF)   \n",
       "..             ...              ...   \n",
       "145       Rs. 1499        (60% OFF)   \n",
       "146       Rs. 1999        (62% OFF)   \n",
       "147        Rs. 999        (47% OFF)   \n",
       "148                                   \n",
       "149                                   \n",
       "\n",
       "                           Links_of_the_Product_Images  \\\n",
       "0    https://assets.myntassets.com/dpr_2,q_60,w_210...   \n",
       "1    https://assets.myntassets.com/dpr_2,q_60,w_210...   \n",
       "2    https://assets.myntassets.com/dpr_2,q_60,w_210...   \n",
       "3    https://assets.myntassets.com/dpr_2,q_60,w_210...   \n",
       "4    https://assets.myntassets.com/dpr_2,q_60,w_210...   \n",
       "..                                                 ...   \n",
       "145  https://assets.myntassets.com/dpr_2,q_60,w_210...   \n",
       "146  https://assets.myntassets.com/dpr_2,q_60,w_210...   \n",
       "147  https://assets.myntassets.com/dpr_2,q_60,w_210...   \n",
       "148  https://assets.myntassets.com/dpr_2,q_60,w_210...   \n",
       "149  https://assets.myntassets.com/dpr_2,q_60,w_210...   \n",
       "\n",
       "                    Links_of_the_Product_Zoomed_Images  \\\n",
       "0    \\n    https://assets.myntassets.com/f_webp,dpr...   \n",
       "1    \\n    https://assets.myntassets.com/f_webp,dpr...   \n",
       "2    \\n    https://assets.myntassets.com/f_webp,dpr...   \n",
       "3    \\n    https://assets.myntassets.com/f_webp,dpr...   \n",
       "4    \\n    https://assets.myntassets.com/f_webp,dpr...   \n",
       "..                                                 ...   \n",
       "145  \\n    https://assets.myntassets.com/f_webp,dpr...   \n",
       "146  \\n    https://assets.myntassets.com/f_webp,dpr...   \n",
       "147  \\n    https://assets.myntassets.com/f_webp,dpr...   \n",
       "148  \\n    https://assets.myntassets.com/f_webp,dpr...   \n",
       "149  \\n    https://assets.myntassets.com/f_webp,dpr...   \n",
       "\n",
       "                                                vector  \n",
       "0    [-0.03619275, 0.10491923, -0.0071644518, -0.00...  \n",
       "1    [-0.024272757, 0.07638424, -0.07703896, -0.022...  \n",
       "2    [0.0042303726, 0.0066442364, -0.012772154, -0....  \n",
       "3    [0.0047468636, -0.047513563, -0.035395317, -0....  \n",
       "4    [-0.03878292, 0.11953718, -0.0632379, -0.00313...  \n",
       "..                                                 ...  \n",
       "145  [0.018476851, 0.0048511187, 0.012291758, -0.05...  \n",
       "146  [0.006931192, -0.087363765, -0.035250187, -0.0...  \n",
       "147  [0.038396847, -0.116382435, -0.09668133, -0.00...  \n",
       "148  [-0.029387137, -0.012615847, -0.055797283, -0....  \n",
       "149  [0.021261375, 0.058806464, -0.042109, -0.00945...  \n",
       "\n",
       "[150 rows x 9 columns]"
      ]
     },
     "execution_count": 20,
     "metadata": {},
     "output_type": "execute_result"
    }
   ],
   "source": [
    "tbl.to_pandas()"
   ]
  },
  {
   "cell_type": "code",
   "execution_count": 21,
   "metadata": {},
   "outputs": [
    {
     "data": {
      "text/html": [
       "<div>\n",
       "<style scoped>\n",
       "    .dataframe tbody tr th:only-of-type {\n",
       "        vertical-align: middle;\n",
       "    }\n",
       "\n",
       "    .dataframe tbody tr th {\n",
       "        vertical-align: top;\n",
       "    }\n",
       "\n",
       "    .dataframe thead th {\n",
       "        text-align: right;\n",
       "    }\n",
       "</style>\n",
       "<table border=\"1\" class=\"dataframe\">\n",
       "  <thead>\n",
       "    <tr style=\"text-align: right;\">\n",
       "      <th></th>\n",
       "      <th>Brand_Name</th>\n",
       "      <th>Product_Description</th>\n",
       "      <th>Product_Detail_Description</th>\n",
       "      <th>Discounted_Price</th>\n",
       "      <th>Original_Price</th>\n",
       "      <th>Discount_Percent</th>\n",
       "      <th>Links_of_the_Product_Images</th>\n",
       "      <th>Links_of_the_Product_Zoomed_Images</th>\n",
       "      <th>vector</th>\n",
       "      <th>_distance</th>\n",
       "    </tr>\n",
       "  </thead>\n",
       "  <tbody>\n",
       "    <tr>\n",
       "      <th>0</th>\n",
       "      <td>STELLERS</td>\n",
       "      <td>Polo Collar Dry Fit T-shirt</td>\n",
       "      <td>STELLERS Polo Collar Dry Fit T-shirt</td>\n",
       "      <td></td>\n",
       "      <td></td>\n",
       "      <td></td>\n",
       "      <td>https://assets.myntassets.com/dpr_2,q_60,w_210...</td>\n",
       "      <td>\\n    https://assets.myntassets.com/f_webp,dpr...</td>\n",
       "      <td>[-0.029387137, -0.012615847, -0.055797283, -0....</td>\n",
       "      <td>0.678659</td>\n",
       "    </tr>\n",
       "    <tr>\n",
       "      <th>1</th>\n",
       "      <td>Roadster</td>\n",
       "      <td>Striped Polo T-shirt</td>\n",
       "      <td>Roadster Men Charcoal Grey &amp; Maroon Striped Po...</td>\n",
       "      <td>Rs. 329</td>\n",
       "      <td>Rs. 1099</td>\n",
       "      <td>(70% OFF)</td>\n",
       "      <td>https://assets.myntassets.com/dpr_2,q_60,w_210...</td>\n",
       "      <td>\\n    https://assets.myntassets.com/f_webp,dpr...</td>\n",
       "      <td>[-0.0045624, -0.10633086, -0.038434874, -0.048...</td>\n",
       "      <td>0.679199</td>\n",
       "    </tr>\n",
       "    <tr>\n",
       "      <th>2</th>\n",
       "      <td>Roadster</td>\n",
       "      <td>Printed Round Neck T-shirt</td>\n",
       "      <td>Roadster Men Black &amp; Grey Printed Round Neck T...</td>\n",
       "      <td>Rs. 549</td>\n",
       "      <td>Rs. 999</td>\n",
       "      <td>(45% OFF)</td>\n",
       "      <td>https://assets.myntassets.com/dpr_2,q_60,w_210...</td>\n",
       "      <td>\\n    https://assets.myntassets.com/f_webp,dpr...</td>\n",
       "      <td>[-0.03371084, -0.028055638, -0.036422458, -0.0...</td>\n",
       "      <td>0.683465</td>\n",
       "    </tr>\n",
       "    <tr>\n",
       "      <th>3</th>\n",
       "      <td>WROGN</td>\n",
       "      <td>Solid Polo Collar T-shirt</td>\n",
       "      <td>WROGN Men Burgundy Solid Polo Collar T-shirt</td>\n",
       "      <td>Rs. 404</td>\n",
       "      <td>Rs. 899</td>\n",
       "      <td>(55% OFF)</td>\n",
       "      <td>https://assets.myntassets.com/dpr_2,q_60,w_210...</td>\n",
       "      <td>\\n    https://assets.myntassets.com/f_webp,dpr...</td>\n",
       "      <td>[0.00284867, -0.043762922, -0.072889425, -0.08...</td>\n",
       "      <td>0.688797</td>\n",
       "    </tr>\n",
       "    <tr>\n",
       "      <th>4</th>\n",
       "      <td>Mast &amp; Harbour</td>\n",
       "      <td>Striped Polo Collar T-shirt</td>\n",
       "      <td>Mast &amp; Harbour Men Teal Blue &amp; Yellow Striped ...</td>\n",
       "      <td>Rs. 629</td>\n",
       "      <td>Rs. 1399</td>\n",
       "      <td>(55% OFF)</td>\n",
       "      <td>https://assets.myntassets.com/dpr_2,q_60,w_210...</td>\n",
       "      <td>\\n    https://assets.myntassets.com/f_webp,dpr...</td>\n",
       "      <td>[0.0025743772, -0.058943503, -0.1514616, -0.07...</td>\n",
       "      <td>0.694833</td>\n",
       "    </tr>\n",
       "  </tbody>\n",
       "</table>\n",
       "</div>"
      ],
      "text/plain": [
       "       Brand_Name          Product_Description  \\\n",
       "0        STELLERS  Polo Collar Dry Fit T-shirt   \n",
       "1        Roadster         Striped Polo T-shirt   \n",
       "2        Roadster   Printed Round Neck T-shirt   \n",
       "3           WROGN    Solid Polo Collar T-shirt   \n",
       "4  Mast & Harbour  Striped Polo Collar T-shirt   \n",
       "\n",
       "                          Product_Detail_Description Discounted_Price  \\\n",
       "0               STELLERS Polo Collar Dry Fit T-shirt                    \n",
       "1  Roadster Men Charcoal Grey & Maroon Striped Po...          Rs. 329   \n",
       "2  Roadster Men Black & Grey Printed Round Neck T...          Rs. 549   \n",
       "3       WROGN Men Burgundy Solid Polo Collar T-shirt          Rs. 404   \n",
       "4  Mast & Harbour Men Teal Blue & Yellow Striped ...          Rs. 629   \n",
       "\n",
       "  Original_Price Discount_Percent  \\\n",
       "0                                   \n",
       "1       Rs. 1099        (70% OFF)   \n",
       "2        Rs. 999        (45% OFF)   \n",
       "3        Rs. 899        (55% OFF)   \n",
       "4       Rs. 1399        (55% OFF)   \n",
       "\n",
       "                         Links_of_the_Product_Images  \\\n",
       "0  https://assets.myntassets.com/dpr_2,q_60,w_210...   \n",
       "1  https://assets.myntassets.com/dpr_2,q_60,w_210...   \n",
       "2  https://assets.myntassets.com/dpr_2,q_60,w_210...   \n",
       "3  https://assets.myntassets.com/dpr_2,q_60,w_210...   \n",
       "4  https://assets.myntassets.com/dpr_2,q_60,w_210...   \n",
       "\n",
       "                  Links_of_the_Product_Zoomed_Images  \\\n",
       "0  \\n    https://assets.myntassets.com/f_webp,dpr...   \n",
       "1  \\n    https://assets.myntassets.com/f_webp,dpr...   \n",
       "2  \\n    https://assets.myntassets.com/f_webp,dpr...   \n",
       "3  \\n    https://assets.myntassets.com/f_webp,dpr...   \n",
       "4  \\n    https://assets.myntassets.com/f_webp,dpr...   \n",
       "\n",
       "                                              vector  _distance  \n",
       "0  [-0.029387137, -0.012615847, -0.055797283, -0....   0.678659  \n",
       "1  [-0.0045624, -0.10633086, -0.038434874, -0.048...   0.679199  \n",
       "2  [-0.03371084, -0.028055638, -0.036422458, -0.0...   0.683465  \n",
       "3  [0.00284867, -0.043762922, -0.072889425, -0.08...   0.688797  \n",
       "4  [0.0025743772, -0.058943503, -0.1514616, -0.07...   0.694833  "
      ]
     },
     "execution_count": 21,
     "metadata": {},
     "output_type": "execute_result"
    }
   ],
   "source": [
    "rs_img = tbl.search(\"Roadster Men Colourblocked Polo Collar T-shirt\").metric(\"cosine\").limit(5).to_pandas()\n",
    "rs_img"
   ]
  },
  {
   "cell_type": "code",
   "execution_count": 22,
   "metadata": {},
   "outputs": [],
   "source": [
    "def find_best_passage(query):\n",
    "    rs_img = tbl.search(query).metric(\"cosine\").limit(5).to_pandas()\n",
    "    img_path =  rs_img['Links_of_the_Product_Images'].tolist()\n",
    "    return (img_path)"
   ]
  },
  {
   "cell_type": "code",
   "execution_count": 23,
   "metadata": {},
   "outputs": [],
   "source": [
    "img = find_best_passage(\"Roadster Men Colourblocked Polo Collar T-shirt\")"
   ]
  },
  {
   "cell_type": "code",
   "execution_count": 24,
   "metadata": {},
   "outputs": [
    {
     "data": {
      "text/html": [
       "<img src=\"https://assets.myntassets.com/dpr_2,q_60,w_210,c_limit,fl_progressive/assets/images/23253840/2023/5/18/5535d8ab-6f27-45aa-a73f-fd6b0f8c3fbd1684407910332STELLERSMenMauvePoloCollarPocketsT-shirt1.jpg\"/>"
      ],
      "text/plain": [
       "<IPython.core.display.Image object>"
      ]
     },
     "metadata": {},
     "output_type": "display_data"
    },
    {
     "data": {
      "text/html": [
       "<img src=\"https://assets.myntassets.com/dpr_2,q_60,w_210,c_limit,fl_progressive/assets/images/1396023/2018/8/11/f2073a17-5fd5-4050-8822-0e8aff67abca1533964230877-Roadster-Men-Charcoal-Grey--Maroon-Striped-Polo-Collar-T-shi-1.jpg\"/>"
      ],
      "text/plain": [
       "<IPython.core.display.Image object>"
      ]
     },
     "metadata": {},
     "output_type": "display_data"
    },
    {
     "data": {
      "text/html": [
       "<img src=\"https://assets.myntassets.com/dpr_2,q_60,w_210,c_limit,fl_progressive/assets/images/10943262/2020/9/1/0c496f57-e53d-42e8-8cc6-f2ecdcc0d1a51598949417533-Roadster-Men-Black-Printed-Round-Neck-T-shirt-53315989494159-1.jpg\"/>"
      ],
      "text/plain": [
       "<IPython.core.display.Image object>"
      ]
     },
     "metadata": {},
     "output_type": "display_data"
    },
    {
     "data": {
      "text/html": [
       "<img src=\"https://assets.myntassets.com/dpr_2,q_60,w_210,c_limit,fl_progressive/assets/images/11363908/2020/3/2/3047363c-f29a-416e-8f8b-f070c08cf39f1583149447602-WROGN-Men-Tshirts-271583149446309-1.jpg\"/>"
      ],
      "text/plain": [
       "<IPython.core.display.Image object>"
      ]
     },
     "metadata": {},
     "output_type": "display_data"
    },
    {
     "data": {
      "text/html": [
       "<img src=\"https://assets.myntassets.com/dpr_2,q_60,w_210,c_limit,fl_progressive/assets/images/13345538/2021/3/18/7c7b3bce-a488-4e56-a822-a7c18bf64e041616067375064-Mast--Harbour-Men-Teal-Striped-Polo-Collar-T-shirt-311161606-1.jpg\"/>"
      ],
      "text/plain": [
       "<IPython.core.display.Image object>"
      ]
     },
     "metadata": {},
     "output_type": "display_data"
    }
   ],
   "source": [
    "from IPython.display import display, Image\n",
    "for image_url in img:\n",
    "    display(Image(url=image_url))\n"
   ]
  }
 ],
 "metadata": {
  "kernelspec": {
   "display_name": ".venv",
   "language": "python",
   "name": "python3"
  },
  "language_info": {
   "codemirror_mode": {
    "name": "ipython",
    "version": 3
   },
   "file_extension": ".py",
   "mimetype": "text/x-python",
   "name": "python",
   "nbconvert_exporter": "python",
   "pygments_lexer": "ipython3",
   "version": "3.10.12"
  }
 },
 "nbformat": 4,
 "nbformat_minor": 2
}
