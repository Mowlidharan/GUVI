{
 "cells": [
  {
   "cell_type": "markdown",
   "id": "5eb94801-c879-44bf-a3a4-f72cd8275372",
   "metadata": {},
   "source": [
    "1. You are a cyber security manager, and your task is to identify if the password entered by the user is strong or not. The basic rule to check the password strength is it should have at least 8 characters, and contain at least one each of uppercase letters, lowercase letters, digits, and special characters (any character that is not a letter or digit). Write a function checkpass(password) that takes a string argument password and return True if it fits the criteria for a strong password and False if not.\n",
    "        (a) Example 1:\n",
    "        • Argument: '12345678'\n",
    "        • Returns: False\n",
    "        (b) Example 2:\n",
    "        • Argument: 'Hello@123'\n",
    "        • Returns: True"
   ]
  },
  {
   "cell_type": "code",
   "execution_count": 1,
   "id": "31170963-93d6-4bbd-ab64-f5d1d27f472d",
   "metadata": {},
   "outputs": [
    {
     "name": "stdout",
     "output_type": "stream",
     "text": [
      "True\n"
     ]
    }
   ],
   "source": [
    "a=input()\n",
    "c,u,l,n,s=0,0,0,0,0\n",
    "if(len(a)>=8):\n",
    "    for i in a:\n",
    "        if(i.isupper()):\n",
    "            u = u+1\n",
    "        elif(i.islower()):\n",
    "            l=l+1\n",
    "        elif(i.isdigit()):\n",
    "            n=n+1\n",
    "        else:\n",
    "            s=s+1\n",
    "if(u>=1 and l>=1 and n>=1 and s>=1):\n",
    "    print(True)\n",
    "else:\n",
    "    print(False)"
   ]
  },
  {
   "cell_type": "markdown",
   "id": "73df8ccd-af43-452b-bcc8-b320ed9bb80b",
   "metadata": {},
   "source": [
    "2. Ankit, a teaching assistant in data science, has been frequently taking leave in the past few weeks. His supervisor, who is is concerned that he might have exceeded his quota of paid leaves. To investigate this, the supervisor analyzed Ankit’s attendance for the last two weeks, consisting of five working days every week. The attendance register indicated ‘P’ for present and ‘A’ for absent. Ankit faces suspension if his attendance falls below 70%. Your task is to write a function attendance(record) that takes Ankit’s attendance record as a string argument and determines whether he could be suspended or not. The function argument is a string containing the attendance in the form of ’P’ or ’A’ separated by a single space. Return value should be a 2-tuple whose first element is the string 'suspended' if he has less than 70% attendance, and 'not suspended' if his attendance is 70% or above. The second element should be the percentage of his attendance as a fraction (0.7 for 70%).\n",
    "    (a) Example 1\n",
    "    • Argument: 'P P A A A P A P A A'\n",
    "    • Returns: ('suspended', 0.4)\n",
    "    (b) Example 2\n",
    "    • Argument: 'P P P A P P A P A P'\n",
    "    • Returns: ('not suspended', 0.7)"
   ]
  },
  {
   "cell_type": "code",
   "execution_count": 2,
   "id": "8c5d9a34-e20a-4d99-9116-db2a4a001af8",
   "metadata": {},
   "outputs": [
    {
     "name": "stdout",
     "output_type": "stream",
     "text": [
      "('suspended', 0.4)\n",
      "('not suspended', 0.7)\n"
     ]
    }
   ],
   "source": [
    "def attentance(s):\n",
    "    c1,c2 = 0,0\n",
    "    for i in s:\n",
    "        if i == 'P' or i == 'p':\n",
    "            c1 = c1+1\n",
    "    if (c1/10 >= 0.7):\n",
    "        return \"not suspended\",c1/10\n",
    "    else:\n",
    "        return \"suspended\",c1/10\n",
    "print(attentance('P P A A A P A P A A'))\n",
    "print(attentance('P P P A P P A P A P'))\n"
   ]
  },
  {
   "cell_type": "markdown",
   "id": "70e6f8da-83af-4524-8265-c6b41174970c",
   "metadata": {},
   "source": [
    "3. Ankit is always fascinated by the number 2. He always wants to know who came second in a race, the second person to set foot on the moon\n",
    "and so on. If Ankit is provided with a list of numbers and asked to find the maximum, he reports the second highest number as the maximum because according to him, 2 is higher than 1. Let us consider Ankit becoming the instructor of a data science course. Write a function ankit_max(marks_dict) for that returns the name of the highest scorer in his class according to Ankit. It should take a dict of the form {Name1: marks1, Name2: marks2, ...}, where the keys Name1, Name2, ... identify students, and marks1, marks2, ... are their respective marks as numbers. If there is no second highest, the function should return None.\n",
    "\n",
    "    (a) Example 1\n",
    "    • Argument: {'Alok': 10, 'Bikash': 24, 'Chandan': 26,\n",
    "    'Dali': 28, 'Eli': 30}\n",
    "    • Returns: 'Dali'\n",
    "    (b) Example 2\n",
    "    • Argument: {'Xavier': 25, 'Ibrahim': 25, 'Yatin': 25,\n",
    "    'Sami': 25, 'Takahashi': 25}\n",
    "    • Returns: None"
   ]
  },
  {
   "cell_type": "code",
   "execution_count": 3,
   "id": "e6d7f79d-19a3-47a3-ab67-8401b2623a8c",
   "metadata": {},
   "outputs": [
    {
     "name": "stdout",
     "output_type": "stream",
     "text": [
      "Dali\n",
      "None\n"
     ]
    }
   ],
   "source": [
    "def result(a):\n",
    "    unique_marks = sorted(set(a.values()), reverse=True)\n",
    "    if len(unique_marks)<2:\n",
    "        return None\n",
    "    s = unique_marks[1]\n",
    "    for key,values in a.items():\n",
    "        if(values == s):\n",
    "            return key\n",
    "print(result({'Alok': 10, 'Bikash': 24, 'Chandan': 26, 'Dali': 28, 'Eli': 30}))\n",
    "print(result({'Xavier': 25, 'Ibrahim': 25, 'Yatin': 25, 'Sami': 25, 'Takahashi': 25}))\n"
   ]
  },
  {
   "cell_type": "markdown",
   "id": "eba306c9-34bc-4dbb-822e-74e6562a61ef",
   "metadata": {},
   "source": [
    "4. Write a function multiple_of_3(number) which takes an integer number to check if it is divisible by 3, without using the modulo or division operator. Instead, use the fact that any number is divisible by 3 if the sum of its digits is divisible by 3. Consider 0 as divisible by 3.\n",
    "    (a) Example 1\n",
    "    • Argument: 123\n",
    "    • Returns: True\n",
    "    (b) Example 2\n",
    "    • Argument: 124\n",
    "    • Returns: False"
   ]
  },
  {
   "cell_type": "code",
   "execution_count": 4,
   "id": "f052ab90-0378-494e-824d-c0fc85959ee0",
   "metadata": {},
   "outputs": [
    {
     "name": "stdout",
     "output_type": "stream",
     "text": [
      "True\n",
      "False\n"
     ]
    }
   ],
   "source": [
    "def multiple_of_3(number):\n",
    "    if number < 10:\n",
    "        return number in (0, 3, 6, 9)\n",
    "    sum_of_digits = sum(int(digit) for digit in str(number))\n",
    "    return multiple_of_3(sum_of_digits)\n",
    "print(multiple_of_3(123))\n",
    "print(multiple_of_3(124))"
   ]
  },
  {
   "cell_type": "markdown",
   "id": "d62e5cbf-5b1a-42f4-b2d7-c70d6508ad3b",
   "metadata": {},
   "source": [
    "5. Write a function deduplicate(arg) that takes a string arg as parameter and returns another string after removing all the adjacent\n",
    "repeated characters in arg.\n",
    "    (a) Example 1\n",
    "    • Argument: 'poonam'\n",
    "    • Returns: 'ponam'\n",
    "    (b) Example 2\n",
    "    • Argument: 'suruuuuuuuuuuuuuuuuuuuuuuuur'\n",
    "    • Returns: 'surur'\n",
    "    (c) Example 3\n",
    "    • Argument: 'blahblahblah'\n",
    "    • Returns: 'blahblahblah"
   ]
  },
  {
   "cell_type": "code",
   "execution_count": 13,
   "id": "0082e030",
   "metadata": {},
   "outputs": [
    {
     "name": "stdout",
     "output_type": "stream",
     "text": [
      "surur\n"
     ]
    }
   ],
   "source": [
    "str = input()\n",
    "dup_str = \"\"\n",
    "prev_char = 0\n",
    "\n",
    "for char in str:\n",
    "    if char != prev_char:\n",
    "        dup_str += char\n",
    "        prev_char = char\n",
    "\n",
    "print(dup_str)"
   ]
  }
 ],
 "metadata": {
  "kernelspec": {
   "display_name": "Python 3 (ipykernel)",
   "language": "python",
   "name": "python3"
  },
  "language_info": {
   "codemirror_mode": {
    "name": "ipython",
    "version": 3
   },
   "file_extension": ".py",
   "mimetype": "text/x-python",
   "name": "python",
   "nbconvert_exporter": "python",
   "pygments_lexer": "ipython3",
   "version": "3.10.12"
  }
 },
 "nbformat": 4,
 "nbformat_minor": 5
}
