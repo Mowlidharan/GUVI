{
  "cells": [
    {
      "cell_type": "markdown",
      "metadata": {
        "id": "D-KgkVX3IZ-S"
      },
      "source": [
        "1.  Python Program to exchange the values of two numbers without using a temporary variable."
      ]
    },
    {
      "cell_type": "code",
      "execution_count": 1,
      "metadata": {
        "colab": {
          "base_uri": "https://localhost:8080/"
        },
        "id": "yldf_YhdIZ-T",
        "outputId": "10542e5f-4798-4f0d-9d35-2f296df10f6e"
      },
      "outputs": [
        {
          "output_type": "stream",
          "name": "stdout",
          "text": [
            "5\n",
            "6\n",
            "Before Swapping: 5 6\n",
            "After Swapping:  6 5\n"
          ]
        }
      ],
      "source": [
        "a = int(input())\n",
        "b = int(input())\n",
        "print(\"Before Swapping:\", a,b)\n",
        "a,b = b,a\n",
        "print(\"After Swapping: \", a,b)"
      ]
    },
    {
      "cell_type": "markdown",
      "metadata": {
        "id": "MrK3aZMGIZ-Y"
      },
      "source": [
        "2. Write a python code to replace all  \"a\"  with 2 for the given variable\n",
        "s = 'abc12321cba'"
      ]
    },
    {
      "cell_type": "code",
      "execution_count": 2,
      "metadata": {
        "colab": {
          "base_uri": "https://localhost:8080/"
        },
        "id": "J7rr7O5XIZ-Z",
        "outputId": "d7fd9536-1979-4dfd-f43a-5de285b8a95e"
      },
      "outputs": [
        {
          "output_type": "stream",
          "name": "stdout",
          "text": [
            "abc12321cba\n",
            "2bc12321cb2\n"
          ]
        }
      ],
      "source": [
        "c = input()\n",
        "c1=c.replace('a','2')\n",
        "print(c1)"
      ]
    },
    {
      "cell_type": "markdown",
      "metadata": {
        "id": "Zo8gMGlbIZ-g"
      },
      "source": [
        "3. Python code for to  remove first character in string?"
      ]
    },
    {
      "cell_type": "code",
      "execution_count": 3,
      "metadata": {
        "colab": {
          "base_uri": "https://localhost:8080/"
        },
        "id": "XTIKmVpiIZ-h",
        "outputId": "29245cba-0bf4-4cba-8528-3807f6ff9238"
      },
      "outputs": [
        {
          "output_type": "stream",
          "name": "stdout",
          "text": [
            "abc12321cba\n",
            "bc12321cba\n"
          ]
        }
      ],
      "source": [
        "d = input()\n",
        "print(d[1:])"
      ]
    },
    {
      "cell_type": "markdown",
      "metadata": {
        "id": "XBhfFfEIIZ-n"
      },
      "source": [
        "4. Concatenate two strings  \n",
        "First Input : \"hello\"\n",
        "Second Input : \"guvi\"\n",
        "desired output :   \"hello guvi\""
      ]
    },
    {
      "cell_type": "code",
      "execution_count": 4,
      "metadata": {
        "colab": {
          "base_uri": "https://localhost:8080/"
        },
        "id": "qVhNDe9mIZ-p",
        "outputId": "3abf093c-34cf-4f58-9b8f-82d8477d115e"
      },
      "outputs": [
        {
          "output_type": "stream",
          "name": "stdout",
          "text": [
            "hello\n",
            "guvi\n",
            "hello guvi\n"
          ]
        }
      ],
      "source": [
        "e = input()\n",
        "e1 = input()\n",
        "print(e+\" \"+e1)"
      ]
    },
    {
      "cell_type": "markdown",
      "metadata": {
        "id": "W1CyejMTIZ-t"
      },
      "source": [
        "5. Repeat the string \"hello guvi\" 3 times\n",
        "desired output :  'hello guvi hello guvi hello guvi '"
      ]
    },
    {
      "cell_type": "code",
      "execution_count": 5,
      "metadata": {
        "colab": {
          "base_uri": "https://localhost:8080/"
        },
        "id": "6B83XYHVIZ-u",
        "outputId": "00b4bd92-58b6-41d8-ae2f-a51adbabd19d"
      },
      "outputs": [
        {
          "output_type": "stream",
          "name": "stdout",
          "text": [
            "hello guvi \n",
            "hello guvi hello guvi hello guvi \n"
          ]
        }
      ],
      "source": [
        "f = input()\n",
        "print(f*3)"
      ]
    },
    {
      "cell_type": "markdown",
      "metadata": {
        "id": "4oblWnrSIZ-y"
      },
      "source": [
        "6. Create 3 variables a1,a2,a3. Assign the same value \" 4 \" to all the variables in a single line of code."
      ]
    },
    {
      "cell_type": "code",
      "execution_count": 6,
      "metadata": {
        "colab": {
          "base_uri": "https://localhost:8080/"
        },
        "id": "O7nH3nd-IZ-y",
        "outputId": "4619d6b6-770e-44ee-ebfd-86bd5b0c370a"
      },
      "outputs": [
        {
          "output_type": "stream",
          "name": "stdout",
          "text": [
            "4 4 4\n"
          ]
        }
      ],
      "source": [
        "a1=a2=a3=4\n",
        "print(a1,a2,a3)"
      ]
    },
    {
      "cell_type": "markdown",
      "metadata": {
        "id": "fs_t4D-oIZ-2"
      },
      "source": [
        "7. Calculate BMI of a person using the height and weight.\n",
        "BMI = weight / (height **2)\n"
      ]
    },
    {
      "cell_type": "code",
      "execution_count": 7,
      "metadata": {
        "colab": {
          "base_uri": "https://localhost:8080/"
        },
        "id": "N_VZSoYjIZ-3",
        "outputId": "ea9a83c2-ea82-44d1-f0ee-6f4b7ae9b1e5"
      },
      "outputs": [
        {
          "output_type": "stream",
          "name": "stdout",
          "text": [
            "55\n",
            "147\n",
            "0.0\n"
          ]
        }
      ],
      "source": [
        "w = float(input())\n",
        "h = float(input())\n",
        "BMI = w / (h**2)\n",
        "print(round(BMI,2))"
      ]
    },
    {
      "cell_type": "markdown",
      "metadata": {
        "id": "JgXK2m28IZ-7"
      },
      "source": [
        "8.Write a python program to calculate the area of circle."
      ]
    },
    {
      "cell_type": "code",
      "execution_count": 8,
      "metadata": {
        "colab": {
          "base_uri": "https://localhost:8080/"
        },
        "id": "m73v7qoCIZ-8",
        "outputId": "3a8698d9-68c8-4a38-9408-13aba5dc3bf4"
      },
      "outputs": [
        {
          "output_type": "stream",
          "name": "stdout",
          "text": [
            "45\n",
            "6358.5\n"
          ]
        }
      ],
      "source": [
        "pi=3.14\n",
        "r=float(input())\n",
        "area = pi*(r**2)\n",
        "print(round(area,2))"
      ]
    },
    {
      "cell_type": "markdown",
      "metadata": {
        "id": "BHXFt9VwIZ_A"
      },
      "source": [
        "9.Calculate the simple interest\n",
        "simple_interest = p * n * r /100"
      ]
    },
    {
      "cell_type": "code",
      "execution_count": 10,
      "metadata": {
        "colab": {
          "base_uri": "https://localhost:8080/"
        },
        "id": "7wHLjXC4IZ_B",
        "outputId": "9f5b5761-6ee7-4ca2-b717-2c76be95f8bb"
      },
      "outputs": [
        {
          "output_type": "stream",
          "name": "stdout",
          "text": [
            "4000\n",
            "58\n",
            "444\n",
            "1030080.0\n"
          ]
        }
      ],
      "source": [
        "p = int(input())\n",
        "n = int(input())\n",
        "r = float(input())\n",
        "si = (p*n*r)/100\n",
        "print(si)"
      ]
    },
    {
      "cell_type": "markdown",
      "metadata": {
        "id": "afLADSCGIZ_G"
      },
      "source": [
        "10.Python code to calculate the square root of the given number(run time variable)"
      ]
    },
    {
      "cell_type": "code",
      "execution_count": 11,
      "metadata": {
        "colab": {
          "base_uri": "https://localhost:8080/"
        },
        "id": "XBTku4euIZ_H",
        "outputId": "f4dee837-4429-4d8f-a3d0-576ae5b3e0dd"
      },
      "outputs": [
        {
          "output_type": "stream",
          "name": "stdout",
          "text": [
            "Enter a number: 25\n",
            "The square root of 25.0 is 5.0\n"
          ]
        }
      ],
      "source": [
        "import math\n",
        "num = float(input(\"Enter a number: \"))\n",
        "sqrt = math.sqrt(num)\n",
        "print(\"The square root of\", num, \"is\", sqrt)\n"
      ]
    }
  ],
  "metadata": {
    "colab": {
      "provenance": []
    },
    "kernelspec": {
      "display_name": "Python 3 (ipykernel)",
      "language": "python",
      "name": "python3"
    },
    "language_info": {
      "codemirror_mode": {
        "name": "ipython",
        "version": 3
      },
      "file_extension": ".py",
      "mimetype": "text/x-python",
      "name": "python",
      "nbconvert_exporter": "python",
      "pygments_lexer": "ipython3",
      "version": "3.9.13"
    }
  },
  "nbformat": 4,
  "nbformat_minor": 0
}