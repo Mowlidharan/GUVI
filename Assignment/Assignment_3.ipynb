{
  "nbformat": 4,
  "nbformat_minor": 0,
  "metadata": {
    "colab": {
      "provenance": []
    },
    "kernelspec": {
      "name": "python3",
      "display_name": "Python 3"
    },
    "language_info": {
      "name": "python"
    }
  },
  "cells": [
    {
      "cell_type": "markdown",
      "source": [
        "IF Statement\n",
        "\n",
        "Problems:\n",
        "\n",
        "  1. Write a program to check whether x is less than y\n",
        "  where, x = 20 and y = 30\n",
        "  Assigning x equal to 20 Assigning y equal to 30 If condition x is less then y then go to step 4 print x is less then y\n"
      ],
      "metadata": {
        "id": "wgugKeHj7DLZ"
      }
    },
    {
      "cell_type": "code",
      "execution_count": null,
      "metadata": {
        "colab": {
          "base_uri": "https://localhost:8080/"
        },
        "id": "TP9A5eI57CAr",
        "outputId": "a773687c-acf1-437b-de58-36766761b044"
      },
      "outputs": [
        {
          "output_type": "stream",
          "name": "stdout",
          "text": [
            "x is less then y\n"
          ]
        }
      ],
      "source": [
        "x=20\n",
        "y=30\n",
        "if(x<y):\n",
        "  print(\"x is less then y\")"
      ]
    },
    {
      "cell_type": "markdown",
      "source": [
        "  2. Write a program to check whether the total score (theory --> 100 + practical --> 100) is less than or equal to 200.\n",
        "  If it goes beyond 200, print an error or a warning message.\n",
        "\n",
        "  Hint:\n",
        "  Set, Theory equal to 140 Practical equal to 145 If condition for theory + practical is greater than 200 then, print invalid score\n"
      ],
      "metadata": {
        "id": "gsqzhOqK7q0x"
      }
    },
    {
      "cell_type": "code",
      "source": [
        "theory = int(input())\n",
        "practical = int(input())\n",
        "if(theory +practical >= 200 ):\n",
        "  print(\"Invalid score\")"
      ],
      "metadata": {
        "colab": {
          "base_uri": "https://localhost:8080/"
        },
        "id": "DtOcFHtU70OJ",
        "outputId": "02981be7-4f77-41bd-cde0-ca0b00fcc743"
      },
      "execution_count": null,
      "outputs": [
        {
          "output_type": "stream",
          "name": "stdout",
          "text": [
            "140\n",
            "145\n",
            "Invalid score\n"
          ]
        }
      ]
    },
    {
      "cell_type": "markdown",
      "source": [
        "**If-else Statement**\n",
        "\n",
        "  3. Write a python program to to check whether the student has passed the subject based on string input yes/no\n",
        "\n",
        "  Hint:\n",
        "\n",
        "  Get an user input 'yes' / 'no' pass this to variable named 'Subject' Create a If condition, when the Subject value is 'yes' then print 'Cleared the test', Else print 'Failed the test'\n"
      ],
      "metadata": {
        "id": "JlPT2hE39WeB"
      }
    },
    {
      "cell_type": "code",
      "source": [
        "subj = input()\n",
        "if(subj =='yes'):\n",
        "  print(\"Cleared the test\")\n",
        "else:\n",
        "  print(\"Failed the test\")"
      ],
      "metadata": {
        "colab": {
          "base_uri": "https://localhost:8080/"
        },
        "id": "GgaMEhm39elG",
        "outputId": "45a2f776-2dfe-4599-82a6-5c34d2b9bcf9"
      },
      "execution_count": null,
      "outputs": [
        {
          "output_type": "stream",
          "name": "stdout",
          "text": [
            "yes\n",
            "Cleared the test\n"
          ]
        }
      ]
    },
    {
      "cell_type": "markdown",
      "source": [
        "  4. Write a program to get the password from user, check whether the password is 'great'. Through a reply to the user accordingly.\n",
        "\n",
        "  Hint:\n",
        "\n",
        "  Get password from user, the input statement should be 'Enter the password: ' pass this to variable named 'Password' If passwrod is 'great', print 'Password Accepted' else print 'Wrong Password'\n"
      ],
      "metadata": {
        "id": "m_bkcgJ9-ZOv"
      }
    },
    {
      "cell_type": "code",
      "source": [
        "Password = input(\"Enter the password: \")\n",
        "if(Password == 'great'):\n",
        "  print(\"Password Accepted\")\n",
        "else:\n",
        "  print(\"Wrong Password\")"
      ],
      "metadata": {
        "id": "WY797Uzi-go5",
        "colab": {
          "base_uri": "https://localhost:8080/"
        },
        "outputId": "8569dd2b-303f-4a92-cf31-0c0b36468383"
      },
      "execution_count": null,
      "outputs": [
        {
          "output_type": "stream",
          "name": "stdout",
          "text": [
            "Enter the password: great\n",
            "Password Accepted\n"
          ]
        }
      ]
    },
    {
      "cell_type": "markdown",
      "source": [
        "**Nested if Statement**\n",
        "\n",
        "  1. Based on the users age, divide them in to three groups Group 1 : Age <=18 , Minors who are not eligible to work Group 2 : 18<Age<60 , ELigible to work Group 3 : >=60, Too old to work as per govt. regulations.\n",
        "  Write a program for the same\n",
        "  \n",
        "  Hint:\n",
        "  \n",
        "  Create variable Name age equal to input if condition for age is < 18 go to step 3 , else go to step 5 print Your Minor not Eligible to Work if condition for age >= 18 and age <= 60 go to step 5 , else go to step 6 print Your Eligible to Work fill in your details and apply print Your too old to work as per the Government rules Please Collect your pension\n"
      ],
      "metadata": {
        "id": "i9WQEaIvFKPr"
      }
    },
    {
      "cell_type": "code",
      "source": [
        "age = int(input())\n",
        "if(age>=18):\n",
        "  if(age>=18 and age<=60):\n",
        "    print(\"Your Eligible to Work fill in your details\")\n",
        "  else:\n",
        "    print(\"Your too old to work as per the Government rules Please Collect your pension\")\n",
        "else:\n",
        "  print(\"Your Minor not Eligible\")\n"
      ],
      "metadata": {
        "colab": {
          "base_uri": "https://localhost:8080/"
        },
        "id": "oZVU5I5mFT45",
        "outputId": "218d260d-c910-469f-fa83-a996b4994a6e"
      },
      "execution_count": null,
      "outputs": [
        {
          "output_type": "stream",
          "name": "stdout",
          "text": [
            "25\n",
            "Your Eligible to Work fill in your details\n"
          ]
        }
      ]
    },
    {
      "cell_type": "markdown",
      "source": [
        "**While Loop**\n",
        "\n",
        "  1. Take an integer as input from the user and print all the numbers from 0 to that number in reverse order.\n",
        "  Example : if the input is 3, the output should be 3 2 1\n",
        "\n",
        "  Hint:\n",
        "\n",
        "  Create variable n using input value give the while loop condition i.e. n > 0 then decrement, n = n-1 print n\n"
      ],
      "metadata": {
        "id": "ausAtNjdHIqe"
      }
    },
    {
      "cell_type": "code",
      "source": [
        "n=int(input())\n",
        "while(n>0):\n",
        "  print(n)\n",
        "  n-=1"
      ],
      "metadata": {
        "colab": {
          "base_uri": "https://localhost:8080/"
        },
        "id": "hdVH25l6HRHk",
        "outputId": "36a4e69a-46c3-4dde-b952-94e03681607e"
      },
      "execution_count": null,
      "outputs": [
        {
          "output_type": "stream",
          "name": "stdout",
          "text": [
            "10\n",
            "10\n",
            "9\n",
            "8\n",
            "7\n",
            "6\n",
            "5\n",
            "4\n",
            "3\n",
            "2\n",
            "1\n"
          ]
        }
      ]
    },
    {
      "cell_type": "markdown",
      "source": [
        "  2. Write a python code to find the squares of all the numbers based on an input.\n",
        "  \n",
        "  Example : If the input is 10, the output should be 11 ,22 ,33...... 1010\n",
        "  \n",
        "  Hint:\n",
        "  \n",
        "  Create the variable i assigning to 1 Give the while loop condition for i <= 10 print i ** 2 increment i loop will execute until i is less than or equal to 10\n"
      ],
      "metadata": {
        "id": "qLsZzhRpHm23"
      }
    },
    {
      "cell_type": "code",
      "source": [
        "i=int(input())\n",
        "while i<=10:\n",
        "  print(i**2)\n",
        "  i+=1"
      ],
      "metadata": {
        "colab": {
          "base_uri": "https://localhost:8080/"
        },
        "id": "R-N9FiyxHqy9",
        "outputId": "102413a5-8462-4658-d6f2-04065afd7ba2"
      },
      "execution_count": null,
      "outputs": [
        {
          "output_type": "stream",
          "name": "stdout",
          "text": [
            "10\n",
            "100\n"
          ]
        }
      ]
    },
    {
      "cell_type": "markdown",
      "source": [
        "**For Loop**\n",
        "\n",
        "  1. Write a pseudocode to print the multiplication table of a given number.\n",
        "\n",
        "  Example : if the user input is 3, the output should be like below :\n",
        "  3 X 1 = 3 3 X 2 = 6 ... 3 X 10 =30\n",
        "\n",
        "  Hint:\n",
        "\n",
        "  Get user input and store it in variable n. Give the For loop condition in the range between (1,11) In print statement give the condition (n,'x',i,'=' ,n*i) This will print the multiplication tables of a given number.\n"
      ],
      "metadata": {
        "id": "JzsUhzI0ImEh"
      }
    },
    {
      "cell_type": "code",
      "source": [
        "n=int(input())\n",
        "for i in range(1,11):\n",
        "  print(n,'x',i,'=',n*i)"
      ],
      "metadata": {
        "colab": {
          "base_uri": "https://localhost:8080/"
        },
        "id": "JxPUgZggIs8-",
        "outputId": "4f7a702d-257d-445b-bbd1-6a04f879ac07"
      },
      "execution_count": null,
      "outputs": [
        {
          "output_type": "stream",
          "name": "stdout",
          "text": [
            "5\n",
            "5 x 1 = 5\n",
            "5 x 2 = 10\n",
            "5 x 3 = 15\n",
            "5 x 4 = 20\n",
            "5 x 5 = 25\n",
            "5 x 6 = 30\n",
            "5 x 7 = 35\n",
            "5 x 8 = 40\n",
            "5 x 9 = 45\n",
            "5 x 10 = 50\n"
          ]
        }
      ]
    },
    {
      "cell_type": "markdown",
      "source": [
        "  2. Write a python code to print squares of all numbers present in the list = [1, 22, 14, 64, 31, 120]\n",
        "\n",
        "  Hint:\n",
        "\n",
        "  Create a list named 'numbers' [1, 22, 14, 64, 31, 120] Create a variable name 'square' and assign 0 to it For loop condition for i in the list square equal to i * i Print square"
      ],
      "metadata": {
        "id": "pkVOF-g4JEdI"
      }
    },
    {
      "cell_type": "code",
      "source": [
        "numbers = [1, 22, 14, 64, 31, 120]\n",
        "square = 0\n",
        "for i in numbers:\n",
        "  square = i*i\n",
        "  print(square)"
      ],
      "metadata": {
        "colab": {
          "base_uri": "https://localhost:8080/"
        },
        "id": "LD4Lg4tdJMsm",
        "outputId": "7e81346e-cb29-42a4-9d09-ce3d63272ac4"
      },
      "execution_count": null,
      "outputs": [
        {
          "output_type": "stream",
          "name": "stdout",
          "text": [
            "1\n",
            "484\n",
            "196\n",
            "4096\n",
            "961\n",
            "14400\n"
          ]
        }
      ]
    },
    {
      "cell_type": "markdown",
      "source": [
        "**Additional Practice Programs**\n",
        "  1. Write a python program that takes a list ['red','black','blue'] and prints each element in the list using whle loop\n"
      ],
      "metadata": {
        "id": "gV0_L73oJ1G3"
      }
    },
    {
      "cell_type": "code",
      "source": [
        "l=['red','black','blue']\n",
        "i=0\n",
        "while i<len(l):\n",
        "  print(l[i])\n",
        "  i=i+1"
      ],
      "metadata": {
        "id": "ZlutmcO7J7Rt",
        "colab": {
          "base_uri": "https://localhost:8080/"
        },
        "outputId": "dbb884d0-9970-4ada-b22c-e5a041580f98"
      },
      "execution_count": null,
      "outputs": [
        {
          "output_type": "stream",
          "name": "stdout",
          "text": [
            "red\n",
            "black\n",
            "blue\n"
          ]
        }
      ]
    },
    {
      "cell_type": "markdown",
      "source": [
        "  2. Write a same program as above using a For loop?"
      ],
      "metadata": {
        "id": "Wa-bkvL9Ktlc"
      }
    },
    {
      "cell_type": "code",
      "source": [
        "for i in l:\n",
        "  print(i)"
      ],
      "metadata": {
        "id": "XV3d3Mo4Kuvd",
        "colab": {
          "base_uri": "https://localhost:8080/"
        },
        "outputId": "7034fe9f-9e3c-45ab-ad1e-3faf94c45b48"
      },
      "execution_count": null,
      "outputs": [
        {
          "output_type": "stream",
          "name": "stdout",
          "text": [
            "red\n",
            "black\n",
            "blue\n"
          ]
        }
      ]
    },
    {
      "cell_type": "markdown",
      "source": [
        "  3. Write a Python Program to find the LCM of two numbers?"
      ],
      "metadata": {
        "id": "yYpp1nplK30p"
      }
    },
    {
      "cell_type": "code",
      "source": [
        "n1 = int(input(\"N1: \"))\n",
        "n2 = int(input(\"N2: \"))\n",
        "if n1>n2:\n",
        "  h=n1\n",
        "else:\n",
        "  h=n2\n",
        "while(True):\n",
        "  if h % n1 ==0 and h % n2 ==0:\n",
        "    lcm=h\n",
        "    break\n",
        "  h+=1\n",
        "print(lcm)\n"
      ],
      "metadata": {
        "id": "P5KUgNXlK6io",
        "colab": {
          "base_uri": "https://localhost:8080/"
        },
        "outputId": "87e5e26a-1df7-470c-c159-4dae9204ae6f"
      },
      "execution_count": 24,
      "outputs": [
        {
          "output_type": "stream",
          "name": "stdout",
          "text": [
            "N1: 8\n",
            "N2: 12\n",
            "24\n"
          ]
        }
      ]
    },
    {
      "cell_type": "markdown",
      "source": [
        "  4. Python Program to find the sum of series: 1 + 1/2 + 1/3 + ….. + 1/N."
      ],
      "metadata": {
        "id": "WjH4HhWbK9yu"
      }
    },
    {
      "cell_type": "code",
      "source": [
        "n=int(input())\n",
        "sum=0\n",
        "for i in range(1,n+1):\n",
        "  sum=sum+i\n",
        "print(sum)"
      ],
      "metadata": {
        "colab": {
          "base_uri": "https://localhost:8080/"
        },
        "id": "ZBI2u7zbLB3R",
        "outputId": "6fd60c7c-5963-4655-9025-3bd002c715f8"
      },
      "execution_count": null,
      "outputs": [
        {
          "output_type": "stream",
          "name": "stdout",
          "text": [
            "10\n",
            "55\n"
          ]
        }
      ]
    },
    {
      "cell_type": "markdown",
      "source": [
        "**List Comprehensions**\n",
        "1. i) Write a Python program to get the squares of numbers present in the range of (1-10)\n",
        "\n",
        "  output squares = [0, 1, 4, 9, 16, 25, 36, 49, 64, 81, 100]\n"
      ],
      "metadata": {
        "id": "NXiPrps9Lek5"
      }
    },
    {
      "cell_type": "code",
      "source": [
        "for i in range(0,11):\n",
        "  print(i*i)"
      ],
      "metadata": {
        "colab": {
          "base_uri": "https://localhost:8080/"
        },
        "id": "E81__TD3Llr_",
        "outputId": "d19f168d-3e50-4a96-c7d6-0a84ea7fe8b0"
      },
      "execution_count": null,
      "outputs": [
        {
          "output_type": "stream",
          "name": "stdout",
          "text": [
            "0\n",
            "1\n",
            "4\n",
            "9\n",
            "16\n",
            "25\n",
            "36\n",
            "49\n",
            "64\n",
            "81\n",
            "100\n"
          ]
        }
      ]
    },
    {
      "cell_type": "markdown",
      "source": [
        "  ii. For the same question get the desired output using List Comprehension"
      ],
      "metadata": {
        "id": "a29EgDgIL1pF"
      }
    },
    {
      "cell_type": "code",
      "source": [
        "List = [i*i for i in range(0,11)]\n",
        "print(List)"
      ],
      "metadata": {
        "colab": {
          "base_uri": "https://localhost:8080/"
        },
        "id": "c8EN0Pn7L4p4",
        "outputId": "685f9b86-0435-40e4-a9f5-4d9446fbdd74"
      },
      "execution_count": null,
      "outputs": [
        {
          "output_type": "stream",
          "name": "stdout",
          "text": [
            "[0, 1, 4, 9, 16, 25, 36, 49, 64, 81, 100]\n"
          ]
        }
      ]
    },
    {
      "cell_type": "markdown",
      "source": [
        "  2. Convert a list of integers to a list of strings, using List comprehension"
      ],
      "metadata": {
        "id": "4PjmlR_gMMj2"
      }
    },
    {
      "cell_type": "code",
      "source": [
        "lis = [1,2,3,4,5,6,7]\n",
        "b=str(lis)\n",
        "print(b, type(b[0]))"
      ],
      "metadata": {
        "colab": {
          "base_uri": "https://localhost:8080/"
        },
        "id": "GMAHzU2yMP8F",
        "outputId": "9767f078-a91f-4458-dabc-07b0009da205"
      },
      "execution_count": null,
      "outputs": [
        {
          "output_type": "stream",
          "name": "stdout",
          "text": [
            "[1, 2, 3, 4, 5, 6, 7] <class 'str'>\n"
          ]
        }
      ]
    },
    {
      "cell_type": "markdown",
      "source": [
        "  3. Create tuples from two lists using List Comprehensions\n",
        "\n",
        "  Hint: list1 =[0,1] list2 =['zero','one']\n",
        "  Output: [(0, 'zero'), (0, 'one'), (1, 'zero'), (1, 'one')]\n"
      ],
      "metadata": {
        "id": "odyxh5PdMswW"
      }
    },
    {
      "cell_type": "code",
      "source": [
        "l1=[[0,1],['one','two']]\n",
        "l2=tuple(l1)\n",
        "print(l2)"
      ],
      "metadata": {
        "colab": {
          "base_uri": "https://localhost:8080/"
        },
        "id": "5VBoj1QtMzJG",
        "outputId": "41c26a41-d11b-4d06-f315-9d6eaafcf2c5"
      },
      "execution_count": null,
      "outputs": [
        {
          "output_type": "stream",
          "name": "stdout",
          "text": [
            "([0, 1], ['one', 'two'])\n"
          ]
        }
      ]
    }
  ]
}