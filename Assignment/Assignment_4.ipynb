{
  "nbformat": 4,
  "nbformat_minor": 0,
  "metadata": {
    "colab": {
      "provenance": []
    },
    "kernelspec": {
      "name": "python3",
      "display_name": "Python 3"
    },
    "language_info": {
      "name": "python"
    }
  },
  "cells": [
    {
      "cell_type": "markdown",
      "source": [
        "1. Write a Python function to multiply all the numbers in a list."
      ],
      "metadata": {
        "id": "PifcOAvJzvf5"
      }
    },
    {
      "cell_type": "code",
      "execution_count": 14,
      "metadata": {
        "colab": {
          "base_uri": "https://localhost:8080/"
        },
        "id": "tpudhnIJzrd1",
        "outputId": "165ac752-bb01-4723-c08c-47115b78012a"
      },
      "outputs": [
        {
          "output_type": "stream",
          "name": "stdout",
          "text": [
            "120\n"
          ]
        }
      ],
      "source": [
        "import functools\n",
        "n=[1,2,3,4,5]\n",
        "print(functools.reduce(lambda x,y:x*y,n))"
      ]
    },
    {
      "cell_type": "markdown",
      "source": [
        "2. Write a Python function to reverse a string\n",
        "  \n",
        "  i) use for loop\n",
        "  \n",
        "  ii) use while loop"
      ],
      "metadata": {
        "id": "0QgjCZZ52dja"
      }
    },
    {
      "cell_type": "code",
      "source": [
        "#use for loop\n",
        "a=\"Guvi\"\n",
        "n=len(a)\n",
        "for i in range(n-1,-1,-1):\n",
        "  print(a[i])"
      ],
      "metadata": {
        "id": "oz7-PSAL2jA0"
      },
      "execution_count": 119,
      "outputs": []
    },
    {
      "cell_type": "code",
      "source": [
        "#use While loop\n",
        "while(n>0):\n",
        "  n=n-1\n",
        "  print(a[n])"
      ],
      "metadata": {
        "colab": {
          "base_uri": "https://localhost:8080/"
        },
        "id": "sPtlCPwL3UMS",
        "outputId": "595fb2f9-5162-4f12-9a63-bff1be900655"
      },
      "execution_count": 37,
      "outputs": [
        {
          "output_type": "stream",
          "name": "stdout",
          "text": [
            "i\n",
            "v\n",
            "u\n",
            "G\n"
          ]
        }
      ]
    },
    {
      "cell_type": "markdown",
      "source": [
        "3. Write a function to add and subtract two variables"
      ],
      "metadata": {
        "id": "Wn8SY-Jo5sul"
      }
    },
    {
      "cell_type": "code",
      "source": [
        "def add(a,b):\n",
        "  return a+b, a-b\n",
        "add(5,4)"
      ],
      "metadata": {
        "colab": {
          "base_uri": "https://localhost:8080/"
        },
        "id": "tzUfUr065uM_",
        "outputId": "66b69017-a739-42aa-c3ed-9c272c8a3fd4"
      },
      "execution_count": 40,
      "outputs": [
        {
          "output_type": "execute_result",
          "data": {
            "text/plain": [
              "(9, 1)"
            ]
          },
          "metadata": {},
          "execution_count": 40
        }
      ]
    },
    {
      "cell_type": "markdown",
      "source": [
        "4. Write a function to check the number is divisible by 12"
      ],
      "metadata": {
        "id": "5SpLIsaa6Chx"
      }
    },
    {
      "cell_type": "code",
      "source": [
        "n=int(input())\n",
        "if(n%12==0):\n",
        "  print(\"%d is divisible by 12\" %(n))\n",
        "else:\n",
        "  print(\"%d is not divisible by 12\" %(n))"
      ],
      "metadata": {
        "colab": {
          "base_uri": "https://localhost:8080/"
        },
        "id": "f9UilzCT6E80",
        "outputId": "14e8315d-80fe-48f5-97f1-5717dbe9276c"
      },
      "execution_count": 42,
      "outputs": [
        {
          "output_type": "stream",
          "name": "stdout",
          "text": [
            "52\n",
            "52 is not divisible by 12\n"
          ]
        }
      ]
    },
    {
      "cell_type": "markdown",
      "source": [
        "5. Write a function to calculate the number of days and weeks"
      ],
      "metadata": {
        "id": "11l5HE0Z6zTe"
      }
    },
    {
      "cell_type": "code",
      "source": [
        "def week_days(d):\n",
        "  weeks= d //7\n",
        "  days = d%7\n",
        "  return \"%d is equivalent to %d and %d \" %(d,weeks,days)\n",
        "week_days(d = int(input()))"
      ],
      "metadata": {
        "colab": {
          "base_uri": "https://localhost:8080/",
          "height": 53
        },
        "id": "uoakaplU60PW",
        "outputId": "d56f4bbe-e26d-4a4f-d03e-9ca015753963"
      },
      "execution_count": 47,
      "outputs": [
        {
          "name": "stdout",
          "output_type": "stream",
          "text": [
            "25\n"
          ]
        },
        {
          "output_type": "execute_result",
          "data": {
            "text/plain": [
              "'25 is equivalent to 3 and 4 '"
            ],
            "application/vnd.google.colaboratory.intrinsic+json": {
              "type": "string"
            }
          },
          "metadata": {},
          "execution_count": 47
        }
      ]
    },
    {
      "cell_type": "markdown",
      "source": [
        "6.Write a Python function to Find the 5!?"
      ],
      "metadata": {
        "id": "sWHHnfKA-Wjf"
      }
    },
    {
      "cell_type": "code",
      "source": [
        "f = 1\n",
        "for i in range(1,5+1):\n",
        "  f*=i\n",
        "print(f)"
      ],
      "metadata": {
        "colab": {
          "base_uri": "https://localhost:8080/"
        },
        "id": "kamoVy2G-XO7",
        "outputId": "2494986a-e1bf-448f-9a36-541143fed0b5"
      },
      "execution_count": 50,
      "outputs": [
        {
          "output_type": "stream",
          "name": "stdout",
          "text": [
            "120\n"
          ]
        }
      ]
    },
    {
      "cell_type": "markdown",
      "source": [
        "7. Write a Python function to find the unique elements of the list = [1,2,3,3,3,3,4,5,4,2,4,2,4,4,2,4,5,4,34,654,5,7,6,5,4,3]"
      ],
      "metadata": {
        "id": "iW3Htj0S_HNc"
      }
    },
    {
      "cell_type": "code",
      "source": [
        "l= [1,2,3,3,3,3,4,5,4,2,4,2,4,4,2,4,5,4,34,654,5,7,6,5,4,3]\n",
        "a=set(l)\n",
        "print(list(a))"
      ],
      "metadata": {
        "colab": {
          "base_uri": "https://localhost:8080/"
        },
        "id": "z6fCFVpa_KkX",
        "outputId": "c9976acd-8545-4c17-ab0f-9b1ab12085e3"
      },
      "execution_count": 52,
      "outputs": [
        {
          "output_type": "stream",
          "name": "stdout",
          "text": [
            "[1, 2, 3, 4, 5, 34, 7, 6, 654]\n"
          ]
        }
      ]
    },
    {
      "cell_type": "markdown",
      "source": [
        "Types of arguments\n",
        "​\n",
        "​\n",
        "   1. Required arguments\n",
        "   2. Keyword arguments\n",
        "   3. Default arguments\n",
        "\n",
        "1. Required arguments:\n",
        "Write a program to calculate Simple Interest which accepts three arguments and returns the simple interest accordingly"
      ],
      "metadata": {
        "id": "K-Q6iTUtAIxt"
      }
    },
    {
      "cell_type": "code",
      "source": [
        "def simple_intrest(p,n,r):\n",
        "  return (p*n*r)/100\n",
        "simple_intrest(1234,2,4)"
      ],
      "metadata": {
        "colab": {
          "base_uri": "https://localhost:8080/"
        },
        "id": "U9sKRvtAAHJg",
        "outputId": "2752f731-7741-40a1-9b9a-147364aeb8ef"
      },
      "execution_count": 53,
      "outputs": [
        {
          "output_type": "execute_result",
          "data": {
            "text/plain": [
              "98.72"
            ]
          },
          "metadata": {},
          "execution_count": 53
        }
      ]
    },
    {
      "cell_type": "markdown",
      "source": [
        "2. Keyword arguments:\n",
        "Write a function which will be called with the name and message as the keyword arguments. Output will be \"printing the message with 'name' and  'message'\""
      ],
      "metadata": {
        "id": "1m-Ouku8BbGN"
      }
    },
    {
      "cell_type": "code",
      "source": [
        "def message(name,msg):\n",
        "  return \"Welcome \"+name+\", \"+msg\n",
        "message(name= \"Mowli\",msg=\"How are you?\")"
      ],
      "metadata": {
        "colab": {
          "base_uri": "https://localhost:8080/",
          "height": 35
        },
        "id": "-imtVh65BdOj",
        "outputId": "cf273c16-1077-4d66-e695-f52d3c33b904"
      },
      "execution_count": 57,
      "outputs": [
        {
          "output_type": "execute_result",
          "data": {
            "text/plain": [
              "'Welcome Mowli How are you?'"
            ],
            "application/vnd.google.colaboratory.intrinsic+json": {
              "type": "string"
            }
          },
          "metadata": {},
          "execution_count": 57
        }
      ]
    },
    {
      "cell_type": "markdown",
      "source": [
        "3. Default Arguments:\n",
        "Write a function which will be called with the name as keyword argument and age as the default arguments. Output will be \"My name is 'name' and 'age is 27'\""
      ],
      "metadata": {
        "id": "wwIorebaC2uM"
      }
    },
    {
      "cell_type": "code",
      "source": [
        "def msge(name,age='21'):\n",
        "  return \"My name is \"+name+\" age is \"+ age\n",
        "msge(\"Mowli\")"
      ],
      "metadata": {
        "colab": {
          "base_uri": "https://localhost:8080/",
          "height": 35
        },
        "id": "Z7rS9dseC5ea",
        "outputId": "91643fea-9bdc-4af5-9f51-ea75e3e158ed"
      },
      "execution_count": 60,
      "outputs": [
        {
          "output_type": "execute_result",
          "data": {
            "text/plain": [
              "'My name is Mowli age is 21'"
            ],
            "application/vnd.google.colaboratory.intrinsic+json": {
              "type": "string"
            }
          },
          "metadata": {},
          "execution_count": 60
        }
      ]
    },
    {
      "cell_type": "markdown",
      "source": [
        "# **lambda function**"
      ],
      "metadata": {
        "id": "Qvbz4rvLEI9C"
      }
    },
    {
      "cell_type": "markdown",
      "source": [
        "\n",
        "1. Get a number from user,  find if it is even or odd number?"
      ],
      "metadata": {
        "id": "WJgKE6fUEPfW"
      }
    },
    {
      "cell_type": "code",
      "source": [
        "b = lambda x: \"even\" if x%2==0 else \"Odd\"\n",
        "print(b(int(input())))"
      ],
      "metadata": {
        "colab": {
          "base_uri": "https://localhost:8080/"
        },
        "id": "6lW6PkL_ER1X",
        "outputId": "3b50d9eb-a2fe-4723-baa9-903530d32cef"
      },
      "execution_count": 74,
      "outputs": [
        {
          "output_type": "stream",
          "name": "stdout",
          "text": [
            "24\n",
            "even\n"
          ]
        }
      ]
    },
    {
      "cell_type": "markdown",
      "source": [
        "2. Take a input from user and  square it"
      ],
      "metadata": {
        "id": "kTZjp4cHH5Bs"
      }
    },
    {
      "cell_type": "code",
      "source": [
        "n1 = lambda x: x**2\n",
        "print(n1(int(input())))"
      ],
      "metadata": {
        "colab": {
          "base_uri": "https://localhost:8080/"
        },
        "id": "ExS3-rIxH6Le",
        "outputId": "8a86b8ef-63d0-44e9-a771-412712c1ea19"
      },
      "execution_count": 75,
      "outputs": [
        {
          "output_type": "stream",
          "name": "stdout",
          "text": [
            "4\n",
            "16\n"
          ]
        }
      ]
    },
    {
      "cell_type": "markdown",
      "source": [
        "\n",
        "3. Write a lambda function using logical operators?\n",
        "\n",
        "  Hint:\n",
        "\n",
        "  Check x < 10\n",
        "\n",
        "  Output: False / True"
      ],
      "metadata": {
        "id": "-qpiAndIJCa-"
      }
    },
    {
      "cell_type": "code",
      "source": [
        "n2=lambda x:x<10\n",
        "print(n2(int(input())))"
      ],
      "metadata": {
        "colab": {
          "base_uri": "https://localhost:8080/"
        },
        "id": "lBCXgxV9JK3u",
        "outputId": "88efb8ea-9241-4908-a3fc-3b57c5c22700"
      },
      "execution_count": 76,
      "outputs": [
        {
          "output_type": "stream",
          "name": "stdout",
          "text": [
            "2\n",
            "True\n"
          ]
        }
      ]
    },
    {
      "cell_type": "markdown",
      "source": [
        "4. Take an integer input from the user,  add 5 to the number and print it back?"
      ],
      "metadata": {
        "id": "Urk9gmNhJfh-"
      }
    },
    {
      "cell_type": "code",
      "source": [
        "n3=lambda x:x+5\n",
        "print(n3(int(input())))"
      ],
      "metadata": {
        "colab": {
          "base_uri": "https://localhost:8080/"
        },
        "id": "snpXEvnyJgZh",
        "outputId": "33211399-4cc1-4dac-f9c9-96a19aad27fd"
      },
      "execution_count": 77,
      "outputs": [
        {
          "output_type": "stream",
          "name": "stdout",
          "text": [
            "10\n",
            "15\n"
          ]
        }
      ]
    },
    {
      "cell_type": "markdown",
      "source": [
        "Map\n",
        "1. Add two lists using map ()\n",
        "    \n",
        "    lis1 = [12, 24, 36]\n",
        "    \n",
        "    lis2 = [41, 54, 69]\n",
        "   \n",
        "    Output:\n",
        "    [53, 78, 105]"
      ],
      "metadata": {
        "id": "c1xCIjB0KIo2"
      }
    },
    {
      "cell_type": "code",
      "source": [
        "lis1 = [12, 24, 36]\n",
        "lis2 = [41, 54, 69]\n",
        "ans = list(map(lambda x,y : x+y, lis1,lis2))\n",
        "ans"
      ],
      "metadata": {
        "colab": {
          "base_uri": "https://localhost:8080/"
        },
        "id": "e9uIsarQKN0k",
        "outputId": "bb813f5e-b65f-47de-fae5-59697f88eb70"
      },
      "execution_count": 79,
      "outputs": [
        {
          "output_type": "execute_result",
          "data": {
            "text/plain": [
              "[53, 78, 105]"
            ]
          },
          "metadata": {},
          "execution_count": 79
        }
      ]
    },
    {
      "cell_type": "markdown",
      "source": [
        "2. Use Lambda and map functions on a List, to square each element in the list = [1, 2, 3, 4, 5, 6, 7]"
      ],
      "metadata": {
        "id": "am6uFQaTKq5h"
      }
    },
    {
      "cell_type": "code",
      "source": [
        "lis = [1, 2, 3, 4, 5, 6, 7]\n",
        "ans = list(map(lambda x: x**2,lis))\n",
        "print(ans)"
      ],
      "metadata": {
        "colab": {
          "base_uri": "https://localhost:8080/"
        },
        "id": "tZK6DAxYKqX9",
        "outputId": "de7de147-25b3-4b60-de7f-942bc1552429"
      },
      "execution_count": 80,
      "outputs": [
        {
          "output_type": "stream",
          "name": "stdout",
          "text": [
            "[1, 4, 9, 16, 25, 36, 49]\n"
          ]
        }
      ]
    },
    {
      "cell_type": "markdown",
      "source": [
        "3. In the given list [1, 2, 3, 4, 5, 6, 7], find the even and odd elements in the list, use the map()function"
      ],
      "metadata": {
        "id": "fx4xCBvoLEol"
      }
    },
    {
      "cell_type": "code",
      "source": [
        "lis = [1, 2, 3, 4, 5, 6, 7]\n",
        "ans = list(map(lambda x: \"even\" if x%2==0 else \"odd\",lis))\n",
        "ans"
      ],
      "metadata": {
        "colab": {
          "base_uri": "https://localhost:8080/"
        },
        "id": "GhKaLB3-LHE6",
        "outputId": "be5dc4fb-4b9f-4414-ec3d-3c4d64ae4619"
      },
      "execution_count": 82,
      "outputs": [
        {
          "output_type": "execute_result",
          "data": {
            "text/plain": [
              "['odd', 'even', 'odd', 'even', 'odd', 'even', 'odd']"
            ]
          },
          "metadata": {},
          "execution_count": 82
        }
      ]
    },
    {
      "cell_type": "markdown",
      "source": [
        "4. In the given list [11, 12, 13, 14, 435, 6, 27], perform the Floor division using 7 on each elements on the list"
      ],
      "metadata": {
        "id": "VT-WgTJlLy3K"
      }
    },
    {
      "cell_type": "code",
      "source": [
        "l = [11, 12, 13, 14, 435, 6, 27]\n",
        "ans = list(map(lambda x: x//7,l))\n",
        "ans"
      ],
      "metadata": {
        "colab": {
          "base_uri": "https://localhost:8080/"
        },
        "id": "nCIDdjtgLzzE",
        "outputId": "e620940c-8b3b-4279-d7c3-048dae08375b"
      },
      "execution_count": 83,
      "outputs": [
        {
          "output_type": "execute_result",
          "data": {
            "text/plain": [
              "[1, 1, 1, 2, 62, 0, 3]"
            ]
          },
          "metadata": {},
          "execution_count": 83
        }
      ]
    },
    {
      "cell_type": "markdown",
      "source": [
        "Filter\n",
        "1. Using the given list lis1 = [3,12, 24, 36,43,654,65432,2,654,455,43,543] filter the numbers in list which are not divisible by 2"
      ],
      "metadata": {
        "id": "T0BoBSgcMu1t"
      }
    },
    {
      "cell_type": "code",
      "source": [
        "lis1 = [3,12, 24, 36,43,654,65432,2,654,455,43,543]\n",
        "ans = filter(lambda x: x%2!=0,lis1)\n",
        "list(ans)"
      ],
      "metadata": {
        "colab": {
          "base_uri": "https://localhost:8080/"
        },
        "id": "p2yDseFWM1NF",
        "outputId": "6c277c4c-f8c0-427f-c54a-ed2442138c9d"
      },
      "execution_count": 87,
      "outputs": [
        {
          "output_type": "execute_result",
          "data": {
            "text/plain": [
              "[3, 43, 455, 43, 543]"
            ]
          },
          "metadata": {},
          "execution_count": 87
        }
      ]
    },
    {
      "cell_type": "markdown",
      "source": [
        "2. For a given list1 = [1, 2, 3, 4, 5, 6] filter only the even numbers (Use filter)."
      ],
      "metadata": {
        "id": "wwz9CuPpNZL7"
      }
    },
    {
      "cell_type": "code",
      "source": [
        "t1 = [1, 2, 3, 4, 5, 6]\n",
        "ans = list(filter(lambda x: x%2==0,t1))\n",
        "ans"
      ],
      "metadata": {
        "colab": {
          "base_uri": "https://localhost:8080/"
        },
        "id": "H0MLxVaLNplR",
        "outputId": "3f659040-9f59-4c34-a5fc-02ef4e11434e"
      },
      "execution_count": 88,
      "outputs": [
        {
          "output_type": "execute_result",
          "data": {
            "text/plain": [
              "[2, 4, 6]"
            ]
          },
          "metadata": {},
          "execution_count": 88
        }
      ]
    },
    {
      "cell_type": "markdown",
      "source": [
        "3. For a given list = [2,3,5,3,6,3,7,4,6,7] filter only the even numbers using user defined function."
      ],
      "metadata": {
        "id": "PaAM37OrN7YD"
      }
    },
    {
      "cell_type": "code",
      "source": [
        "def filter_odd_numbers(list):\n",
        "  odd_numbers = []\n",
        "  for element in list:\n",
        "    if element % 2 == 0:\n",
        "      odd_numbers.append(element)\n",
        "  return odd_numbers\n",
        "list = [2,3,5,3,6,3,7,4,6,7]\n",
        "print(filter_odd_numbers(list))"
      ],
      "metadata": {
        "colab": {
          "base_uri": "https://localhost:8080/"
        },
        "id": "SkEqwicYPsXK",
        "outputId": "3f105f4e-c5e8-4a27-c7cc-b8ce3ab18a27"
      },
      "execution_count": 112,
      "outputs": [
        {
          "output_type": "stream",
          "name": "stdout",
          "text": [
            "[2, 6, 4, 6]\n"
          ]
        }
      ]
    },
    {
      "cell_type": "markdown",
      "source": [
        " 4. For a given list = [1, 12, 31, 4, 15, 6, 7] filter only the odd numbers using user defined function."
      ],
      "metadata": {
        "id": "Hk0IJ3tIZXrh"
      }
    },
    {
      "cell_type": "code",
      "source": [
        "def filter_odd_numbers(list):\n",
        "  odd_numbers = []\n",
        "  for element in list:\n",
        "    if element % 2 != 0:\n",
        "      odd_numbers.append(element)\n",
        "  return odd_numbers\n",
        "list = [2,3,5,3,6,3,7,4,6,7]\n",
        "print(filter_odd_numbers(list))\n"
      ],
      "metadata": {
        "colab": {
          "base_uri": "https://localhost:8080/"
        },
        "id": "3X_d03gdN4mX",
        "outputId": "04760924-1979-4e14-c5ae-ef3199868f11"
      },
      "execution_count": 111,
      "outputs": [
        {
          "output_type": "stream",
          "name": "stdout",
          "text": [
            "[3, 5, 3, 3, 7, 7]\n"
          ]
        }
      ]
    },
    {
      "cell_type": "markdown",
      "source": [
        "**Reduce**\n",
        "1. For list = [1, 2, 3, 4] multiply all the elements (use reduce function)"
      ],
      "metadata": {
        "id": "DEuucZQbZgV-"
      }
    },
    {
      "cell_type": "code",
      "source": [
        "import functools\n",
        "l=[1,2,3,4]\n",
        "print(functools.reduce(lambda x,y: x*y,l))"
      ],
      "metadata": {
        "colab": {
          "base_uri": "https://localhost:8080/"
        },
        "id": "q1rf1TiuZGy2",
        "outputId": "469d5a71-5926-46d4-ce1c-e3f238713486"
      },
      "execution_count": 113,
      "outputs": [
        {
          "output_type": "stream",
          "name": "stdout",
          "text": [
            "24\n"
          ]
        }
      ]
    },
    {
      "cell_type": "markdown",
      "source": [
        "2. For list = [ 11 , 13, 15, 16, 2,43 ]  sum all the elements (use reduce function)"
      ],
      "metadata": {
        "id": "yoy2GMItahch"
      }
    },
    {
      "cell_type": "code",
      "source": [
        "l=[11,13,15,16,2,43]\n",
        "print(functools.reduce(lambda x,y: x+y,l))"
      ],
      "metadata": {
        "colab": {
          "base_uri": "https://localhost:8080/"
        },
        "id": "LcnItvknajhV",
        "outputId": "3df5777b-3ea3-453b-cbd2-3957f039e60a"
      },
      "execution_count": 114,
      "outputs": [
        {
          "output_type": "stream",
          "name": "stdout",
          "text": [
            "100\n"
          ]
        }
      ]
    },
    {
      "cell_type": "markdown",
      "source": [
        "3. Find the maximum value in the list = [543,7,6,4567,7,78,6,6,78,765,678] (use reduce function)"
      ],
      "metadata": {
        "id": "ILt4TQhpbqLe"
      }
    },
    {
      "cell_type": "code",
      "source": [
        "l = [543,7,6,4567,7,78,6,6,78,765,678]\n",
        "print(functools.reduce(max,l))"
      ],
      "metadata": {
        "colab": {
          "base_uri": "https://localhost:8080/"
        },
        "id": "WcjLCU06cJCM",
        "outputId": "58f4aa20-3370-4729-a744-3fe51e0e7259"
      },
      "execution_count": 117,
      "outputs": [
        {
          "output_type": "stream",
          "name": "stdout",
          "text": [
            "4567\n"
          ]
        }
      ]
    },
    {
      "cell_type": "markdown",
      "source": [
        "4. Find the minimum value in the list= [543,7,6,4567,7,78,6,6,78,765,678] (use reduce function)"
      ],
      "metadata": {
        "id": "Zg_DYJoYdjad"
      }
    },
    {
      "cell_type": "code",
      "source": [
        "l = [543,7,6,4567,7,78,6,6,78,765,678]\n",
        "print(functools.reduce(min,l))"
      ],
      "metadata": {
        "colab": {
          "base_uri": "https://localhost:8080/"
        },
        "id": "BR91DMjHdkjO",
        "outputId": "9044ba80-b5b6-40cd-c3d8-c58f7e23604d"
      },
      "execution_count": 118,
      "outputs": [
        {
          "output_type": "stream",
          "name": "stdout",
          "text": [
            "6\n"
          ]
        }
      ]
    }
  ]
}
