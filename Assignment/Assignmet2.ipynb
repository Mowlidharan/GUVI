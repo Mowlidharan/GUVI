{
  "nbformat": 4,
  "nbformat_minor": 0,
  "metadata": {
    "colab": {
      "provenance": []
    },
    "kernelspec": {
      "name": "python3",
      "display_name": "Python 3"
    },
    "language_info": {
      "name": "python"
    }
  },
  "cells": [
    {
      "cell_type": "code",
      "execution_count": 1,
      "metadata": {
        "id": "Dcyagw1xPWnA"
      },
      "outputs": [],
      "source": [
        "# # Python List:\n",
        "# 1. Create your own lists otherwise use the List1 = ['hello','GUVI','GEEK']  to perform the below Python list  Operations?\n",
        "#    A. Repetition (*)\n",
        "#    B. Concatenation (+)\n",
        "#    C. Membership\n",
        "#    D. Length\n",
        "#    E. Iteration"
      ]
    },
    {
      "cell_type": "code",
      "source": [
        "#1.A. Repetition:\n",
        "l1 = ['hello','GUVI','GEEK']\n",
        "print(l1*2)"
      ],
      "metadata": {
        "colab": {
          "base_uri": "https://localhost:8080/"
        },
        "id": "Mk4R3TBnPhxg",
        "outputId": "60700c72-640e-49ac-f1c4-a9b0cd429b03"
      },
      "execution_count": 2,
      "outputs": [
        {
          "output_type": "stream",
          "name": "stdout",
          "text": [
            "['hello', 'GUVI', 'GEEK', 'hello', 'GUVI', 'GEEK']\n"
          ]
        }
      ]
    },
    {
      "cell_type": "code",
      "source": [
        "#2.Concatenation\n",
        "print(l1+l1)"
      ],
      "metadata": {
        "colab": {
          "base_uri": "https://localhost:8080/"
        },
        "id": "hBxeNf8fP5ia",
        "outputId": "a56f1f9f-6f4f-4f99-8ab6-710c0767f4c0"
      },
      "execution_count": 3,
      "outputs": [
        {
          "output_type": "stream",
          "name": "stdout",
          "text": [
            "['hello', 'GUVI', 'GEEK', 'hello', 'GUVI', 'GEEK']\n"
          ]
        }
      ]
    },
    {
      "cell_type": "code",
      "source": [
        "#3.Membership\n",
        "a='h'\n",
        "print(a in l1)"
      ],
      "metadata": {
        "colab": {
          "base_uri": "https://localhost:8080/"
        },
        "id": "np5diMjVQD4i",
        "outputId": "71f02f58-1b85-4139-ca43-912e9e947f13"
      },
      "execution_count": 4,
      "outputs": [
        {
          "output_type": "stream",
          "name": "stdout",
          "text": [
            "False\n"
          ]
        }
      ]
    },
    {
      "cell_type": "code",
      "source": [
        "#length\n",
        "print(len(l1))"
      ],
      "metadata": {
        "colab": {
          "base_uri": "https://localhost:8080/"
        },
        "id": "tdySmvCxQeV5",
        "outputId": "736a05ab-480b-44c6-919f-f0da3dee4aae"
      },
      "execution_count": 5,
      "outputs": [
        {
          "output_type": "stream",
          "name": "stdout",
          "text": [
            "3\n"
          ]
        }
      ]
    },
    {
      "cell_type": "code",
      "source": [
        "#iteration\n",
        "for i in l1:\n",
        "  print(i)"
      ],
      "metadata": {
        "colab": {
          "base_uri": "https://localhost:8080/"
        },
        "id": "D8XJeZe8QlNR",
        "outputId": "a3fdeb98-7e9f-4e1f-9013-0e3b32bf5a27"
      },
      "execution_count": 6,
      "outputs": [
        {
          "output_type": "stream",
          "name": "stdout",
          "text": [
            "hello\n",
            "GUVI\n",
            "GEEK\n"
          ]
        }
      ]
    },
    {
      "cell_type": "code",
      "source": [
        "# 2.1. Create your own lists to perform the below Python List Built-in functions?\n",
        "# otherwise use the\n",
        "#                    List1 = [15, 300, 2700, 821]\n",
        "#                    List2 = [12, 2]\n",
        "#                    List3 = [34, 567, 78]\n",
        "#    A.  max(list)\n",
        "#    B.  min(list)\n",
        "#    C.  list(seq)"
      ],
      "metadata": {
        "id": "nvGZmbwvQuUK"
      },
      "execution_count": 7,
      "outputs": []
    },
    {
      "cell_type": "code",
      "source": [
        "#Max\n",
        "l2 = [15, 300, 2700, 821]\n",
        "l3 = [12, 2]\n",
        "l4 = [34, 567, 78]\n",
        "print(max(l2))\n",
        "print(max(l3))\n",
        "print(max(l4))"
      ],
      "metadata": {
        "colab": {
          "base_uri": "https://localhost:8080/"
        },
        "id": "p9II7EArQx8a",
        "outputId": "0d27e845-a705-4ff8-afd6-9da5eb472743"
      },
      "execution_count": 8,
      "outputs": [
        {
          "output_type": "stream",
          "name": "stdout",
          "text": [
            "2700\n",
            "12\n",
            "567\n"
          ]
        }
      ]
    },
    {
      "cell_type": "code",
      "source": [
        "#Min\n",
        "print(min(l2))\n",
        "print(min(l3))\n",
        "print(min(l4))"
      ],
      "metadata": {
        "colab": {
          "base_uri": "https://localhost:8080/"
        },
        "id": "aIq_DPLLRYx0",
        "outputId": "573149ad-6afa-400d-f706-b879ef08d6af"
      },
      "execution_count": 9,
      "outputs": [
        {
          "output_type": "stream",
          "name": "stdout",
          "text": [
            "15\n",
            "2\n",
            "34\n"
          ]
        }
      ]
    },
    {
      "cell_type": "code",
      "source": [
        "#seq\n",
        "a = (23,2,33,43,54,435)\n",
        "list(a)"
      ],
      "metadata": {
        "colab": {
          "base_uri": "https://localhost:8080/"
        },
        "id": "EE3JProNRgLV",
        "outputId": "daba7c34-4f01-47fa-bbdf-e077243e40c1"
      },
      "execution_count": 10,
      "outputs": [
        {
          "output_type": "execute_result",
          "data": {
            "text/plain": [
              "[23, 2, 33, 43, 54, 435]"
            ]
          },
          "metadata": {},
          "execution_count": 10
        }
      ]
    },
    {
      "cell_type": "code",
      "source": [
        "#3.Create your own lists to perform the below Python List built-in methods\n",
        "  #  A.  list.append()\n",
        "  #  B.  list.clear()\n",
        "  #  C.  List.copy()\n",
        "  #  D.  list.count()\n",
        "  #  E.  list.extend()\n",
        "  #  F.  list.index()\n",
        "  #  G.  list.insert()\n",
        "  #  H.  list.pop()\n",
        "  #  I.  list.remove()\n",
        "  #  J.  list.reverse()\n",
        "  #  K.  list.sort()"
      ],
      "metadata": {
        "id": "OVGr4v9DSFrJ"
      },
      "execution_count": 11,
      "outputs": []
    },
    {
      "cell_type": "code",
      "source": [
        "#A.  list.append()\n",
        "a1=7\n",
        "l2.append(a1)\n",
        "l2"
      ],
      "metadata": {
        "colab": {
          "base_uri": "https://localhost:8080/"
        },
        "id": "-wZs7Y98SYZt",
        "outputId": "fcd6fe90-696a-4d31-fa66-dba76d45c399"
      },
      "execution_count": 12,
      "outputs": [
        {
          "output_type": "execute_result",
          "data": {
            "text/plain": [
              "[15, 300, 2700, 821, 7]"
            ]
          },
          "metadata": {},
          "execution_count": 12
        }
      ]
    },
    {
      "cell_type": "code",
      "source": [
        "#Clear\n",
        "l2.clear()\n",
        "l2"
      ],
      "metadata": {
        "colab": {
          "base_uri": "https://localhost:8080/"
        },
        "id": "5bAQ2oS9SqM-",
        "outputId": "ba59d9fb-2cfb-412a-bf97-9fb8aae130ab"
      },
      "execution_count": 13,
      "outputs": [
        {
          "output_type": "execute_result",
          "data": {
            "text/plain": [
              "[]"
            ]
          },
          "metadata": {},
          "execution_count": 13
        }
      ]
    },
    {
      "cell_type": "code",
      "source": [
        "#Copy\n",
        "l3.copy()\n",
        "l3"
      ],
      "metadata": {
        "colab": {
          "base_uri": "https://localhost:8080/"
        },
        "id": "zi0xt8jTSvHO",
        "outputId": "2495d7a1-fe68-4699-9fff-73bd4f678344"
      },
      "execution_count": 14,
      "outputs": [
        {
          "output_type": "execute_result",
          "data": {
            "text/plain": [
              "[12, 2]"
            ]
          },
          "metadata": {},
          "execution_count": 14
        }
      ]
    },
    {
      "cell_type": "code",
      "source": [
        "#count\n",
        "l3.count(2)"
      ],
      "metadata": {
        "id": "e6forGcwS6dr",
        "colab": {
          "base_uri": "https://localhost:8080/"
        },
        "outputId": "7e8ffd51-080f-428b-8d59-12e27d7e0817"
      },
      "execution_count": 15,
      "outputs": [
        {
          "output_type": "execute_result",
          "data": {
            "text/plain": [
              "1"
            ]
          },
          "metadata": {},
          "execution_count": 15
        }
      ]
    },
    {
      "cell_type": "code",
      "source": [
        "#E.  list.extend()\n",
        "print(l3.extend(l2))"
      ],
      "metadata": {
        "colab": {
          "base_uri": "https://localhost:8080/"
        },
        "id": "KCqoITk6RiPU",
        "outputId": "0c8908cc-8e7d-468f-9766-931f4b56628a"
      },
      "execution_count": 16,
      "outputs": [
        {
          "output_type": "stream",
          "name": "stdout",
          "text": [
            "None\n"
          ]
        }
      ]
    },
    {
      "cell_type": "code",
      "source": [
        "#F.  list.index()\n",
        "l3.index(2)"
      ],
      "metadata": {
        "colab": {
          "base_uri": "https://localhost:8080/"
        },
        "id": "dCvNrZBXSJ3U",
        "outputId": "0739da65-97bb-4c7e-9fe2-84fcc2806065"
      },
      "execution_count": 17,
      "outputs": [
        {
          "output_type": "execute_result",
          "data": {
            "text/plain": [
              "1"
            ]
          },
          "metadata": {},
          "execution_count": 17
        }
      ]
    },
    {
      "cell_type": "code",
      "source": [
        "#G.  list.insert()\n",
        "l3.insert(0,6)\n",
        "print(l3)"
      ],
      "metadata": {
        "colab": {
          "base_uri": "https://localhost:8080/"
        },
        "id": "xz5Qfg-WSadN",
        "outputId": "46d4179a-cc2e-465d-f33f-85d7810a6d35"
      },
      "execution_count": 18,
      "outputs": [
        {
          "output_type": "stream",
          "name": "stdout",
          "text": [
            "[6, 12, 2]\n"
          ]
        }
      ]
    },
    {
      "cell_type": "code",
      "source": [
        "#H.  list.pop()\n",
        "l3.pop()\n",
        "print(l3)"
      ],
      "metadata": {
        "id": "OodvAdumSaZv",
        "colab": {
          "base_uri": "https://localhost:8080/"
        },
        "outputId": "a164c929-8105-4013-f381-856e80b7b5cc"
      },
      "execution_count": 19,
      "outputs": [
        {
          "output_type": "stream",
          "name": "stdout",
          "text": [
            "[6, 12]\n"
          ]
        }
      ]
    },
    {
      "cell_type": "code",
      "source": [
        "#I.  list.remove()\n",
        "l3.remove(6)\n",
        "print(l3)"
      ],
      "metadata": {
        "id": "4YUHkkprSaXf",
        "colab": {
          "base_uri": "https://localhost:8080/"
        },
        "outputId": "b4f6e19a-3669-4210-e36b-ad874b2e5988"
      },
      "execution_count": 20,
      "outputs": [
        {
          "output_type": "stream",
          "name": "stdout",
          "text": [
            "[12]\n"
          ]
        }
      ]
    },
    {
      "cell_type": "code",
      "source": [
        "#J.  list.reverse()\n",
        "l1.reverse()\n",
        "print(l1)"
      ],
      "metadata": {
        "id": "8p_bbzz8SaVY",
        "colab": {
          "base_uri": "https://localhost:8080/"
        },
        "outputId": "98e22bd7-6bb6-48a7-ca62-9ecaf17ce38c"
      },
      "execution_count": 26,
      "outputs": [
        {
          "output_type": "stream",
          "name": "stdout",
          "text": [
            "['GEEK', 'GUVI', 'hello']\n"
          ]
        }
      ]
    },
    {
      "cell_type": "code",
      "source": [
        "#K.  list.sort()\n",
        "l4.sort()\n",
        "print(l4)"
      ],
      "metadata": {
        "id": "AqTD8VvVSaSx",
        "colab": {
          "base_uri": "https://localhost:8080/"
        },
        "outputId": "f60124b3-1608-4fe3-b05f-a0e0833b9bf4"
      },
      "execution_count": 28,
      "outputs": [
        {
          "output_type": "stream",
          "name": "stdout",
          "text": [
            "[34, 78, 567]\n"
          ]
        }
      ]
    },
    {
      "cell_type": "code",
      "source": [
        "# Python Tuple\n",
        "# Create your own Tuple to perform the below Python tuple Operations ?\n",
        "# otherwise use the below\n",
        "#                Tuple1 = ('a','b','c','d')\n",
        "#                Tuple2 = ('e','f','g','h')\n",
        "# 1. Tuple Operations\n",
        "#    A. Repetition (*)\n",
        "#    B. Concatenation (+)\n",
        "#    C. Membership\n",
        "#    D. Length\n",
        "#    E. Iteration"
      ],
      "metadata": {
        "id": "qJF4fDZ8SaPj"
      },
      "execution_count": 18,
      "outputs": []
    },
    {
      "cell_type": "code",
      "source": [
        "#A. Repetition (*)\n",
        "Tuple1 = ('a','b','c','d')\n",
        "Tuple2 = ('e','f','g','h')\n",
        "print(Tuple1*2)"
      ],
      "metadata": {
        "colab": {
          "base_uri": "https://localhost:8080/"
        },
        "id": "unUfzw8RRrUT",
        "outputId": "2a2d2824-6068-4c36-acf4-665c3ad4f2a0"
      },
      "execution_count": 29,
      "outputs": [
        {
          "output_type": "stream",
          "name": "stdout",
          "text": [
            "('a', 'b', 'c', 'd', 'a', 'b', 'c', 'd')\n"
          ]
        }
      ]
    },
    {
      "cell_type": "code",
      "source": [
        "#B. Concatenation (+)\n",
        "print(Tuple1 + Tuple2)"
      ],
      "metadata": {
        "colab": {
          "base_uri": "https://localhost:8080/"
        },
        "id": "fY2l6eVYR5tG",
        "outputId": "2a07b2e0-69ab-4c55-e045-10deb10a69ae"
      },
      "execution_count": 30,
      "outputs": [
        {
          "output_type": "stream",
          "name": "stdout",
          "text": [
            "('a', 'b', 'c', 'd', 'e', 'f', 'g', 'h')\n"
          ]
        }
      ]
    },
    {
      "cell_type": "code",
      "source": [
        "#C. Membership\n",
        "print('a' in Tuple1)"
      ],
      "metadata": {
        "colab": {
          "base_uri": "https://localhost:8080/"
        },
        "id": "yJ_shoGaSBHI",
        "outputId": "dd842d68-9402-4e24-8863-9a7534166b35"
      },
      "execution_count": 33,
      "outputs": [
        {
          "output_type": "stream",
          "name": "stdout",
          "text": [
            "True\n"
          ]
        }
      ]
    },
    {
      "cell_type": "code",
      "source": [
        "#D. Length\n",
        "print(len(Tuple1))"
      ],
      "metadata": {
        "colab": {
          "base_uri": "https://localhost:8080/"
        },
        "id": "KS8tnwsLSK72",
        "outputId": "cf59fc3d-83c6-4449-e78f-41ec7375688c"
      },
      "execution_count": 34,
      "outputs": [
        {
          "output_type": "stream",
          "name": "stdout",
          "text": [
            "4\n"
          ]
        }
      ]
    },
    {
      "cell_type": "code",
      "source": [
        "#E. Iteration\n",
        "for i in Tuple1:\n",
        "  print(i)"
      ],
      "metadata": {
        "colab": {
          "base_uri": "https://localhost:8080/"
        },
        "id": "1Dbon0jfSSXi",
        "outputId": "9ad9c81f-e2dd-4648-f0c1-f423bb4100d5"
      },
      "execution_count": 35,
      "outputs": [
        {
          "output_type": "stream",
          "name": "stdout",
          "text": [
            "a\n",
            "b\n",
            "c\n",
            "d\n"
          ]
        }
      ]
    },
    {
      "cell_type": "code",
      "source": [
        "# 2.Create your own Tuple to perform the below Python tuple inbuilt functions ?\n",
        "# otherwise use the below\n",
        "#            Tuple1 = (1,4,2,4,5,6,3,5,4,6,77,8,7,7,876,89,8765,4,5,1,876,9,3456,4234)\n",
        "#         A. max(Tuple)\n",
        "#         B. min(Tuple)\n",
        "#         C. Tuple(seq)"
      ],
      "metadata": {
        "id": "sDCqrqdwTG3_"
      },
      "execution_count": null,
      "outputs": []
    },
    {
      "cell_type": "code",
      "source": [
        "# A. max(Tuple)\n",
        "Tuple1 = (1,4,2,4,5,6,3,5,4,6,77,8,7,7,876,89,8765,4,5,1,876,9,3456,4234)\n",
        "print(max(Tuple1))"
      ],
      "metadata": {
        "colab": {
          "base_uri": "https://localhost:8080/"
        },
        "id": "yqEQ_caITJiI",
        "outputId": "81b9e96e-a1b9-4c11-eb0d-627e4c711196"
      },
      "execution_count": 36,
      "outputs": [
        {
          "output_type": "stream",
          "name": "stdout",
          "text": [
            "8765\n"
          ]
        }
      ]
    },
    {
      "cell_type": "code",
      "source": [
        "# B. min(Tuple)\n",
        "print(min(Tuple1))"
      ],
      "metadata": {
        "colab": {
          "base_uri": "https://localhost:8080/"
        },
        "id": "1eKeYksBTab_",
        "outputId": "0c620de7-449c-45df-c4f6-a70db5a0148b"
      },
      "execution_count": 37,
      "outputs": [
        {
          "output_type": "stream",
          "name": "stdout",
          "text": [
            "1\n"
          ]
        }
      ]
    },
    {
      "cell_type": "code",
      "source": [
        "# C. Tuple(seq)\n",
        "L = [21,5889,52,4,5,1587,455,5,54]\n",
        "print(tuple(L))"
      ],
      "metadata": {
        "colab": {
          "base_uri": "https://localhost:8080/"
        },
        "id": "ZS2pKR0ZTjxH",
        "outputId": "73547cc2-3c73-4612-880b-caf9ab67ee74"
      },
      "execution_count": 38,
      "outputs": [
        {
          "output_type": "stream",
          "name": "stdout",
          "text": [
            "(21, 5889, 52, 4, 5, 1587, 455, 5, 54)\n"
          ]
        }
      ]
    },
    {
      "cell_type": "code",
      "source": [
        "# # Python Set\n",
        "# Create your own Set to operate the below Python Set Operations ?\n",
        "# otherwise use the below set:\n",
        "#        Set1 = {1,4,2,4,5,6,3,5,4,6,77,8,7,7,876}\n",
        "#        Set2 = {3,432,5,6,4,6,7,6,5,6,54,567,5}\n",
        "# 1. Set Operations\n",
        "#     A. Union\n",
        "#     B. Intersection\n",
        "#     C. Difference\n",
        "#     D. Symmetric difference"
      ],
      "metadata": {
        "id": "DYJANqcNTz-v"
      },
      "execution_count": null,
      "outputs": []
    },
    {
      "cell_type": "code",
      "source": [
        "# A. Union\n",
        "Set1 = {1,4,2,4,5,6,3,5,4,6,77,8,7,7,876}\n",
        "Set2 = {3,432,5,6,4,6,7,6,5,6,54,567,5}\n",
        "print(Set1|Set2)"
      ],
      "metadata": {
        "colab": {
          "base_uri": "https://localhost:8080/"
        },
        "id": "CwnglvhuT2zV",
        "outputId": "b80bd801-6176-4bd1-bc19-f1d97e4b8403"
      },
      "execution_count": 39,
      "outputs": [
        {
          "output_type": "stream",
          "name": "stdout",
          "text": [
            "{1, 2, 3, 4, 5, 6, 7, 8, 876, 77, 432, 54, 567}\n"
          ]
        }
      ]
    },
    {
      "cell_type": "code",
      "source": [
        "# B. Intersection\n",
        "print(Set1&Set2)"
      ],
      "metadata": {
        "colab": {
          "base_uri": "https://localhost:8080/"
        },
        "id": "X9bV1J0MUhaF",
        "outputId": "02823cf8-94ce-49dc-eb6b-4f7f1d5e1e4c"
      },
      "execution_count": 40,
      "outputs": [
        {
          "output_type": "stream",
          "name": "stdout",
          "text": [
            "{3, 4, 5, 6, 7}\n"
          ]
        }
      ]
    },
    {
      "cell_type": "code",
      "source": [
        "#C. Difference\n",
        "print(Set1-Set2)"
      ],
      "metadata": {
        "colab": {
          "base_uri": "https://localhost:8080/"
        },
        "id": "45RkP_ECUtod",
        "outputId": "bed59e2a-d744-4c79-ef3d-ce3dca30d3ed"
      },
      "execution_count": 41,
      "outputs": [
        {
          "output_type": "stream",
          "name": "stdout",
          "text": [
            "{1, 2, 8, 876, 77}\n"
          ]
        }
      ]
    },
    {
      "cell_type": "code",
      "source": [
        "# D. Symmetric difference\n",
        "print(Set1^Set2)"
      ],
      "metadata": {
        "colab": {
          "base_uri": "https://localhost:8080/"
        },
        "id": "Y2HHSg_FU43O",
        "outputId": "fd088628-7ae5-4d39-bfca-ad26bbd76418"
      },
      "execution_count": 42,
      "outputs": [
        {
          "output_type": "stream",
          "name": "stdout",
          "text": [
            "{1, 2, 8, 876, 77, 432, 54, 567}\n"
          ]
        }
      ]
    },
    {
      "cell_type": "code",
      "source": [
        "# Python Dictionary\n",
        "# Create your own Dictionary to perform the below Python Built-in Dictionary functions\n",
        "# otherwise use the below Dictionary:\n",
        "#                            dict = {'Name': 'Student', 'Age': 27};\n",
        "#    A.  len(dict)\n",
        "#    B.  str(dict)\n",
        "#    C.  type(variable)"
      ],
      "metadata": {
        "id": "Ys7c5ReGVB3A"
      },
      "execution_count": null,
      "outputs": []
    },
    {
      "cell_type": "code",
      "source": [
        "from IPython.core.formatters import Dict\n",
        "# A.  len(dict)\n",
        "dict = {'Name': 'Student', 'Age': 27};\n",
        "print(len(dict))"
      ],
      "metadata": {
        "colab": {
          "base_uri": "https://localhost:8080/"
        },
        "id": "3A1z5c4NVFJr",
        "outputId": "5c5551b5-c525-4cd3-e3a3-ca6a86390a6a"
      },
      "execution_count": 45,
      "outputs": [
        {
          "output_type": "stream",
          "name": "stdout",
          "text": [
            "2\n"
          ]
        }
      ]
    },
    {
      "cell_type": "code",
      "source": [
        "# B.  str(dict)\n",
        "print(str(dict))"
      ],
      "metadata": {
        "colab": {
          "base_uri": "https://localhost:8080/"
        },
        "id": "IWxFCQHoVP90",
        "outputId": "2aff939d-bccb-44b0-c526-7d4c7f990e15"
      },
      "execution_count": 46,
      "outputs": [
        {
          "output_type": "stream",
          "name": "stdout",
          "text": [
            "{'Name': 'Student', 'Age': 27}\n"
          ]
        }
      ]
    },
    {
      "cell_type": "code",
      "source": [
        "# C.  type(variable)\n",
        "print(type(dict))"
      ],
      "metadata": {
        "colab": {
          "base_uri": "https://localhost:8080/"
        },
        "id": "3YpRBOsVVU5O",
        "outputId": "e54961ae-9743-4360-b04a-b8d3f9e4c2d7"
      },
      "execution_count": 47,
      "outputs": [
        {
          "output_type": "stream",
          "name": "stdout",
          "text": [
            "<class 'dict'>\n"
          ]
        }
      ]
    },
    {
      "cell_type": "code",
      "source": [
        "# 2.Create your own Dictionary to perform the below Python Built-in Dictionary methods\n",
        "# otherwise use the below Dictionary: ​\n",
        "#                            dictionaries = {0:\" Data\",1: \"GUVI\", 2: \"GEEK\",3:\"Python\",4:\"Happy\"}\n",
        "#    A.  dic.clear()\n",
        "#    B.  dict.copy()\n",
        "#    C.  dict.fromkeys()\n",
        "#    D.  dict.get(key[, value])\n",
        "#    E.  dict.items()\n",
        "#    F.  dict.keys()\n",
        "#    G.  dict.setdefault()\n",
        "#    H.  dict.update()\n",
        "#    I.  dict.values()"
      ],
      "metadata": {
        "id": "-9U8d7n-Vjnf"
      },
      "execution_count": null,
      "outputs": []
    },
    {
      "cell_type": "code",
      "source": [
        "# A.  dic.clear()\n",
        "dictionaries = {0:\" Data\",1: \"GUVI\", 2: \"GEEK\",3:\"Python\",4:\"Happy\"}\n",
        "dictionaries.clear()\n",
        "print(dictionaries)"
      ],
      "metadata": {
        "colab": {
          "base_uri": "https://localhost:8080/"
        },
        "id": "Ie6Jz8dQVmFG",
        "outputId": "174af7ad-2ea7-47e0-ac25-e03fbb8d844f"
      },
      "execution_count": 48,
      "outputs": [
        {
          "output_type": "stream",
          "name": "stdout",
          "text": [
            "{}\n"
          ]
        }
      ]
    },
    {
      "cell_type": "code",
      "source": [
        "# B.  dict.copy()\n",
        "d= {0:\" Data\",1: \"GUVI\", 2: \"GEEK\",3:\"Python\",4:\"Happy\"}\n",
        "d1=d.copy()\n",
        "print(d1)"
      ],
      "metadata": {
        "colab": {
          "base_uri": "https://localhost:8080/"
        },
        "id": "nOR9JPaWVyb9",
        "outputId": "f697e60c-bbdf-40da-f959-ae0527d9e5ae"
      },
      "execution_count": 49,
      "outputs": [
        {
          "output_type": "stream",
          "name": "stdout",
          "text": [
            "{0: ' Data', 1: 'GUVI', 2: 'GEEK', 3: 'Python', 4: 'Happy'}\n"
          ]
        }
      ]
    },
    {
      "cell_type": "code",
      "source": [
        "# C.  dict.fromkeys()\n",
        "print(d.fromkeys(\"Python\"))"
      ],
      "metadata": {
        "colab": {
          "base_uri": "https://localhost:8080/"
        },
        "id": "jnTTMovpWDPi",
        "outputId": "1923a21a-c7b8-4d53-b41e-315a5fe34fb9"
      },
      "execution_count": 52,
      "outputs": [
        {
          "output_type": "stream",
          "name": "stdout",
          "text": [
            "{'P': None, 'y': None, 't': None, 'h': None, 'o': None, 'n': None}\n"
          ]
        }
      ]
    },
    {
      "cell_type": "code",
      "source": [
        "# D.  dict.get(key[, value])\n",
        "print(d.get(3))"
      ],
      "metadata": {
        "colab": {
          "base_uri": "https://localhost:8080/"
        },
        "id": "zdA1eN2ZWDMN",
        "outputId": "92ca3d53-6574-4d36-c24a-8e6bb6101799"
      },
      "execution_count": 57,
      "outputs": [
        {
          "output_type": "stream",
          "name": "stdout",
          "text": [
            "Python\n"
          ]
        }
      ]
    },
    {
      "cell_type": "code",
      "source": [
        "# E.  dict.items()\n",
        "print(d.items())"
      ],
      "metadata": {
        "colab": {
          "base_uri": "https://localhost:8080/"
        },
        "id": "YlW29JNUWDKi",
        "outputId": "36a8af46-68ca-49f6-9584-75d85e11f25a"
      },
      "execution_count": 58,
      "outputs": [
        {
          "output_type": "stream",
          "name": "stdout",
          "text": [
            "dict_items([(0, ' Data'), (1, 'GUVI'), (2, 'GEEK'), (3, 'Python'), (4, 'Happy')])\n"
          ]
        }
      ]
    },
    {
      "cell_type": "code",
      "source": [
        "# F.  dict.keys()\n",
        "print(d.keys())"
      ],
      "metadata": {
        "colab": {
          "base_uri": "https://localhost:8080/"
        },
        "id": "1VJk-uxlWDIE",
        "outputId": "98d5227a-255d-49d2-c80e-fd25fe2d6ffe"
      },
      "execution_count": 59,
      "outputs": [
        {
          "output_type": "stream",
          "name": "stdout",
          "text": [
            "dict_keys([0, 1, 2, 3, 4])\n"
          ]
        }
      ]
    },
    {
      "cell_type": "code",
      "source": [
        "# G.  dict.setdefault()\n",
        "print(d.setdefault(2))"
      ],
      "metadata": {
        "colab": {
          "base_uri": "https://localhost:8080/"
        },
        "id": "vQN3xLOxWDFc",
        "outputId": "af275b24-3acf-4010-bf2e-30b841284ebf"
      },
      "execution_count": 61,
      "outputs": [
        {
          "output_type": "stream",
          "name": "stdout",
          "text": [
            "GEEK\n"
          ]
        }
      ]
    },
    {
      "cell_type": "code",
      "source": [
        "# H.  dict.update()\n",
        "d.update({5:\"Sad\"})\n",
        "print(d)"
      ],
      "metadata": {
        "colab": {
          "base_uri": "https://localhost:8080/"
        },
        "id": "yZWfLunsWDC8",
        "outputId": "4cc225ae-6ced-4663-e59c-5072029e2d4a"
      },
      "execution_count": 68,
      "outputs": [
        {
          "output_type": "stream",
          "name": "stdout",
          "text": [
            "{0: ' Data', 1: 'GUVI', 2: 'GEEK', 3: 'Python', 4: 'Happy', 5: 'Sad'}\n"
          ]
        }
      ]
    },
    {
      "cell_type": "code",
      "source": [
        "# I.  dict.values()\n",
        "print(d.values())"
      ],
      "metadata": {
        "colab": {
          "base_uri": "https://localhost:8080/"
        },
        "id": "nsQIRIJ7XKfG",
        "outputId": "ae9a1b98-fed5-438a-f815-f53ea9644dd6"
      },
      "execution_count": 69,
      "outputs": [
        {
          "output_type": "stream",
          "name": "stdout",
          "text": [
            "dict_values([' Data', 'GUVI', 'GEEK', 'Python', 'Happy', 'Sad'])\n"
          ]
        }
      ]
    },
    {
      "cell_type": "code",
      "source": [
        "# # Conditional Statements\n",
        "#    1. IF\n",
        "#    2. IF-ELSE\n",
        "#    3. If...Elif...Else"
      ],
      "metadata": {
        "id": "XJpSF4otX__s"
      },
      "execution_count": null,
      "outputs": []
    },
    {
      "cell_type": "code",
      "source": [
        "# 1. Write if statement 13 is greater than 25?\n",
        "a=13\n",
        "b=25\n",
        "if(a>b):\n",
        "  print(\"%d is greater than %d\" %(a,b))\n",
        "else:\n",
        "  print(\"%d is greater than %d\" %(b,a))"
      ],
      "metadata": {
        "colab": {
          "base_uri": "https://localhost:8080/"
        },
        "id": "p88T99CPYEe4",
        "outputId": "9ad1d960-6288-4918-b04b-7004e0c2eb14"
      },
      "execution_count": 70,
      "outputs": [
        {
          "output_type": "stream",
          "name": "stdout",
          "text": [
            "25 is greater than 13\n"
          ]
        }
      ]
    },
    {
      "cell_type": "code",
      "source": [
        "# 2.  Write a if else  statement to find if the number is divisible by 25?\n",
        "c=int(input())\n",
        "if(c%25==0):\n",
        "  print(\"%d is divisible by 25\" %c)\n",
        "else:\n",
        "  print(\"%d isn't divisible by 25\" %c)"
      ],
      "metadata": {
        "colab": {
          "base_uri": "https://localhost:8080/"
        },
        "id": "wkuyTl-gYld4",
        "outputId": "ad8a8707-1b68-464d-ec3d-6f6e47bbf47e"
      },
      "execution_count": 72,
      "outputs": [
        {
          "output_type": "stream",
          "name": "stdout",
          "text": [
            "100\n",
            "100 is divisible by 25\n"
          ]
        }
      ]
    },
    {
      "cell_type": "code",
      "source": [
        "# 3.Using the three variables 'a = 154; b = 2451; c = 6054',\n",
        "# Write a If...Elif...Else statement to find the greatest number\n",
        "a=154\n",
        "b=2451\n",
        "c=6054\n",
        "if(a>b and a>c):\n",
        "  print(\"%d is greatest number\" %a)\n",
        "elif(b>a and b>c):\n",
        "  print(\"%d is greatest number\" %b)\n",
        "else:\n",
        "  print(\"%d is greatest number\" %c)"
      ],
      "metadata": {
        "colab": {
          "base_uri": "https://localhost:8080/"
        },
        "id": "D5iW-4d2ZCR2",
        "outputId": "6a0adacb-e726-40f6-92c2-ed43c2862c65"
      },
      "execution_count": 74,
      "outputs": [
        {
          "output_type": "stream",
          "name": "stdout",
          "text": [
            "6054 is greatest number\n"
          ]
        }
      ]
    }
  ]
}